{
  "nbformat": 4,
  "nbformat_minor": 0,
  "metadata": {
    "colab": {
      "name": "intro to A/b Testing.ipynb",
      "provenance": [],
      "collapsed_sections": []
    },
    "kernelspec": {
      "name": "python3",
      "display_name": "Python 3"
    }
  },
  "cells": [
    {
      "cell_type": "markdown",
      "metadata": {
        "id": "eNzvJF0m7Fyu"
      },
      "source": [
        "# Understanding two tailed test "
      ]
    },
    {
      "cell_type": "markdown",
      "metadata": {
        "id": "HBCEK_PT7RP_"
      },
      "source": [
        "**consider a problem,**\r\n",
        "\r\n",
        "Amazon is testing a new delivery system to cut down delivery time and wants to see if it should be implemented company wide. Current mean delivery time is 2 days.\r\n"
      ]
    },
    {
      "cell_type": "markdown",
      "metadata": {
        "id": "U6QP8GvC8b0v"
      },
      "source": [
        "# **Null >= 2** (that's what the current delivery system is given us)\r\n",
        "# **Alternative hypothesis < 2** (we gonna know if the current delivery system is gonna cut it down to less than 2 days)"
      ]
    },
    {
      "cell_type": "markdown",
      "metadata": {
        "id": "NmODYq99-A42"
      },
      "source": [
        "# How to implement this system?"
      ]
    },
    {
      "cell_type": "markdown",
      "metadata": {
        "id": "R69S9vdJFAyU"
      },
      "source": [
        "\r\n",
        "![](https://www.researchgate.net/publication/320285208/figure/fig2/AS:547713716584449@1507596534948/P-value-on-the-left-and-right-tailed-graphic-with-null-hypothesis.png)"
      ]
    },
    {
      "cell_type": "markdown",
      "metadata": {
        "id": "mtxdFFje-Ex1"
      },
      "source": [
        "let's say amazon will take sample of 1000 orders and see if that delivery time been cut down( <2),if yes then we have evidence to point  to alternative hypothesis and we are gonna implement our new delivery system,otherwise we won't"
      ]
    },
    {
      "cell_type": "markdown",
      "metadata": {
        "id": "tb_QNLBLEJqW"
      },
      "source": [
        "\r\n",
        "![](https://www.statisticssolutions.com/wp-content/uploads/2017/12/rachnovblog.jpg)\r\n"
      ]
    },
    {
      "cell_type": "markdown",
      "metadata": {
        "id": "jLFzGGEiHUBv"
      },
      "source": [
        "# 2 tailed test"
      ]
    },
    {
      "cell_type": "markdown",
      "metadata": {
        "id": "Z-sjEzVuHaiZ"
      },
      "source": [
        "\r\n",
        "![](https://www.fromthegenesis.com/wp-content/uploads/2018/06/Types-of-Hypothesis-Tests.jpg)\r\n"
      ]
    },
    {
      "cell_type": "code",
      "metadata": {
        "id": "frgM2m8rRCTn"
      },
      "source": [
        ""
      ],
      "execution_count": null,
      "outputs": []
    },
    {
      "cell_type": "code",
      "metadata": {
        "id": "TiIAAP7NRCNb"
      },
      "source": [
        ""
      ],
      "execution_count": null,
      "outputs": []
    },
    {
      "cell_type": "markdown",
      "metadata": {
        "id": "BHabp9mARC1q"
      },
      "source": [
        "# Choosing variables"
      ]
    },
    {
      "cell_type": "markdown",
      "metadata": {
        "id": "alqVINjbYlx4"
      },
      "source": [
        "1. A control group - They'll be shown the old design\r\n",
        "\r\n",
        "2. A treatment (or experimental) group - They'll be shown the new design"
      ]
    },
    {
      "cell_type": "markdown",
      "metadata": {
        "id": "5piybLxjY7hF"
      },
      "source": [
        "systematic difference between the groups is the design of the product page"
      ]
    },
    {
      "cell_type": "markdown",
      "metadata": {
        "id": "u-9LKNeVPC7U"
      },
      "source": [
        "# Choose a sample size"
      ]
    },
    {
      "cell_type": "markdown",
      "metadata": {
        "id": "UyXAhETjeyV-"
      },
      "source": [
        "**Power analysis** is normally conducted before the data collection.  The main purpose underlying power analysis is to help the researcher to determine the smallest sample size that is suitable to detect the effect of a given test at the desired level of significance."
      ]
    },
    {
      "cell_type": "markdown",
      "metadata": {
        "id": "4LvcKqQpeLJW"
      },
      "source": [
        "The power of a binary hypothesis test is the probability that the test rejects the null hypothesis when a specific alternative hypothesis is true — i.e., it indicates the probability of avoiding a type II error."
      ]
    },
    {
      "cell_type": "code",
      "metadata": {
        "colab": {
          "base_uri": "https://localhost:8080/"
        },
        "id": "Tr2KVCFM7D_5",
        "outputId": "4309133a-f6a5-4706-aa07-a3b0d96ff2ff"
      },
      "source": [
        "# Packages imports\r\n",
        "import numpy as np\r\n",
        "import pandas as pd\r\n",
        "import scipy.stats as stats\r\n",
        "import statsmodels.stats.api as sms\r\n",
        "import matplotlib as mpl\r\n",
        "import matplotlib.pyplot as plt\r\n",
        "import seaborn as sns\r\n",
        "from math import ceil\r\n",
        "\r\n",
        "%matplotlib inline\r\n",
        "\r\n",
        "# Some plot styling preferences\r\n",
        "plt.style.use('seaborn-whitegrid')\r\n",
        "font = {'family' : 'Helvetica',\r\n",
        "        'weight' : 'bold',\r\n",
        "        'size'   : 14}\r\n",
        "\r\n",
        "mpl.rc('font', **font)\r\n",
        "\r\n",
        "'''\r\n",
        "* Effect size is a quantitative measure of the magnitude of the experimental effect. \r\n",
        "The larger the effect size the stronger the relationship between two variables. \r\n",
        "You can look at the effect size when comparing any two groups to see how substantially different they are.\r\n",
        "\r\n",
        "\r\n",
        "* How big of a difference we expect there to be between the conversion rates\r\n",
        "'''\r\n",
        "effect_size = sms.proportion_effectsize(0.13, 0.15)    # Calculating effect size based on our expected rates\r\n",
        "\r\n",
        "print(effect_size)\r\n",
        "'''\r\n",
        "power=0.8 == 80% chance to detect it as statistically significant in our test with the sample size we \r\n",
        "calculate.\r\n",
        "'''\r\n",
        "\r\n",
        "#https://www.statsmodels.org/stable/generated/statsmodels.stats.power.NormalIndPower.solve_power.html\r\n",
        "\r\n",
        "required_n = sms.NormalIndPower().solve_power(\r\n",
        "    effect_size, \r\n",
        "    power=0.8, \r\n",
        "    alpha=0.05, \r\n",
        "    ratio=1\r\n",
        "    )                                                  # Calculating sample size needed\r\n",
        "\r\n",
        "required_n = ceil(required_n)                          # Rounding up to next whole number                          \r\n",
        "\r\n",
        "print(required_n) "
      ],
      "execution_count": null,
      "outputs": [
        {
          "output_type": "stream",
          "text": [
            "-0.0576728617308947\n",
            "4720\n"
          ],
          "name": "stdout"
        }
      ]
    },
    {
      "cell_type": "code",
      "metadata": {
        "id": "Y6H0ATuejDdr"
      },
      "source": [
        "#We’d need at least 4720 observations for each group."
      ],
      "execution_count": null,
      "outputs": []
    },
    {
      "cell_type": "markdown",
      "metadata": {
        "id": "crOXhXQ_lm2F"
      },
      "source": [
        "**what i will try today?**\r\n",
        "\r\n",
        "try a/b test using this data : https://www.kaggle.com/zhangluyuan/ab-testing?select=ab_data.csv"
      ]
    },
    {
      "cell_type": "code",
      "metadata": {
        "id": "fR1kSeFiOfly"
      },
      "source": [
        ""
      ],
      "execution_count": null,
      "outputs": []
    },
    {
      "cell_type": "code",
      "metadata": {
        "id": "guAJmubTnKYB"
      },
      "source": [
        ""
      ],
      "execution_count": null,
      "outputs": []
    }
  ]
}