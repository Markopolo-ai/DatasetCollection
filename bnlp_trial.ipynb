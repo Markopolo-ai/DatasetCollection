{
  "nbformat": 4,
  "nbformat_minor": 0,
  "metadata": {
    "colab": {
      "name": "bnlp trial",
      "provenance": [],
      "collapsed_sections": []
    },
    "kernelspec": {
      "name": "python3",
      "display_name": "Python 3"
    }
  },
  "cells": [
    {
      "cell_type": "markdown",
      "metadata": {
        "id": "yRrJ99Ws9X1G",
        "colab_type": "text"
      },
      "source": [
        "ref : https://github.com/sagorbrur/bnlp"
      ]
    },
    {
      "cell_type": "code",
      "metadata": {
        "id": "ISw_TuwTA56q",
        "colab_type": "code",
        "colab": {
          "base_uri": "https://localhost:8080/",
          "height": 33
        },
        "outputId": "181af26d-30b9-4173-8d6d-4a0d76d6fbe0"
      },
      "source": [
        "from google.colab import drive\n",
        "drive.mount('/content/drive')"
      ],
      "execution_count": 1,
      "outputs": [
        {
          "output_type": "stream",
          "text": [
            "Drive already mounted at /content/drive; to attempt to forcibly remount, call drive.mount(\"/content/drive\", force_remount=True).\n"
          ],
          "name": "stdout"
        }
      ]
    },
    {
      "cell_type": "code",
      "metadata": {
        "id": "mY7V8vxdcZM5",
        "colab_type": "code",
        "colab": {
          "base_uri": "https://localhost:8080/",
          "height": 487
        },
        "outputId": "e12a7dba-3f6d-4dd7-cedc-d77e6caa13f9"
      },
      "source": [
        "!pip install bnlp_toolkit"
      ],
      "execution_count": 2,
      "outputs": [
        {
          "output_type": "stream",
          "text": [
            "Requirement already satisfied: bnlp_toolkit in /usr/local/lib/python3.6/dist-packages (2.3)\n",
            "Requirement already satisfied: fasttext in /usr/local/lib/python3.6/dist-packages (from bnlp_toolkit) (0.9.2)\n",
            "Requirement already satisfied: scipy in /usr/local/lib/python3.6/dist-packages (from bnlp_toolkit) (1.4.1)\n",
            "Requirement already satisfied: gensim in /usr/local/lib/python3.6/dist-packages (from bnlp_toolkit) (3.6.0)\n",
            "Requirement already satisfied: sentencepiece in /usr/local/lib/python3.6/dist-packages (from bnlp_toolkit) (0.1.91)\n",
            "Requirement already satisfied: nltk in /usr/local/lib/python3.6/dist-packages (from bnlp_toolkit) (3.2.5)\n",
            "Requirement already satisfied: sklearn-crfsuite in /usr/local/lib/python3.6/dist-packages (from bnlp_toolkit) (0.3.6)\n",
            "Requirement already satisfied: numpy in /usr/local/lib/python3.6/dist-packages (from bnlp_toolkit) (1.18.5)\n",
            "Requirement already satisfied: pybind11>=2.2 in /usr/local/lib/python3.6/dist-packages (from fasttext->bnlp_toolkit) (2.5.0)\n",
            "Requirement already satisfied: setuptools>=0.7.0 in /usr/local/lib/python3.6/dist-packages (from fasttext->bnlp_toolkit) (50.3.0)\n",
            "Requirement already satisfied: six>=1.5.0 in /usr/local/lib/python3.6/dist-packages (from gensim->bnlp_toolkit) (1.15.0)\n",
            "Requirement already satisfied: smart-open>=1.2.1 in /usr/local/lib/python3.6/dist-packages (from gensim->bnlp_toolkit) (2.1.1)\n",
            "Requirement already satisfied: tabulate in /usr/local/lib/python3.6/dist-packages (from sklearn-crfsuite->bnlp_toolkit) (0.8.7)\n",
            "Requirement already satisfied: python-crfsuite>=0.8.3 in /usr/local/lib/python3.6/dist-packages (from sklearn-crfsuite->bnlp_toolkit) (0.9.7)\n",
            "Requirement already satisfied: tqdm>=2.0 in /usr/local/lib/python3.6/dist-packages (from sklearn-crfsuite->bnlp_toolkit) (4.41.1)\n",
            "Requirement already satisfied: requests in /usr/local/lib/python3.6/dist-packages (from smart-open>=1.2.1->gensim->bnlp_toolkit) (2.23.0)\n",
            "Requirement already satisfied: boto3 in /usr/local/lib/python3.6/dist-packages (from smart-open>=1.2.1->gensim->bnlp_toolkit) (1.14.59)\n",
            "Requirement already satisfied: boto in /usr/local/lib/python3.6/dist-packages (from smart-open>=1.2.1->gensim->bnlp_toolkit) (2.49.0)\n",
            "Requirement already satisfied: idna<3,>=2.5 in /usr/local/lib/python3.6/dist-packages (from requests->smart-open>=1.2.1->gensim->bnlp_toolkit) (2.10)\n",
            "Requirement already satisfied: chardet<4,>=3.0.2 in /usr/local/lib/python3.6/dist-packages (from requests->smart-open>=1.2.1->gensim->bnlp_toolkit) (3.0.4)\n",
            "Requirement already satisfied: urllib3!=1.25.0,!=1.25.1,<1.26,>=1.21.1 in /usr/local/lib/python3.6/dist-packages (from requests->smart-open>=1.2.1->gensim->bnlp_toolkit) (1.24.3)\n",
            "Requirement already satisfied: certifi>=2017.4.17 in /usr/local/lib/python3.6/dist-packages (from requests->smart-open>=1.2.1->gensim->bnlp_toolkit) (2020.6.20)\n",
            "Requirement already satisfied: botocore<1.18.0,>=1.17.59 in /usr/local/lib/python3.6/dist-packages (from boto3->smart-open>=1.2.1->gensim->bnlp_toolkit) (1.17.59)\n",
            "Requirement already satisfied: s3transfer<0.4.0,>=0.3.0 in /usr/local/lib/python3.6/dist-packages (from boto3->smart-open>=1.2.1->gensim->bnlp_toolkit) (0.3.3)\n",
            "Requirement already satisfied: jmespath<1.0.0,>=0.7.1 in /usr/local/lib/python3.6/dist-packages (from boto3->smart-open>=1.2.1->gensim->bnlp_toolkit) (0.10.0)\n",
            "Requirement already satisfied: docutils<0.16,>=0.10 in /usr/local/lib/python3.6/dist-packages (from botocore<1.18.0,>=1.17.59->boto3->smart-open>=1.2.1->gensim->bnlp_toolkit) (0.15.2)\n",
            "Requirement already satisfied: python-dateutil<3.0.0,>=2.1 in /usr/local/lib/python3.6/dist-packages (from botocore<1.18.0,>=1.17.59->boto3->smart-open>=1.2.1->gensim->bnlp_toolkit) (2.8.1)\n"
          ],
          "name": "stdout"
        }
      ]
    },
    {
      "cell_type": "markdown",
      "metadata": {
        "id": "p_M5ZUrFY2Zf",
        "colab_type": "text"
      },
      "source": [
        "# Cool Imports"
      ]
    },
    {
      "cell_type": "code",
      "metadata": {
        "id": "W2W5QtpuY5u3",
        "colab_type": "code",
        "colab": {
          "base_uri": "https://localhost:8080/",
          "height": 67
        },
        "outputId": "d9d42d1b-d51a-4a1f-f1f2-352af8fc2f21"
      },
      "source": [
        "import gensim\n",
        "from bnlp.bengali_word2vec import Bengali_Word2Vec\n",
        "from bnlp.sentencepiece_tokenizer import SP_Tokenizer\n",
        "from bnlp.basic_tokenizer import BasicTokenizer\n",
        "from bnlp.ner import NER\n",
        "from bnlp.glove_wordvector import BN_Glove\n",
        "from bnlp.nltk_tokenizer import NLTK_Tokenizer\n",
        "from bnlp.pos import POS\n",
        "import nltk\n",
        "from bnlp.bengali_fasttext import Bengali_Fasttext\n",
        "nltk.download(\"punkt\")"
      ],
      "execution_count": 3,
      "outputs": [
        {
          "output_type": "stream",
          "text": [
            "[nltk_data] Downloading package punkt to /root/nltk_data...\n",
            "[nltk_data]   Package punkt is already up-to-date!\n"
          ],
          "name": "stdout"
        },
        {
          "output_type": "execute_result",
          "data": {
            "text/plain": [
              "True"
            ]
          },
          "metadata": {
            "tags": []
          },
          "execution_count": 3
        }
      ]
    },
    {
      "cell_type": "markdown",
      "metadata": {
        "id": "pkIc8E8jappH",
        "colab_type": "text"
      },
      "source": [
        "# Part 1 : BANGLA WORD EMBEDDING"
      ]
    },
    {
      "cell_type": "markdown",
      "metadata": {
        "id": "-DqJg2QXbE3i",
        "colab_type": "text"
      },
      "source": [
        "\n",
        "\n",
        "*   Sentencepiece, Word2Vec, Fasttext, GloVe model trained with [Bengali Wikipedia Dump Dataset](https://dumps.wikimedia.org/bnwiki/latest/)\n",
        "*   SentencePiece Training Vocab Size=50000\n",
        "* Fasttext trained with total words = 20M, vocab size = 1171011, epoch=50, embedding dimension = 300 and the training loss = 0.318668,\n",
        "* Word2Vec word embedding dimension = 300\n",
        "* To Know Bengali GloVe Wordvector and training process follow this repository\n",
        "* Bengali CRF POS Tagging was training with nltr dataset with 80% accuracy.\n",
        "* Bengali CRF NER Tagging was train with this data with 90% accuracy.\n",
        "\n"
      ]
    },
    {
      "cell_type": "markdown",
      "metadata": {
        "id": "_9cUQhiSB4KU",
        "colab_type": "text"
      },
      "source": [
        "# load Pretrained \"BANGLA WORD to VECTOR\" Model"
      ]
    },
    {
      "cell_type": "code",
      "metadata": {
        "id": "VfugazeLVP2o",
        "colab_type": "code",
        "colab": {
          "base_uri": "https://localhost:8080/",
          "height": 120
        },
        "outputId": "132e767b-15e9-4889-fb54-c459081a2ecf"
      },
      "source": [
        "%%time\n",
        "model = gensim.models.Word2Vec.load('/content/drive/My Drive/datasets/bn_word2vec/bengali_word2vec.model')\n",
        "bwv = Bengali_Word2Vec()\n",
        "model_path = \"/content/drive/My Drive/datasets/bn_word2vec/bengali_word2vec.model\"\n",
        "word = 'আমার'\n",
        "vector = bwv.generate_word_vector(model_path, word)\n",
        "print(vector.shape)\n",
        "#print(vector) \n",
        "\n"
      ],
      "execution_count": 4,
      "outputs": [
        {
          "output_type": "stream",
          "text": [
            "/usr/local/lib/python3.6/dist-packages/smart_open/smart_open_lib.py:254: UserWarning: This function is deprecated, use smart_open.open instead. See the migration notes for details: https://github.com/RaRe-Technologies/smart_open/blob/master/README.rst#migrating-to-the-new-open-function\n",
            "  'See the migration notes for details: %s' % _MIGRATION_NOTES_URL\n"
          ],
          "name": "stderr"
        },
        {
          "output_type": "stream",
          "text": [
            "(300,)\n",
            "CPU times: user 13.9 s, sys: 8.21 s, total: 22.1 s\n",
            "Wall time: 50.2 s\n"
          ],
          "name": "stdout"
        }
      ]
    },
    {
      "cell_type": "markdown",
      "metadata": {
        "id": "bk08FRyUb1bM",
        "colab_type": "text"
      },
      "source": [
        "if we wish to Train Bengali Word2Vec with our own dataset then we can use  the  below code snippet"
      ]
    },
    {
      "cell_type": "code",
      "metadata": {
        "id": "RYblXbW0qKnL",
        "colab_type": "code",
        "colab": {
          "base_uri": "https://localhost:8080/",
          "height": 120
        },
        "outputId": "c901de2a-f382-4fd4-9149-51709e3bd5eb"
      },
      "source": [
        "%%time\n",
        "bwv = Bengali_Word2Vec(True)\n",
        "data_file = \"/content/drive/My Drive/datasets/News Articles/ebala_articles.txt\"\n",
        "model_name = \"test_model.model\"\n",
        "vector_name = \"test_vector.vector\"\n",
        "bwv.train_word2vec(data_file, model_name, vector_name)\n"
      ],
      "execution_count": 5,
      "outputs": [
        {
          "output_type": "stream",
          "text": [
            "/usr/local/lib/python3.6/dist-packages/smart_open/smart_open_lib.py:254: UserWarning: This function is deprecated, use smart_open.open instead. See the migration notes for details: https://github.com/RaRe-Technologies/smart_open/blob/master/README.rst#migrating-to-the-new-open-function\n",
            "  'See the migration notes for details: %s' % _MIGRATION_NOTES_URL\n"
          ],
          "name": "stderr"
        },
        {
          "output_type": "stream",
          "text": [
            "test_model.model and test_vector.vector saved in your current directory.\n",
            "CPU times: user 2min 46s, sys: 3.09 s, total: 2min 49s\n",
            "Wall time: 2min 19s\n"
          ],
          "name": "stdout"
        }
      ]
    },
    {
      "cell_type": "code",
      "metadata": {
        "id": "7GsDnl7lefpS",
        "colab_type": "code",
        "colab": {
          "base_uri": "https://localhost:8080/",
          "height": 270
        },
        "outputId": "1de45d60-327d-440e-a19a-725706c329c9"
      },
      "source": [
        "words=model.most_similar(positive=['খব'], negative=[], topn=10)\n",
        "\n",
        "for w in words:\n",
        "  print(w[0])"
      ],
      "execution_count": 6,
      "outputs": [
        {
          "output_type": "stream",
          "text": [
            "/usr/local/lib/python3.6/dist-packages/ipykernel_launcher.py:1: DeprecationWarning: Call to deprecated `most_similar` (Method will be removed in 4.0.0, use self.wv.most_similar() instead).\n",
            "  \"\"\"Entry point for launching an IPython kernel.\n",
            "/usr/local/lib/python3.6/dist-packages/gensim/matutils.py:737: FutureWarning: Conversion of the second argument of issubdtype from `int` to `np.signedinteger` is deprecated. In future, it will be treated as `np.int64 == np.dtype(int).type`.\n",
            "  if np.issubdtype(vec.dtype, np.int):\n"
          ],
          "name": "stderr"
        },
        {
          "output_type": "stream",
          "text": [
            "(১৮৯৪-১৯৭৯)\n",
            "\"খুব\n",
            "কানকান\n",
            "'তুষারঝড়ের\n",
            "'দার\n",
            "দর্শকমণ্ডলী\n",
            "ষাটটিরও\n",
            "দামি,\n",
            "২৮৫,০০০-এর\n",
            "ততো\n"
          ],
          "name": "stdout"
        }
      ]
    },
    {
      "cell_type": "markdown",
      "metadata": {
        "id": "an_dEb8bf9ju",
        "colab_type": "text"
      },
      "source": [
        "it says \"খুব is very close to the word খব"
      ]
    },
    {
      "cell_type": "code",
      "metadata": {
        "id": "ZdvZvDH3BrSR",
        "colab_type": "code",
        "colab": {
          "base_uri": "https://localhost:8080/",
          "height": 270
        },
        "outputId": "49b9e7e0-105d-4a70-f47e-02b4817f7326"
      },
      "source": [
        "words=model.most_similar(positive=['অমি'], negative=[], topn=10)\n",
        "\n",
        "for w in words:\n",
        "  print(w[0])"
      ],
      "execution_count": 7,
      "outputs": [
        {
          "output_type": "stream",
          "text": [
            "/usr/local/lib/python3.6/dist-packages/ipykernel_launcher.py:1: DeprecationWarning: Call to deprecated `most_similar` (Method will be removed in 4.0.0, use self.wv.most_similar() instead).\n",
            "  \"\"\"Entry point for launching an IPython kernel.\n",
            "/usr/local/lib/python3.6/dist-packages/gensim/matutils.py:737: FutureWarning: Conversion of the second argument of issubdtype from `int` to `np.signedinteger` is deprecated. In future, it will be treated as `np.int64 == np.dtype(int).type`.\n",
            "  if np.issubdtype(vec.dtype, np.int):\n"
          ],
          "name": "stderr"
        },
        {
          "output_type": "stream",
          "text": [
            "শরণ,\n",
            "ইনসান\n",
            "বারদেম,\n",
            "।যিনি\n",
            "স্বপন,\n",
            "হাসিন\n",
            "শ্বেতকেতু,\n",
            "রায়;\n",
            "বাগচী,\n",
            "রাণা,\n"
          ],
          "name": "stdout"
        }
      ]
    },
    {
      "cell_type": "markdown",
      "metadata": {
        "id": "Z62jkqYdgf9M",
        "colab_type": "text"
      },
      "source": [
        "we know that \"অমি\" is not misspelled world,it can be a name of a person so you can see that our bengali word2vec showing  us some bangla names that can be close to অমি,pretty cool stuff right? :)"
      ]
    },
    {
      "cell_type": "code",
      "metadata": {
        "id": "QceCk3H3Ri1g",
        "colab_type": "code",
        "colab": {
          "base_uri": "https://localhost:8080/",
          "height": 270
        },
        "outputId": "4c364eb7-e8b0-4239-f08d-1e1f86fe2c8e"
      },
      "source": [
        "words=model.most_similar(positive=['আমি'], negative=[], topn=10)\n",
        "for w in words:\n",
        "  print(w[0])"
      ],
      "execution_count": 8,
      "outputs": [
        {
          "output_type": "stream",
          "text": [
            "তুমি\n",
            "আমাকে\n",
            "আপনি\n",
            "আমার\n",
            "তোমরা\n",
            "তোমার\n",
            "\"আমি\n",
            "আমরা\n",
            "তো\n",
            "তোমাকে\n"
          ],
          "name": "stdout"
        },
        {
          "output_type": "stream",
          "text": [
            "/usr/local/lib/python3.6/dist-packages/ipykernel_launcher.py:1: DeprecationWarning: Call to deprecated `most_similar` (Method will be removed in 4.0.0, use self.wv.most_similar() instead).\n",
            "  \"\"\"Entry point for launching an IPython kernel.\n",
            "/usr/local/lib/python3.6/dist-packages/gensim/matutils.py:737: FutureWarning: Conversion of the second argument of issubdtype from `int` to `np.signedinteger` is deprecated. In future, it will be treated as `np.int64 == np.dtype(int).type`.\n",
            "  if np.issubdtype(vec.dtype, np.int):\n"
          ],
          "name": "stderr"
        }
      ]
    },
    {
      "cell_type": "markdown",
      "metadata": {
        "id": "ycfg5ALhhQL8",
        "colab_type": "text"
      },
      "source": [
        "now, আমি is not a name and you can see most similar words for আমি that our  bangla word2vec recommended for us is good enough,no?"
      ]
    },
    {
      "cell_type": "markdown",
      "metadata": {
        "id": "FOIa0jR2llmY",
        "colab_type": "text"
      },
      "source": [
        "# Bengali FastText\n",
        "Generate Vector Using Pretrained Model(downloaded model size is more than 3 GB) :("
      ]
    },
    {
      "cell_type": "markdown",
      "metadata": {
        "id": "gNn6TmlumFYB",
        "colab_type": "text"
      },
      "source": [
        "code below requests a lot of memory!"
      ]
    },
    {
      "cell_type": "code",
      "metadata": {
        "id": "XQgpRIgZkmTh",
        "colab_type": "code",
        "colab": {
          "base_uri": "https://localhost:8080/",
          "height": 52
        },
        "outputId": "ff649084-ce9e-4e8d-f873-b57426538257"
      },
      "source": [
        "'''\n",
        "%%time\n",
        "bft = Bengali_Fasttext()\n",
        "word = \"গ্রাম\"\n",
        "model_path = \"/content/drive/My Drive/datasets/bn_word2vec/bengali_fasttext.bin\"\n",
        "word_vector = bft.generate_word_vector(model_path, word)\n",
        "print(word_vector.shape)\n",
        "#print(word_vector)\n",
        "'''"
      ],
      "execution_count": 9,
      "outputs": [
        {
          "output_type": "execute_result",
          "data": {
            "application/vnd.google.colaboratory.intrinsic+json": {
              "type": "string"
            },
            "text/plain": [
              "'\\n%%time\\nbft = Bengali_Fasttext()\\nword = \"গ্রাম\"\\nmodel_path = \"/content/drive/My Drive/datasets/bn_word2vec/bengali_fasttext.bin\"\\nword_vector = bft.generate_word_vector(model_path, word)\\nprint(word_vector.shape)\\n#print(word_vector)\\n'"
            ]
          },
          "metadata": {
            "tags": []
          },
          "execution_count": 9
        }
      ]
    },
    {
      "cell_type": "markdown",
      "metadata": {
        "id": "8p_x3Mwwm2xG",
        "colab_type": "text"
      },
      "source": [
        "to train bengali fasttext model on our data we can use the code below :"
      ]
    },
    {
      "cell_type": "code",
      "metadata": {
        "id": "s6lc-XOLnQuY",
        "colab_type": "code",
        "colab": {
          "base_uri": "https://localhost:8080/",
          "height": 52
        },
        "outputId": "ea7ca053-0096-4f34-cf58-8b2470879047"
      },
      "source": [
        "'''\n",
        "bft = Bengali_Fasttext()\n",
        "data = \"/content/drive/My Drive/datasets/News Articles/ebala_articles.txt\"\n",
        "model_name = \"saved_model.bin\"\n",
        "epoch = 50\n",
        "bft.train_fasttext(data, model_name, epoch)\n",
        "'''"
      ],
      "execution_count": 10,
      "outputs": [
        {
          "output_type": "execute_result",
          "data": {
            "application/vnd.google.colaboratory.intrinsic+json": {
              "type": "string"
            },
            "text/plain": [
              "'\\nbft = Bengali_Fasttext()\\ndata = \"/content/drive/My Drive/datasets/News Articles/ebala_articles.txt\"\\nmodel_name = \"saved_model.bin\"\\nepoch = 50\\nbft.train_fasttext(data, model_name, epoch)\\n'"
            ]
          },
          "metadata": {
            "tags": []
          },
          "execution_count": 10
        }
      ]
    },
    {
      "cell_type": "markdown",
      "metadata": {
        "id": "3FHIb4o2n5Bi",
        "colab_type": "text"
      },
      "source": [
        "# Bengali GloVe Word Vectors"
      ]
    },
    {
      "cell_type": "markdown",
      "metadata": {
        "id": "k18objR4oCeP",
        "colab_type": "text"
      },
      "source": [
        "they trained glove model with bengali data(wiki+news articles) and published bengali glove word vectors\n",
        "we can download and use it on your different machine learning purposes."
      ]
    },
    {
      "cell_type": "code",
      "metadata": {
        "id": "pzmTjPOnoBHU",
        "colab_type": "code",
        "colab": {
          "base_uri": "https://localhost:8080/",
          "height": 67
        },
        "outputId": "27a4bac5-66df-4bb7-ae96-96df274f2c29"
      },
      "source": [
        "%%time\n",
        "glove_path = \"/content/drive/My Drive/datasets/bn_word2vec/bn_glove.39M.300d.txt\"\n",
        "word = \"গ্রাম\"\n",
        "bng = BN_Glove()\n",
        "res = bng.closest_word(glove_path, word)\n",
        "print(res)\n",
        "vec = bng.word2vec(glove_path, word)\n",
        "#print(vec)"
      ],
      "execution_count": 11,
      "outputs": [
        {
          "output_type": "stream",
          "text": [
            "['গ্রাম', 'পঞ্চায়েতগুলি', 'পঞ্চায়েতের', 'পঞ্চায়েতে', 'খাদ্যআঁশ', 'পঞ্চায়েতে', 'নিগে', 'নারান্দিয়া', 'অন্তঃপাতী', 'গঞ্জের']\n",
            "CPU times: user 32.1 s, sys: 951 ms, total: 33.1 s\n",
            "Wall time: 33.3 s\n"
          ],
          "name": "stdout"
        }
      ]
    },
    {
      "cell_type": "markdown",
      "metadata": {
        "id": "m3WoLyoPpKIc",
        "colab_type": "text"
      },
      "source": [
        "# Tokenization\n"
      ]
    },
    {
      "cell_type": "markdown",
      "metadata": {
        "id": "CEqpSK6zpNqR",
        "colab_type": "text"
      },
      "source": [
        "Bengali SentencePiece Tokenization\n",
        "\n",
        "tokenization using trained model "
      ]
    },
    {
      "cell_type": "code",
      "metadata": {
        "id": "-x3T7gOPR0Db",
        "colab_type": "code",
        "colab": {
          "base_uri": "https://localhost:8080/",
          "height": 67
        },
        "outputId": "c9b039b5-2571-4a8c-fa86-23ccc6a86ff6"
      },
      "source": [
        "\n",
        "bsp = SP_Tokenizer()\n",
        "model_path = \"/content/drive/My Drive/datasets/bnlp-master/model/bn_spm.model\"\n",
        "input_text = \"আমি ভাত খাই। সে বাজারে যায়।\"\n",
        "tokens = bsp.tokenize(model_path, input_text)\n",
        "print(tokens)\n",
        "text2id = bsp.text2id(model_path, input_text)\n",
        "print(text2id)\n",
        "id2text = bsp.id2text(model_path, text2id)\n",
        "print(id2text)"
      ],
      "execution_count": 12,
      "outputs": [
        {
          "output_type": "stream",
          "text": [
            "['▁আমি', '▁ভাত', '▁খাই', '।', '▁সে', '▁বাজারে', '▁যায়', '।']\n",
            "[914, 5265, 24224, 3, 124, 2244, 41, 3]\n",
            "আমি ভাত খাই। সে বাজারে যায়।\n"
          ],
          "name": "stdout"
        }
      ]
    },
    {
      "cell_type": "code",
      "metadata": {
        "id": "A_JaFiN6SmLC",
        "colab_type": "code",
        "colab": {
          "base_uri": "https://localhost:8080/",
          "height": 33
        },
        "outputId": "4fbb9efc-f6db-4112-a1f8-2db2ba2c0855"
      },
      "source": [
        "\n",
        "basic_t = BasicTokenizer()\n",
        "raw_text = \"আমি বাংলায় গান গাই।\"\n",
        "tokens = basic_t.tokenize(raw_text)\n",
        "print(tokens)"
      ],
      "execution_count": 13,
      "outputs": [
        {
          "output_type": "stream",
          "text": [
            "['আমি', 'বাংলায়', 'গান', 'গাই', '।']\n"
          ],
          "name": "stdout"
        }
      ]
    },
    {
      "cell_type": "markdown",
      "metadata": {
        "id": "VlIGMgUzqh6z",
        "colab_type": "text"
      },
      "source": [
        "Training SentencePiece"
      ]
    },
    {
      "cell_type": "code",
      "metadata": {
        "id": "c9h3Fi4Dqw9v",
        "colab_type": "code",
        "colab": {
          "base_uri": "https://localhost:8080/",
          "height": 52
        },
        "outputId": "1b73e699-e1c6-4c25-a246-51edc76189e7"
      },
      "source": [
        "'''bsp = SP_Tokenizer()\n",
        "data = \"/content/drive/My Drive/datasets/News Articles/ebala_articles.txt\"\n",
        "model_prefix = \"ebala_articles\"\n",
        "vocab_size = 5\n",
        "bsp.train_bsp(data, model_prefix, vocab_size) '''"
      ],
      "execution_count": 14,
      "outputs": [
        {
          "output_type": "execute_result",
          "data": {
            "application/vnd.google.colaboratory.intrinsic+json": {
              "type": "string"
            },
            "text/plain": [
              "'bsp = SP_Tokenizer()\\ndata = \"/content/drive/My Drive/datasets/News Articles/ebala_articles.txt\"\\nmodel_prefix = \"ebala_articles\"\\nvocab_size = 5\\nbsp.train_bsp(data, model_prefix, vocab_size) '"
            ]
          },
          "metadata": {
            "tags": []
          },
          "execution_count": 14
        }
      ]
    },
    {
      "cell_type": "markdown",
      "metadata": {
        "id": "aEqONwk2soYQ",
        "colab_type": "text"
      },
      "source": [
        "the cell above gave me this error: \n",
        "OSError: Not found: unknown field name \"Drive/datasets/News\" in TrainerSpec.\n",
        "\n",
        "will investigate  later when it is required(probably error  related to space in path)"
      ]
    },
    {
      "cell_type": "markdown",
      "metadata": {
        "id": "eFtucCbBtg4S",
        "colab_type": "text"
      },
      "source": [
        "# NLTK Tokenization"
      ]
    },
    {
      "cell_type": "code",
      "metadata": {
        "id": "fhYpwzmMrsYC",
        "colab_type": "code",
        "colab": {
          "base_uri": "https://localhost:8080/",
          "height": 50
        },
        "outputId": "8da86598-d78f-4140-df3a-e9bb2186ef34"
      },
      "source": [
        "\n",
        "text = \"আমি ভাত খাই। সে বাজারে যায়। তিনি কি সত্যিই ভালো মানুষ?\"\n",
        "bnltk = NLTK_Tokenizer()\n",
        "word_tokens = bnltk.word_tokenize(text)\n",
        "sentence_tokens = bnltk.sentence_tokenize(text)\n",
        "print(word_tokens)\n",
        "print(sentence_tokens)\n"
      ],
      "execution_count": 15,
      "outputs": [
        {
          "output_type": "stream",
          "text": [
            "['আমি', 'ভাত', 'খাই', '।', 'সে', 'বাজারে', 'যায়', '।', 'তিনি', 'কি', 'সত্যিই', 'ভালো', 'মানুষ', '?']\n",
            "['আমি ভাত খাই।', 'সে বাজারে যায়।', 'তিনি কি সত্যিই ভালো মানুষ?']\n"
          ],
          "name": "stdout"
        }
      ]
    },
    {
      "cell_type": "markdown",
      "metadata": {
        "id": "yFGSeUW1ttpL",
        "colab_type": "text"
      },
      "source": [
        "# Bengali POS Tagging"
      ]
    },
    {
      "cell_type": "code",
      "metadata": {
        "id": "V4o4BbR4uYNd",
        "colab_type": "code",
        "colab": {
          "base_uri": "https://localhost:8080/",
          "height": 33
        },
        "outputId": "95cede8e-17ef-4465-e4c2-de1b9f82443b"
      },
      "source": [
        "\n",
        "bn_pos = POS()\n",
        "model_path = \"/content/drive/My Drive/datasets/bnlp-master/model/bn_pos.pkl\"\n",
        "text = \"আমি ভাত খাই।\"\n",
        "res = bn_pos.tag(model_path, text)\n",
        "print(res)"
      ],
      "execution_count": 17,
      "outputs": [
        {
          "output_type": "stream",
          "text": [
            "[('আমি', 'PPR'), ('ভাত', 'NC'), ('খাই', 'VM'), ('।', 'PU')]\n"
          ],
          "name": "stdout"
        }
      ]
    },
    {
      "cell_type": "markdown",
      "metadata": {
        "id": "twQlboret0ij",
        "colab_type": "text"
      },
      "source": [
        "# Train POS Tag Model"
      ]
    },
    {
      "cell_type": "code",
      "metadata": {
        "id": "LNeiCaQUxmPT",
        "colab_type": "code",
        "colab": {
          "base_uri": "https://localhost:8080/",
          "height": 167
        },
        "outputId": "f0bb923b-9e95-4de8-98fd-0e49e5e0854e"
      },
      "source": [
        "\n",
        "bn_pos = POS()\n",
        "model_name = \"pos_model.pkl\"\n",
        "tagged_sentences = [[('রপ্তানি', 'JJ'), ('দ্রব্য', 'NC'), ('-', 'PU'), ('তাজা', 'JJ'), ('ও', 'CCD'), ('শুকনা', 'JJ'), ('ফল', 'NC'), (',', 'PU'), ('আফিম', 'NC'), (',', 'PU'), ('পশুচর্ম', 'NC'), ('ও', 'CCD'), ('পশম', 'NC'), ('এবং', 'CCD'),('কার্পেট', 'NC'), ('৷', 'PU')], [('মাটি', 'NC'), ('থেকে', 'PP'), ('বড়জোর', 'JQ'), ('চার', 'JQ'), ('পাঁচ', 'JQ'), ('ফুট', 'CCL'), ('উঁচু', 'JJ'), ('হবে', 'VM'), ('৷', 'PU')]]\n",
        "\n",
        "bn_pos.train(model_name, tagged_sentences)"
      ],
      "execution_count": 18,
      "outputs": [
        {
          "output_type": "stream",
          "text": [
            "1\n",
            "1\n",
            "Training Started........\n",
            "it will take time according to your dataset size..\n",
            "Training Finished!\n",
            "Evaluating with Test Data...\n",
            "Accuracy is: \n",
            "0.1111111111111111\n",
            "Model Saved!\n"
          ],
          "name": "stdout"
        }
      ]
    },
    {
      "cell_type": "code",
      "metadata": {
        "id": "JZT6FA8myUj_",
        "colab_type": "code",
        "colab": {
          "base_uri": "https://localhost:8080/",
          "height": 33
        },
        "outputId": "e9441ed6-7c56-4ebc-f467-034e8dff2ee0"
      },
      "source": [
        "model_path = \"/content/pos_model.pkl\"\n",
        "text = \"আমি ফল খাই।\"\n",
        "res = bn_pos.tag(model_path, text)\n",
        "print(res)"
      ],
      "execution_count": 19,
      "outputs": [
        {
          "output_type": "stream",
          "text": [
            "[('আমি', 'JJ'), ('ফল', 'NC'), ('খাই', 'NC'), ('।', 'PU')]\n"
          ],
          "name": "stdout"
        }
      ]
    },
    {
      "cell_type": "markdown",
      "metadata": {
        "id": "MPGJCFA3uF2u",
        "colab_type": "text"
      },
      "source": [
        "i labeled ফল as NC and it is recognizing that word well"
      ]
    },
    {
      "cell_type": "markdown",
      "metadata": {
        "id": "1svwTFXnvvw1",
        "colab_type": "text"
      },
      "source": [
        "# Bengali NER"
      ]
    },
    {
      "cell_type": "code",
      "metadata": {
        "id": "99ZHkVRrxqoO",
        "colab_type": "code",
        "colab": {
          "base_uri": "https://localhost:8080/",
          "height": 33
        },
        "outputId": "bc1135cf-ba7e-40dd-a082-ec6cabacbfdb"
      },
      "source": [
        "\n",
        "bn_ner = NER()\n",
        "model_path = \"/content/drive/My Drive/datasets/bnlp-master/model/bn_ner.pkl\"\n",
        "text = \"সে ঢাকায় থাকে।\"\n",
        "result = bn_ner.tag(model_path, text)\n",
        "print(result)"
      ],
      "execution_count": 20,
      "outputs": [
        {
          "output_type": "stream",
          "text": [
            "[('সে', 'O'), ('ঢাকায়', 'S-LOC'), ('থাকে', 'O')]\n"
          ],
          "name": "stdout"
        }
      ]
    },
    {
      "cell_type": "code",
      "metadata": {
        "id": "uuUNEd5wx1RH",
        "colab_type": "code",
        "colab": {
          "base_uri": "https://localhost:8080/",
          "height": 167
        },
        "outputId": "a7c1b716-a419-4082-96cc-2f4b0fd5a0d7"
      },
      "source": [
        "\n",
        "bn_ner = NER()\n",
        "model_name = \"ner_model.pkl\"\n",
        "tagged_sentences = [[('ত্রাণ', 'O'),('ও', 'O'),('সমাজকল্যাণ', 'O'),('ওমর', 'B-PER'),('সম্পাদক', 'S-PER'),('মোবাশ্বির', 'B-PER'),('রায়', 'I-PER'),('নন্দী', 'E-PER'),('প্রমুখ', 'O'),('সংবাদ', 'O'),('সম্মেলনে', 'O'),('উপস্থিত', 'O'),('ছিলেন', 'O')], [('ত্রাণ', 'O'),('ও', 'O'),('সমাজকল্যাণ', 'O'),('সম্পাদক', 'S-PER'),('মোবাশ্বির', 'B-PER'),('রায়', 'I-PER'),('নন্দী', 'E-PER'),('প্রমুখ', 'O'),('সংবাদ', 'O'),('সম্মেলনে', 'O'),('উপস্থিত', 'O'),('ছিলেন', 'O')], [('ত্রাণ', 'O'),('ও', 'O'),('ওমর', 'B-PER'),('সমাজকল্যাণ', 'O'),('সম্পাদক', 'S-PER'),('মোবাশ্বির', 'B-PER'),('ওমর', 'B-PER'),('রায়', 'I-PER'),('নন্দী', 'E-PER'),('প্রমুখ', 'O'),('সংবাদ', 'O'),('সম্মেলনে', 'O'),('উপস্থিত', 'O'),('ছিলেন', 'O')]]\n",
        "\n",
        "bn_ner.train(model_name, tagged_sentences)"
      ],
      "execution_count": 21,
      "outputs": [
        {
          "output_type": "stream",
          "text": [
            "2\n",
            "1\n",
            "Training Started........\n",
            "It will take time according to your dataset size...\n",
            "Training Finished!\n",
            "Evaluating with Test Data...\n",
            "Accuracy is: \n",
            "0.9285714285714286\n",
            "Model Saved!\n"
          ],
          "name": "stdout"
        }
      ]
    },
    {
      "cell_type": "markdown",
      "metadata": {
        "id": "YuWyuldZv2Cd",
        "colab_type": "text"
      },
      "source": [
        "# Train NER Tag Model"
      ]
    },
    {
      "cell_type": "code",
      "metadata": {
        "id": "P-QiM5xJyADo",
        "colab_type": "code",
        "colab": {
          "base_uri": "https://localhost:8080/",
          "height": 33
        },
        "outputId": "2e5f6564-b688-4907-e012-6cd7db19e252"
      },
      "source": [
        "model_path = \"/content/ner_model.pkl\"\n",
        "text = \"ওমর মোবাশ্বির\"\n",
        "result = bn_ner.tag(model_path, text)\n",
        "print(result)"
      ],
      "execution_count": 22,
      "outputs": [
        {
          "output_type": "stream",
          "text": [
            "[('ওমর', 'B-PER'), ('মোবাশ্বির', 'B-PER')]\n"
          ],
          "name": "stdout"
        }
      ]
    },
    {
      "cell_type": "markdown",
      "metadata": {
        "id": "lkevFQz_ucSc",
        "colab_type": "text"
      },
      "source": [
        "note that ওমর and মোবাশ্বির were never known by our ner  model that these 2 words should be labeled as \"B-PER\", in tagged_sentences i have manually labeled both words or names as \"B-PER\" entity and after training faster when we made prediction,our Trained NER Tag Model did good job"
      ]
    },
    {
      "cell_type": "markdown",
      "metadata": {
        "id": "cI9T-MKewUfw",
        "colab_type": "text"
      },
      "source": [
        "for sentencepiece  tokenization i was watching this video :[ Sentencepiece Tokenizer With Offsets For T5, ALBERT, XLM-RoBERTa And Many More](https://www.youtube.com/watch?v=U51ranzJBpY&ab_channel=AbhishekThakur)"
      ]
    },
    {
      "cell_type": "code",
      "metadata": {
        "id": "bwH8Wv2dS8Vu",
        "colab_type": "code",
        "colab": {}
      },
      "source": [
        ""
      ],
      "execution_count": null,
      "outputs": []
    }
  ]
}