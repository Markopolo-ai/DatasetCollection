{
  "nbformat": 4,
  "nbformat_minor": 0,
  "metadata": {
    "colab": {
      "name": "pure bangla to pure banglish corpus.ipynb",
      "provenance": [],
      "collapsed_sections": []
    },
    "kernelspec": {
      "name": "python3",
      "display_name": "Python 3"
    }
  },
  "cells": [
    {
      "cell_type": "code",
      "metadata": {
        "id": "DWpbqpnursLG",
        "colab_type": "code",
        "colab": {
          "base_uri": "https://localhost:8080/",
          "height": 33
        },
        "outputId": "c24e0f47-0bb0-41da-8ab4-d4ce18220489"
      },
      "source": [
        "from google.colab import drive\n",
        "drive.mount('/content/drive')"
      ],
      "execution_count": 67,
      "outputs": [
        {
          "output_type": "stream",
          "text": [
            "Drive already mounted at /content/drive; to attempt to forcibly remount, call drive.mount(\"/content/drive\", force_remount=True).\n"
          ],
          "name": "stdout"
        }
      ]
    },
    {
      "cell_type": "code",
      "metadata": {
        "id": "U51X6QwmlA3n",
        "colab_type": "code",
        "colab": {}
      },
      "source": [
        "import json\n",
        "import pandas as pd\n",
        "import numpy as np"
      ],
      "execution_count": 68,
      "outputs": []
    },
    {
      "cell_type": "markdown",
      "metadata": {
        "id": "NPUt2boQrP2X",
        "colab_type": "text"
      },
      "source": [
        "Reference : Bangla-English Transliteration -> https://www.kaggle.com/ari994/banglaenglishtransliteration"
      ]
    },
    {
      "cell_type": "code",
      "metadata": {
        "id": "Sb9oXFsWf1z7",
        "colab_type": "code",
        "colab": {}
      },
      "source": [
        "data = [json.loads(line) for line in open('/content/drive/My Drive/datasets/bn_trans_14042020_Bangla-English Transliteration.json', 'r')]"
      ],
      "execution_count": 69,
      "outputs": []
    },
    {
      "cell_type": "code",
      "metadata": {
        "id": "LuknTlCXmRdo",
        "colab_type": "code",
        "colab": {
          "base_uri": "https://localhost:8080/",
          "height": 33
        },
        "outputId": "818104e0-b298-4fe0-b276-baa94acabd5f"
      },
      "source": [
        "len(data)"
      ],
      "execution_count": 70,
      "outputs": [
        {
          "output_type": "execute_result",
          "data": {
            "text/plain": [
              "116"
            ]
          },
          "metadata": {
            "tags": []
          },
          "execution_count": 70
        }
      ]
    },
    {
      "cell_type": "code",
      "metadata": {
        "id": "cnhKtt9Fm25l",
        "colab_type": "code",
        "colab": {
          "base_uri": "https://localhost:8080/",
          "height": 33
        },
        "outputId": "60c6519f-fcd6-4f7c-cc09-f830bc0bb551"
      },
      "source": [
        "ben = []\n",
        "ban = []\n",
        "k = 0\n",
        "for i in range(len(data)):\n",
        "  k = len(data)\n",
        "  for j in range(len(data[i]['words'])):\n",
        "    \n",
        "    bn = data[i]['words'][j]['bn']\n",
        "    en = data[i]['words'][j]['en']\n",
        "    ben.append(bn)\n",
        "    ban.append(en)\n",
        "k"
      ],
      "execution_count": 71,
      "outputs": [
        {
          "output_type": "execute_result",
          "data": {
            "text/plain": [
              "116"
            ]
          },
          "metadata": {
            "tags": []
          },
          "execution_count": 71
        }
      ]
    },
    {
      "cell_type": "code",
      "metadata": {
        "id": "o-4WM8R6oIMx",
        "colab_type": "code",
        "colab": {
          "base_uri": "https://localhost:8080/",
          "height": 33
        },
        "outputId": "a0fd9113-061c-4a17-e9c9-7d62ba7dda7e"
      },
      "source": [
        "len(ben) == len(ban)"
      ],
      "execution_count": 72,
      "outputs": [
        {
          "output_type": "execute_result",
          "data": {
            "text/plain": [
              "True"
            ]
          },
          "metadata": {
            "tags": []
          },
          "execution_count": 72
        }
      ]
    },
    {
      "cell_type": "code",
      "metadata": {
        "id": "eq61XRYSoNGr",
        "colab_type": "code",
        "colab": {
          "base_uri": "https://localhost:8080/",
          "height": 33
        },
        "outputId": "f6094bfb-b715-4bd3-fb89-2857ac7c6a14"
      },
      "source": [
        "len(ben)"
      ],
      "execution_count": 73,
      "outputs": [
        {
          "output_type": "execute_result",
          "data": {
            "text/plain": [
              "1311"
            ]
          },
          "metadata": {
            "tags": []
          },
          "execution_count": 73
        }
      ]
    },
    {
      "cell_type": "code",
      "metadata": {
        "id": "aEloiom4oOt1",
        "colab_type": "code",
        "colab": {
          "base_uri": "https://localhost:8080/",
          "height": 33
        },
        "outputId": "61bddd9b-5f3e-417f-c3b6-7756956850eb"
      },
      "source": [
        "len(ban)"
      ],
      "execution_count": 74,
      "outputs": [
        {
          "output_type": "execute_result",
          "data": {
            "text/plain": [
              "1311"
            ]
          },
          "metadata": {
            "tags": []
          },
          "execution_count": 74
        }
      ]
    },
    {
      "cell_type": "code",
      "metadata": {
        "id": "a8M5c4Uin7Xg",
        "colab_type": "code",
        "colab": {
          "base_uri": "https://localhost:8080/",
          "height": 53
        },
        "outputId": "c5b5c182-92cd-46e8-f0d1-aef999204218"
      },
      "source": [
        "\n",
        "print(ben)"
      ],
      "execution_count": 75,
      "outputs": [
        {
          "output_type": "stream",
          "text": [
            "['কমান্ডহীন', 'ব্যাপারও', 'লোকসভার', 'সামর্থের', 'রাজীবকুমারের', 'তোবগের', 'বাঁক', 'কোঅপারেটিভ', 'ভাগটুকু', '১১৬বি', 'প্রতিবাদীরাও', 'শিল্প', 'রাজ্যজয়ের', 'ময়নাতদন্তকারী', 'বিষধরকে', 'উপবাস', 'শুভ্রকান্তি', 'পচে', '১১নং', 'কল্যাণেশ্বর', 'বেশকয়েকজন', 'পেশাদারি', 'নজদারি', 'টুকরোও', 'মাহির', 'জাভেদজি', 'ছক্কাও', 'পাত্রপক্ষকেও', 'সিআরসেভেনকে', 'ধারাবাহিকভাবে', 'আন্দালুশিয়ান', 'লোখন্ডাওয়ালাতে', 'শ্রোতাকে', 'নামেও', 'গুণে', 'হুড়োহুড়ির', 'বাহিনী', 'কিন্ডারগার্টেন', 'দেবীনা', 'নান্টি', 'সার্বিয়ায়', 'পোড়খাওয়া', 'আবেদনেই', 'সোনাঝরা', 'জিকো', 'চুম্বক', 'ধুতিতে', 'ছাঁটা', 'পর্যটনমন্ত্রকের', 'পূরব', 'মন্দের', 'সিন্ধায়াপাড়ার', 'রওনা', 'ত্রিনেত্রর', 'নীমেই', 'বৃদ্ধিটা', 'ফ্যানাটিক', 'স্বৈরতান্ত্রিক', 'মৌমাছি', 'আশ্বস্তই', 'বললনে', 'সিংলা', 'ব্লাঁ', 'প়ড়েছে', 'চমত্\\u200cকার', 'কুনো', 'মেসেজে', 'কায়েমের', 'ফুলতলা', 'ঘাইও', 'মোদীগলিতে', 'দুর্গাকে', 'আত্ম', 'দস্তিদারের', 'সংহতিদিবসের', 'সচিবালয়ও', 'ডলি', 'সাতান্ন', 'পরিকল্পিতভাবেই', '১৭৯৯', 'সন্তানহারা', 'COTI', 'শোনা', 'ঝাপ', 'পাহাড়চূড়ায়', 'দলগুলিতে', 'গোকুলে', 'খস়ড়া', 'কনে', 'হাবুল', 'বদমেজাজি', 'নাটোর', 'রুটে', '১৯৯৩', 'হার', 'KOHLI', 'অগভীর', 'স্থলযুদ্ধ', 'অণ্ডালে', 'স্থানেই', 'পাবুক', 'খানার', 'ভূমিহীন', 'খেয়েও', 'শেষবেলার', 'রসিকতা', '১৯৫৫', 'নিপুলবাবু', 'বাধ্যতামূলক—', 'বিশ্বাসী', 'লানা', 'ভাসা', 'তালিকাতে', 'অন্যান্যবার', 'রয়েছে…”', 'সহকর্মীরাই', 'কিসিকে', 'সৌমজিত্', 'বিএমআই', 'জগত', 'চৈতালিকে', 'নিজেরও', 'মঞ্চেরও', 'চিকিত্\\u200dকরা', 'ঠান্ডার', 'জবাই', 'শিবতলায়', 'বাথরোব', 'মেহনতি', 'নোটাতঙ্কে', 'ক্যাবিনেটসচিবকে', 'চিকিত্\\u200dসা', 'কুক্ষিগত', 'বাছাড়পাড়ায়', 'বিস্ফোরণের', 'হয়েছে—টাকা', 'ফুরসৎ', 'কৃপাচার্য', 'বিমুদ্রা', 'আইএর', 'বাণিজ্যমেলার', 'আস্থাভোট', 'উপলক্ষ্যেই', 'ঝাড়িটা', 'জানিয়েদিলেন', 'ওশানে', 'এটিএমের', 'ছুঁয়েছিলাম', 'লেপার্ড', 'সুইনহো', 'এমডিএস', 'চিরাং', 'উপান্তবাসী', 'বছরটাই', 'শায়কে', 'টানার', 'বয়ঃজ\\u200d্যেষ্ঠ', 'নীতিবোধ', 'অংশ—', 'অামেরিকার', 'পর্বতারোহী', 'সমাজবিরোধীদেরও', 'ভ্যালিদাই', 'জীবনদর্শনের', 'ক্যান্টনমেন্টের', 'বাক্যটা', 'অথোরিটি', 'ইভ্যাকুয়েশন', 'গড়', 'ফাইনালস', 'কাঠুরিয়ায়', 'উলটে', 'জেমসের', 'গঙ্গে', 'বৃষ্টির', 'এমারজেন্সি', 'নবনির্মিত', 'পরিমাণকে', 'সাতাশ', 'স্টপার', 'ক্রিকেটারেরও', 'অতিথিপরায়ণ', 'রাখঢাক', 'দ্বাদশীতে', 'মহেশই', 'ঢেউ', 'আওয়ারে', 'শসা', 'পানপাত্র', 'দত্তবাদ', 'আদ্যাপীঠে', 'সমন', 'ফারহা', 'রুমানি', 'গৃহস্থালীর', 'প্রায়শ্চিত্ত', 'হয়েছে—', 'সৌরভ', 'আর্মি', 'বেশিরভাগের', 'মেরুদণ্ড', 'রক্তেও', 'পুনরুদ্ধারের', 'ইনবক্স', 'হোমটাস্ক', 'সংস্করণই', 'মশকরাও', 'আঁকবেন', 'রোজগার', 'চোলাইএর', 'দাগগুবাতি', 'পড়ুুন—', 'টিসকা', 'প্রকাশও', 'বিক্ষোভে', 'ক্যাশব্যাক', 'দেবল', 'পেটে', 'আত্মদানের', 'তহবিলও', 'নীলাংশি', 'কেলকারের', 'দাল', 'টোটোর', 'নেভেহ্\\u200c', 'কানাডাতেই', 'অ্যাভয়েড', 'টিন্ট', 'মিশবে', 'ফেস্টিভ্যালএর', 'পোলার্ডও', 'ইয়েরওয়াড়া', 'মাততেন', 'কষাকষিতে', 'মানবসমাজে', 'গুটিকতক', 'তাঁবুর', 'অকল্পনীয়', 'নন্দরাম', 'INDIA', 'হেভেন', 'প্রমীলারা', 'ষাটপলসা', 'নাচমহল', 'জড়িয়েছে', 'স্থানীয়', 'ছশোর', 'ছেলেপিলেরাই', 'আঁতাতে', 'ক্রিকেটারদেরর', 'শীর্ষনেতারাও', 'দু্র্দান্ত', 'হারসেল্ফ', 'কমিশনারেটেও', 'মাঠই', 'মৌলবাদিশক্তির', 'পর্ণকুটিরই', 'সুচ', 'উইকেটকিপারদের', 'পেনকা', 'গোলপার্ক', 'সেশন', 'অব্যবহিত', 'শিয়াকে', 'ঘেঁসে', 'বাজারিদের', 'নগেন্দ্রের', 'আঙুলই', 'উলুবেড়িয়াতেই', 'মাদ্রাস', 'হন', 'याद', 'স্থানই', 'চাকি', 'এওপিএল', 'হাবের', 'সাঁজো', 'বন্দোবস্তটা', 'অনিন্দ্যদা', 'বিজ্ঞানকে', 'মোহিত', 'খোকাবাবু', 'ছেড়েনি', 'লুন্ঠিত', 'কীর্তিকেও', '৮০৯', 'পরশুদিন', 'খঁজতে', 'চিংড়ি', 'সরলেই', 'ইতিপূর্বেও', 'চুলকে', 'অধিকতর', '৫৩১৯৮', 'কৃষক', 'তিপ্পান্নর', 'স্কাইপ', 'ইনিংশ', 'অলিপাব', 'ব্যকফুটে', 'জনবিরোধী', 'অন্নাকে', 'চিত্রবাণী', 'স্বপ্নপূরণ', 'অর্থসাহায্য', 'ক়ৃষিকা', 'হোমমেড', 'টানেলিং', 'লাস্যে', '৩০০ফুট', 'হাতুড়ে', 'অবতরণকে', 'জলাধারটিতে', 'ছাড়ানো', 'পানেসরকে', 'আইনস্টাইনদের', 'মুজিবকন্যান', 'চক্রান্তের', 'আদর্শে', 'লোকবহন', 'হারাননি', 'জয়দেবের', 'পেটেন্টের', 'নামঘরে', 'বিশ্বজিতকে', 'ভিভান', 'চার্জশিটেরর', 'মণিদুটোর', 'ডুয়ার্টের', 'স্পষ্টভাষায়', 'অভিজ্ঞ়', 'জন্মদিনগুলো', 'শেলি', 'পাওয়াও', 'ধর্ষিতার', 'ছোটগল্পেরা', 'চলা', 'ছবিটাকে', 'বাক্যও', 'শুল্কযুদ্ধ', 'গর্গ', 'পিকেটিংও', 'কারাটাই', 'ফোক', 'যেটুকু', 'মানকড়', 'ক্রিকেটে', 'সাবাস', 'নলকূপের', 'জীবন', 'মাধবের', 'গুদামে', 'চমকিতও', 'উপায়ন্তর', 'ছুড়বেন', 'তোদের', 'আলামিনের', 'উছ্বসিত', 'লালরাম', '৭৩৯', 'কথাগুলির', 'পদ্ধতিটা', 'গডকড়ীও', 'ভিউর', 'বনদফতরে', 'পৌঁছয়', 'শফিকুল্লা', 'বা়ড়িতে', 'ফ্যাশনেব্\\u200cল', 'মহাকাশেরই', 'বচ্চনরা', 'মূলি', 'সারাবছর', 'মার্কাস', 'অ্যাটলাস', 'প্রবচন', 'সখীত্বের', 'চিনিয়েছিলেন', 'কম্বিনেশন', 'বিদীপ্তা', 'সংক্রমণও', 'এগপ্লান্ট', 'ম্যাগাজিনের', 'ধন্দে', 'পালানো', 'কর্পোরেটের', 'ধরেনি', 'রৌদ্রকরোজ্জ্বল', 'দেখলেই', 'মেয়াদকে', 'বাঁচায়', 'টিমোথি', 'সুপরিচিত', 'নাটকের', 'খুদেরা', '\\u200cযানই', 'নিরাপত্তাও', 'রূপোর', 'বহ', 'জ্যোতিষবাণীতে', 'মামুদকে', 'সেইসূত্রে', 'মোর্চারা', 'কেন্দ্রিয়', 'ইনস্টা', 'সিটিস্ক্যান', 'সুবন্দোবস্ত', 'নি্জস্ব', 'ধীর', 'সাংসদকেও', 'আইনমন্ত্রীও', 'জোয়েল', 'ফ্যানবক্স', 'অটোবানএও', 'নগদে', 'আটর', 'নাট্যমুহূর্ত', 'রে়ডমেন', 'বুদ্ধদেবকেই', 'হিমার', 'রোমাঞ্চকর', 'ইনোগ্রেশনে', 'কোহালি', 'বাঁধবেন', 'খাতাতেই', 'গডফাদারকে', 'পার্টিগুলিকে', 'মারসারি', 'তাব্রিজ', 'এটি', 'সুমনের', 'সমাজবিদ্যা', 'ভিত্তিতে', 'মাপেননি', 'অ্যাপোলো', 'অংশকেও', 'স্বদেশীদের', 'সোর্সদের', 'বাপের', 'উসেইন', 'বানওয়ারিলাল', 'আন্দোলনের', 'বীরপুরুষ', 'মাফলার', 'আর্তির', 'পরীক্ষিতভাবে', 'লিমিটও', 'কিসেরই', 'জোগাবেন', 'সাঁতারুদের', 'স্টাইলটা', 'ছবি', 'যশকেই', 'সশরীরের', 'প্রসিডেন্সির', 'ল্যাংডনের', 'সম্মতি–সহ', 'পুণেরি', 'আউটস্টেপে', 'ডেভলপমেন্ট', 'হরিশচ্যাটার্জি', 'ভর্তসনা', 'বিদ্রূপ', 'পাসপোর্টগুলির', 'পচতে', 'কথাটা', 'সুদীপবাবুর', 'শোকপ্রকাশকেও', 'কাউন্সিলরা', 'নাটকীয়তায়', 'বানিয়েছিলাম', 'ফ্যাক্ট', 'ক্ল্যাম্প', 'তৎক্ষণাৎ', 'বাংলার', 'জন্মেছি', 'সহপঠীরাই', 'বেছেছিলেন', 'টিকটিকির', 'পাঠিয়েছিল', 'শৌচ', 'শিকারিরা', 'জেসন', 'মজেছে', 'সেবিষয়ে', 'একখণ্ড', 'উত্তরসূরিদের', 'পারলেন', 'সজ্জন', 'জলমগ্ন', 'পেঁয়াজকে', 'অর্নাস', 'তাগড়াই', 'ছুটতে', 'দাবিগুলির', 'ব্যবহারকারিদের', 'দেখিয়েছিলেন', 'নিস্তার', 'শীততাপ', 'কিপলিং', 'রাজাবাজার', 'মুভই', 'ছন্দে', 'ফ্রানসিস্কো', 'পাল্টাইনি', 'পাঠালো', '১৭৩৮', '১৬৬', 'বাগিচায়', 'মনোরোগীকে', 'প্রকল্পগুলিও', 'সাপেদেরও', 'তারকের', 'জেনাইটিসের', 'সৌদিতে', 'আলোচ্যসূচিতেও', 'ঘূর্ণিঝ়ডের', 'থাগস', 'কনস্টেবলকে', '৯৯', 'স্ট্যাসি', 'শুভ্রাংশুও', 'ফাঁরা', 'ওয়াটকিনস', 'বুধপুর', 'ফিল্ডার', 'কম্প্যাক্টরে', 'ভিভো', 'টেকটনিক', 'জোরদার', '৭০০০০৬', 'আলোকচিত্রের', 'আদৌও', 'অভ্যেস', 'আলাপনবাবু', 'পাগলপারা', 'নববর্ষের', 'ভারতলক্ষ্মী', 'ভাঙড়ে', 'কেবিনেও', 'প্রাজ্ঞতার', 'চালানোক', 'গতকয়েকদিন', 'পরিবেশবিদদের', 'নাদিয়াকে', 'সামগ্রীই', 'ভাস্করবাবুও', 'কেনাটা', 'পাঠ্যক্রম', 'অঙ্গদাতা', 'টেস্টেও', 'যাত্রাপথের', 'ভাজেন', 'কৃষিপ্রধান', 'শিশু\\u200cকে', 'প্রকাশনা', 'মর্ফড', 'বিষ্ঠার', 'গ্লাভসে', 'ল্যান্ডলর্ড', 'র\\u200c্যামোসই', 'অবাঙালি', 'প্রাণীটি', 'একজোট', 'খাদ্যপণের', 'গন্তব্যে', 'ডর্নের', 'চালানোরও', 'দাবিদারদের', 'প্রতিবাদটি', 'পুজো—', 'রঞ্জন', 'পিস্তল', 'টিভি', 'রেশনকার্ড', 'উপকরণ', 'বিদ্যুত্', 'হোমটি', 'দেশটাই', 'নিয়েই', 'ডানহাতে', 'টেনিদাকে', 'প্রতুল', 'রেখেছিলাম', 'সভাটি', 'বিশ্বক্লাব', 'চরিত্রগুলিও', 'খেলছেন', 'কুমীর', 'খোলেন', 'খোলেন', 'কয়েনগুলি', 'সহিসপুর', 'পোস্টারই', 'আত্মঘাতে', 'বিশেশ্বর', 'যাবার', 'মক্কাকে', 'GSTর', 'সায়েশা', 'চরণে', 'পাপিয়াকে৷', 'শাশুড়িও', 'থানাকে', 'ট্যাক্সিস্ট্যান্ডে', 'কৃতকর্মের', 'তারিয়েই', 'মোহনিয়াকে', 'পুনর্দখলে', '২০২২', 'নদিনের', 'বিশ্লেষন', 'সিগুরোসসন', 'বাজানোয়', 'বাজানোয়', 'বগলে', 'সঙ্গগুণে', 'পলিও', 'দূরান্তে', 'কৃষ্ণগঞ্জের', 'প্রতিযোগিতার', 'আর্তনাদে', 'দ্বিধাবিজড়িত', 'পদ্মাবৎ', 'যুবভারতীতেই', 'ডোকলামের', 'ম্যাকিলরয়', 'হেডেনের', 'পদ্মেই', 'যুবকেন্দ্রে', 'পার্লামেন্টেরিয়ানস', '১০২', 'দৃশ্যপটের', 'লোলা', 'মোদীদের', 'কয়েকের', 'আমান্ডা', 'পালংদারকেও', 'পাতলেও', 'পরদেশ', 'শ্রীজানার', 'বৌবাজার', 'জনসাধারনের', 'সন্তোষ', 'প্রশংসা', 'শর্ত—', 'মুকুন্দপুরসহ', 'চালাবো', 'এন্টালি', 'আইএমআই', 'ইয়ারএর', 'উঠেছে', 'প্রত্যাবর্তনকেও', 'খণ্ডাংশ', 'আশ্বর্যের', 'উদ্বাস্তুদের', 'লোকটার', 'তরিকাটা', 'প্রশংসিতও', 'লণ্ডভণ্ড', 'লম্পট', 'ব্রাজিলে', 'ঋতকে', 'ভালমন্দ', 'থেতলে', 'স্টুটগার্টে', 'ব্রাঞ্চকে', 'হত্যাচেষ্টায়', 'পরদল', 'পচাত্তরের', 'আবর্তন', 'ট্রলারটিরও', 'জনমানব', 'কিলোলিটারে', 'ঘনঘোর', 'হেনস্থার', 'এপ্রিল', 'করেছিল', 'বিকল্পনীয়', 'কৈলাসজি', 'পাঁচতলার', 'চিন্ময়ী', 'মিস', 'বোট', 'তাহেরের', 'স্তনদায়ী', 'মহান্তি', 'ছোটপরদা', 'ফেনে', 'আটকালে', 'সুলতাদি', 'ঝড়খালির', 'মানুষটি', 'लिए', 'দেশত্যাগী', 'দুপক্ষের', 'কম্প্যাক্টর', 'অ্যাপোলোয়', 'পণ্ড', 'আত্মাদেরও', 'বিলোলেন', 'দুঃখও', 'শ্রীকান্তদার', 'দুদশক', 'ভেঙ্গে', 'সদর্থক', 'রতনদের', 'অববাহিকাকে', 'গোদারা', 'চর্চিত', 'ভ্যাটেও', 'গিলেমেটে', 'ব্রজমোহন', 'গিক্সার', 'ভবানীপুরের', '“I', 'ক্লাবদের', 'বিটকয়েনকে', 'পৌছাবে', 'অধ্যায়টিকে', 'FAN', 'প্যাড', 'ভূভারত', 'আর্সেন', 'বিচ্ছিন্নভাবে', 'কোচেরাই', 'আসরের', 'পাথরা', 'শাস্ত্র', 'রাজনীতিটাই', 'প্রাপ্তিকে', 'তর্কে', 'কলোনির', 'কাউন্সিলরদের', 'থাকায়', 'বোমাবাজির', 'রাঠোর', 'সপ্তর্ষিরও', 'লোকেশনও', 'প্রতিরোধে', '৩২৯', 'সাবলাক', 'বেগুসরাইয়ে', 'ইন্টারন্যাশন্যাল', 'ভাড়া', 'কাঁপিয়েছিল', 'দর্শকের—', '“দুই', 'মঞ্চস্থ', 'সর্বনিন্ম', 'কমিশকে', 'ঘোষপাড়ার', 'লাগাব', 'আয়েশা', 'পাড়াগাঁয়ের', 'চোলিও', 'গ্যাসেও', 'তপু', 'কৃত্তিবাসের', 'ঋষিদের', 'শ্রীজিত', 'অ্যারোগ্যান্ট', 'ক্রোরস', 'মনীন্দ্র', 'তৃপ্তিদায়ক', 'চিকেনগুলোয়', 'অগ্রগতিতে', 'প্লাসএর', 'কষ্টি', 'সঙ্গীতশিক্ষিকার', 'ধাপই', 'ওবাই', 'প্রতিষ্ঠানেও', 'পেয়েছে', 'কহতে', 'অট্টালিকার', 'সেনেটরদের', '🗣️', 'ট্রাইব্যুনালের', 'সংকলনমূলক', 'আখতার', 'দেখে', 'ভিসার', 'একমাত্র—', 'আইডিএফ', 'ফ্লেমিংয়ের', 'আন্দোলনরত', 'উৎসাহে', 'আখোঁ', 'সুদু', 'দিনরাত্রি', 'বোঝেনি', 'ট্রফিপ্রাপ্তির', 'সচিনকেই', 'দেখাই', 'নিলে', 'রেবতি', 'সারমেয়রাই', 'প্রত্যের', 'মাখানো', 'মহমেডানে', 'একসুর', 'দ্বিতীয়', 'মহিলারা', 'শোরগোলে', 'ভৌতিক', 'নির্ভয়াকাণ্ড', 'আইল্যান্ডসে', 'নাহাতা', 'হোয়াটস', 'বিদ্যাধারা', 'রিসার্চএর', 'ফলায়', 'চন্দ্রশেখর', 'হয়রানিকে', 'কারশেডে', 'পেপারলেস', 'শিল্পকর্মই', 'ঈশ্বরীয়', 'ভুমিকা', 'আসলে—', 'বিদ্যালয়ে', 'সাংবাদ', 'চাঁদনি', 'প্রতিভাশালী', 'লুকিয়ানোভা', 'খানবিলকর', 'কত', 'সিজন', 'উনতিরিশে', 'অন্ধকারেই', 'ছেলে', 'গম্বুজের', 'তোদের', 'প্রামাণিক', 'সেজে', 'কুড়নোর', 'উত্তরপ্রেদেশের', '\\u200cরাষ্ট্রীয়', 'ঢাকঢোল', 'বৃন্দাবনের', 'হাসলেন', 'কর্মীরই', 'তরি', 'উবেই', 'পাত্তর', 'অনুতপ্ত', 'আসুক—', 'ওয়ার্কপের', 'ডবলডেকার', 'মুশকিলে', 'শুঁড়ে', 'পারফিউমের', '২০০৬এ', 'যুদ্ধে', 'বিকোবে', 'দেশদ্রোহের', 'অ্যালেক্সি', 'পর্যটনমন্ত্রীর', 'আরিফুল্লা', 'ধূ', 'গাঢ়ত্বে', 'অজিতকেই', 'চলত', 'বিশ্বাসঘাতকতায়', 'তারুণ্য', 'নিরাপত্তামন্ত্রী', 'আধুলি', 'ফ্যানক্লাব', 'ডাকনামা', 'এগুলির', 'পাটকেই', 'বিশ্বজয়ের', 'দৌড়বীর', 'আনবাড়ি', 'কামড়ের', 'বক্সটি', 'অভিমন্যুকে', 'তিনও', 'ব্যধিতে', 'সাংহাই', 'ঘূর্ণির', 'আদিলের', 'পটনির', 'কুসুম্বা', 'ক্লোজড্\\u200c', 'জ্বালিয়েও', 'ভিসনাগরে', 'অভ্যন্তরেও', 'জিনপিংয়ের', 'অ্যাম্বুলেন্সও', 'ফেড', 'এটিএম', 'নিকোলকে', 'হিলসা', 'উপকৃতই', 'খারাপই', 'আরকী', 'হোলি', 'ঘাঁটিতে', 'পতন৷', 'পুব', 'এসসিজিতে', 'ফিল্মমেকারদের', 'নলীন', 'গণতন্ত্রহীনতার', 'গ্রীষ্মের', 'শপিংমল', 'চাঁদনী', 'কেলাস', 'সমুদ্রপৃষ্ঠ', 'নয়কো', 'পঞ্চত্ব', 'এসটিইএ', 'প্রফুল্লবালা', 'শান্তিকে', 'গড়লেন', 'ম্যালেনা', 'মানিই', 'মাকড়সা', 'মোড়গুলিতে', 'নিশানায়', 'বিল্ডিংয়', 'অ্যারন', 'ভব্যতা', 'অ্যাকাদেমি', 'কুস্তিগীরদের', 'ভোটব্যাঙ্কের', 'দোকান', 'হঠে', 'ইয়েট্\\u200cস', 'সিদ্দান্ত', 'পাড়ুইয়ের', 'বাতিলরে', 'মন্নপুরম', 'মনস্তাপে', 'উঠলও', 'দুয়োরানী', 'তিনও', 'পুরোহিত', 'ফেয়ারনেস', 'গোমাঙ্গর', 'বিষাদগাথায়', 'বিনিকেই', '১০', 'পরিবেশনাতেও', 'কানাঘুষোই', 'হ্যারিকে', 'বুথফেরত', 'অভ্যাসেও', 'চলেনি', 'দেব৷', 'স্পাইডারম্যান', 'এঞ্জেলের', 'স্বভাবও', 'পিঠও', 'খড়কুটোর', 'ওরিয়েন্ট', 'ডিসিশনকে', 'ফলভোজী', 'ধরতে', '২৩তম', 'চোটের', 'স্বয়ংসেবক', 'শিক্ষকদের৷', 'মোটিফের', 'শ্যুটিংটা', 'নাহা', 'ওমাগবেমিকে', 'মুজাফফরনগরের', 'মায়েরাই', 'জড়ানোটা', 'অপঘাতে', 'ক্রীড়াবিদকে', 'শিক্ষামন্ত্রী', 'CCD', 'জঙ্গলমহল', 'গিলমার', 'দেবত্ব', 'ঠান্ডাকেও', 'দেশবিরোধীর', 'সেলিমেরও', 'ঘেরাটোপ', 'সৌন্দর্য্যের', 'আবদুল্লার', 'সেনসিবল', 'ওয়র্কশপের', 'ঝ়়ড়', 'অন্ধকারময়', 'এনেও', 'উফ্\\u200c', 'মন্দীভূত', 'ডায়ালিসিসের', 'ফড়ণবীশকে', 'বয়ানেও', 'রক্তকরবীর', 'ফ্যাসিজমের', '১৭৪টি', 'কোলে', 'মেট্রোও', 'নিকাহনামাতেই', 'আইএএস', 'গতির', 'চার্লসের', 'তৈলাক্ত', 'গাদাগাদা', 'দুটকরো', 'বাহিনির', 'চিতালে', 'বেস্ট', 'প্রতিনিধিকেও', 'ব্যক্তিও', '৩১৭', 'অশ্নীল', 'গণশার', 'আইমার', 'মেঘদূত', 'ডেভিডসনের', 'রোমান্থন', 'পুঁজিবাদ', 'বইয়ের', 'উত্পাদনের', 'নাচতে', 'দুর্গাপুজোর', 'চাপুক—', 'প্লাতিনি', 'তাড়াবে', 'বিপর্যয়কে', 'ব্যাপ্ত', 'ওয়াটারের', 'নেমেছিল', 'পথশিশুর', 'দেওয়ানো', 'উন্নাওয়ের', 'বেড়াজাল', 'প্রাপ্তের', 'শন', 'শ্রীয়া', 'লুফথানসা', 'শাসনকে', 'গ্যালনের', 'কনিষ্ঠটি', '২৪৬', 'টুর্নামেন্টই', 'ব্যান্ডটা', 'আইনসম্মত', 'উৎপাদকেরা', 'বায়ুসেনার', 'টুইটগুলি—', 'কমলবাবুর', 'জবির', 'বাংলাদেশর', 'নির্মীয়মাণ', 'চাকচিক্যে', 'সুশান্তবাবুর', 'স্মৃতিভ্রংশের', 'মাদুরাই', 'ব্যবহারকারীদের', 'आएंगे', 'নবদম্পতী', 'হেগেই', 'টাঁকশাল', 'রসগোল্লা', 'সুনির্মাণ', 'কার্টুনকাণ্ড', 'চরিত্রেরও', 'বেচাল', 'সংসারটি', 'মাইরি', 'বীররাও', 'অগ্নিভ', 'সাহেবসুবোদের', 'অ্যালাউড', 'পাটোয়ারি', 'নিয়ন্ত্রণবাদ', 'মুখচ্ছবি', 'উদ্যেশ্যে', 'স্রষ্টা', 'যোগানের', 'করছেল', 'বছরগুলির', 'একদিনের', 'ডার্ক', 'হাসিমুখে', 'জিপিও', 'কালপর্বকেই', 'খেলবেনই', 'সঙ্কেতও', 'যুক্তরা', 'তুলছে', 'মিষ্টে', 'মিত্তির', 'কমিশনে', 'টার্নার', 'মামাবাড়ির', 'সিদ্ধান্তকেও', 'উল্কাপতনে', '“প্রিয়ঙ্কার', 'রোমাঞ্চে', 'উক্তি', 'প্রচিলত', 'অরাজনৈতিক', 'স্লটারহাউস', 'হুল্লোড়ের', 'ডিলার', 'ওয়েব', 'কুঁজওয়ালা', 'গুজগুজ', 'অতই', 'ওমপ্রকাশের', 'ব্যাকরণবিধি', 'আশার', 'BASIL', 'মৃণালের', 'চমকও', 'থিম্মাইয়া', 'চাকলাদার', 'মালার', 'কনট্রেরাস', 'জার্নাল', 'তড়িদাহত', 'শিল্পবিরোধী', 'প্যারীচাঁদ', 'সিসিপিএর', 'আসবাব', 'ফুটিয়েছে', 'বগলেও', 'বায়োটিক', 'ছিঁড়েছে', 'ডাক্ট', 'হরিরামপুরের', 'নেত্রালয়ের', 'রোকা', 'সায়নকে', 'হাপিশ', 'চৌহদ্দিতে', 'ইন্টারভ্যালের', 'শবযাত্রা', 'নাটাবাড়িতে', 'অভিবাসনের', 'অধীর', 'আত্মসমর্পণ', 'আরবাজ', '২লক্ষ', 'প্লেয়ারদের', 'কল্যানগড়', 'সমাজতত্ত্ববিদ—', 'ঢাকনা', 'নিক্কো', 'সুখ্যাতিই', 'কবজা', 'শিবরাজ', 'শ্রেষ্ঠদের', 'গীতশ্রীর', 'শুনশান', 'কৃষ্ণেন্দুবাবু', 'প্রতিবেদকের', 'গ্রিটিংস', 'ভ্যারাইটিই', 'গলি', 'দশা', 'বাকি', 'বরাতএর', 'অ্যাফেক্টেড', 'ভালুকা', 'গ্রসিং', 'পুকুরের', 'পাইক', 'ইম্পর্টেন্ট', 'শব্দবন্ধ', 'মোটিয়াবুরুজের', 'ব্রজেশ', 'বদরক্ত', '৮৩তে', 'করনদিঘী', 'অনসম্বলের', 'নামও', 'গোতিই', 'স্বাস্থ্যভবনেই', 'থাকলেন', 'উহ্যই', 'সিইওর', 'ধ্বংসলীলাই', 'রায়তেই', 'সহযোগী', 'প্রশাসনকেই', 'সাথে', 'মেকানিকস', 'পুনঃপ্রমাণ', 'ক্ষুধা', 'উত্তেজনার', 'অনুপমকেও', 'রানাওয়াত', 'কিরিয়া', 'কাটলেও', 'রসায়ন—', 'স্বরাষ্ট্রমন্ত্রীকে', 'আরিয়ানের', 'বুকিংয়ে', 'হেরিটেজ', 'একাংশেরও', 'আস্ট্রেলিয়ায়', 'জুড়ল', 'কয়েকের', 'দুধকুমার', 'নিবেদিতাদেবী', 'খাতাতেই', 'নাদভি', 'কুতুবউদ্দিন', 'রাজেন', 'ভালবাসি”', 'বোঝেনি', 'স্বয়ংসেবকের', 'শোকপ্রস্তাব', 'বাধিয়েছিলেন', 'হটলেন', 'ভালবাসব', 'ছিটিয়েই', 'স্বয়ংসেবক', 'ওবাস', 'সমবেদনা', 'শাহরিয়ার', 'খাওয়াচ্ছে', 'পদ্ধতিতে', 'সুলেমান—', 'লেটারে', 'রামধনুর', 'খেলানোই', 'ঢালাইয়ে', '“সংস্কৃতি', 'লাইব্রেরিরও', 'বুথমুখো', 'শরাফের', 'কম্মটি', 'ফেডারেলের', 'সিন্হাকে', 'পড়াশোনারও', 'চক্র', 'খুঁজেছিলাম', 'ডিস্ট্রিবিউটররা', 'রেন', 'অনুশীলনরত', 'অনুশীলনরত', 'ন্যশনাল', 'ইনিংসটা', 'মনোমালিন্যও', 'ইস্তেহারে', 'এলিস', 'প্রেমিকারা', 'জেল্লার', '“প্রচার', 'ভেঙ্গে', 'রহা', 'কোম্পানীর', 'প্রতিটির', 'মিরজিয়া', 'স্টাইকার', 'জানজটের', 'গণেশবাবা', 'লোবেন', 'দীর্ঘদেহীই', '“যদি', 'সিরিসেনাও', 'ভদ্রতা', 'গোলমাল', 'শেইখ', 'বুকে', 'দৌঁড়', 'ডায়েরিতেও', 'মন্ত্রীমশাইয়ের', 'থ্যাঁতলানো', 'আলাপনবাবুকে', 'তুলসিপাতা', 'ব্লো', 'বিধির', 'রবারের', 'সোভিয়েতের', 'আকবরকেও', 'খাদ্যনালি', 'লালিয়া', 'দৌড়োদৌড়িতে', 'ফোব', 'লুক্\\u200cস', 'কাপ্\\u200cলদের', 'সাহায্যে', 'নামানো', 'ডেইলিহান্ট', 'জিমন্যাস্টিক', 'ঘুরতে', 'করাতেই', 'সুখ্যাতিও', 'লোকদের', 'ভোটিং', 'পেরেক', 'ছন্দে', 'ব্যাবসা', 'কিসক্যাম', 'রিভলভারে', 'প্রতিমামূর্তির', 'প্লেটলেটের', 'জাদেজারা', 'অর্ডিনেশনের', 'কমলের', 'সুভাষদা', 'অজিতার', 'বিষধর', 'পকেট', 'শিকদার', 'ছানির', 'সেনিয়েও', 'ইনডেক্সকে']\n"
          ],
          "name": "stdout"
        }
      ]
    },
    {
      "cell_type": "code",
      "metadata": {
        "id": "bbpKyvxqn8Tu",
        "colab_type": "code",
        "colab": {
          "base_uri": "https://localhost:8080/",
          "height": 53
        },
        "outputId": "59c72e6b-315a-4d71-9253-a3bd8728ffab"
      },
      "source": [
        "print(ban)"
      ],
      "execution_count": 76,
      "outputs": [
        {
          "output_type": "stream",
          "text": [
            "['commandhin', 'byaparo', 'loksabhar', 'samorther', 'rajibkumarer', 'tobger', 'bynak', 'coperative', 'bhagtuku', '116b', '', 'Shilpo', 'rajjojoyer', 'moynatodontokari', 'bishodhorke', 'upobas', 'shubhrokanti', 'poche', 'egaro nombor', 'kolyanessor', 'beshkoyekjon', 'peshadari', 'nojdari', 'tukro', 'mahir', 'javedji', 'chakkao', 'patropokhyokeo', 'CR7ke', 'dharabahikvabe', 'andulusian', 'lokhandwalate', 'srotake', 'nameo', 'gune', 'hurohuri', 'bahini', 'kindergarten', 'debina', 'nanti', 'serbiaay', 'porkhawa', 'abedonei', 'sonajhara', 'jiko', 'chumbok', 'dhutite', 'chata', 'porjotokmontroker', 'purob', 'monder', 'sindhiaparar', 'royna', 'trinetror', 'nimei', 'The growth a', 'Fanatic', 'Swairatantrik', 'Moumachhi', 'Ashwastoi', 'Bollone', 'Singla', 'Blna', 'Poreche', 'Chomotkar', 'Kuno', 'Meseg', 'Kayemer', 'Fultola', 'Ghaiyo', 'Modigolite', 'Durgake', 'Atto', 'Dostidarer', 'Songhotidiboser', 'sochibaloyo', 'doli', 'satanno', 'porikolpitovabei', '1799', 'shontanhara', 'কোটি', 'Shona', 'Jhaap', 'Pahar Churay', 'Dolgulite', 'Gokule', 'khosra', 'kone', 'habul', 'bodmejaji', 'natore', 'rute', '1993', 'har', 'Kohli', 'Ogobhir', 'stholjuddho', '', 'in place', 'pabuk', 'khanar', 'vumihin', 'kheyeo', 'seshbelar', 'rosikota', '1995', 'nipulbabu', '', 'biswashi', 'lana', 'vasha', 'talikate', 'onnannobar', 'royechey', 'sohokormirai', 'kisike', 'shoumojit', 'BMI', 'world', '', '', '34234234', '', '', '', '', 'sdads', 'sdasdsd', 'sfasfsf', 'sdasd', 'sdasd', 'hello', '', '', '', '', '', '', '', '', '', '', '', '', '', '', '', '', '', '', 'Chirang', 'upantobashi', 'bochortai', 'Shayke', 'Tanar', 'Boyojoyshtho', 'nitibodh', 'ongsho', 'americar', 'bara', 'bara', 'sheme', 'bajar', 'hello', 'sentance', 'authority', 'ivaluation', 'gor', 'finals', 'kathuriay', 'ulte', 'James er', 'gonge', 'brishtir', 'emergency', 'nobonirmito', 'porimanke', 'Satash', 'Stoper', 'Kriketerero', 'Otithiporayon', 'Rakhdhak', 'Dadoshite', 'Moheshe', 'Dheu', 'Aware', 'Shosha', 'panpatro', 'dottobad', 'Jewel', 'Somon', 'Farha', 'rumani', 'Grihosthalir', 'Praoschitto', 'Hoeche', 'Sourav', 'Army', 'Besirvager', 'merudonda', 'rokteo', 'punorudharer', 'inbox', 'Home task', 'shongskoron e', 'moshkorao', 'aakben', 'rojgaar', 'cholaier', 'dagubati', 'Kobita', 'Kobita', 'prokashok', 'bajar', 'Market', 'debol', 'pete', 'attodaner', 'tohobilo', 'nilangshi', 'kelkarer', 'dal', 'totor', 'heveh', 'canadatei', 'avoid', 'tint', 'mishbe', 'festivaler', 'polardo', 'yerwara', 'matten', 'koshakoshite', 'manobsomaje', 'gutikotok', 'tabur', 'okolponiyo', 'nondoram', 'INDIA', 'heaven ', 'promilara', 'shatpolsa', 'nachmohol', 'joriyeche', 'sthaniyo', 'choshor', 'chelepilerai', 'atate', 'kriketarderr', 'shirshonetaraw', 'durdanto', 'harself', 'komishonareteo', 'mathi', 'moulobadishoktir', 'pornokutiri', 'suc', 'wiketkiparder', 'penka', 'golpark', 'session ', 'obyabhit', 'siyak', '', 'bajaridher ', 'nagendra ', 'angule', 'uluberia tei', 'madras', 'hon', 'pyad', 'sthanoi', 'chaki', 'upl', 'haber', '', 'bondobostota', 'aninda da', 'bigyane', 'mohit', 'khokababu', 'chereni', 'luntito', 'kirtikeo', '809', 'porosudin', 'khojte', 'chingri', 'sorlei', 'itipurbeo', 'chulke', 'odhikotor', '52198', 'krishok', 'tepantor', 'skype', 'innings', 'olypub', 'backfoot', 'jonbirodhi', 'onnake', 'chitrobani', 'sopno puron', 'ortho sahajjo', 'krishika', 'Homemade', 'Tunneling', 'lassye', '300 foot', 'hature', 'obotoronke', 'jolodharatite', 'charano', 'panesoroke', 'einsteinder', 'mujibkonnyan', 'chokranter', 'adorshe', 'lokbohon', 'Haran ni ', 'Joydeber', 'Patent er ', 'Namghore', 'Biswajit ke ', 'Bhibhan ', 'Chargesheet er ', 'Monidutor', 'Duarter', 'Sposhtobhashay', 'Obhiggo', 'Jonmodingulo', 'Sheli', 'Paoao', 'Dhorshitar', 'Chhotogolpera', 'Chola', 'Chobitake', 'bakko', 'shulkojuddho', 'gorgo', 'picketingo', 'karatai', 'folk', 'jetuku', 'mankod', 'crickete', 'shabash', 'nolkuper', 'jibon', 'madhober', 'gudame', 'chomkito', 'upayontor', 'chudben', 'toder', 'alaminer', 'ucchoshito', 'lalram', '739', 'kothagulir', 'poddhotita', 'godkodio', 'viur', 'bondofotore', 'pouchoi', 'shofikulla', 'badite', 'fashionable', 'mohakasheri', 'bocchonra', 'muli', 'sharabochor', 'marcus', 'atlas', 'probochon', 'shokhitter', 'introduced', 'combination', 'bidipta', 'sankraman', 'eggplant', 'kobita', 'dhondhe', 'palano', 'corporeter', 'dhoreni', 'roudrokorojjol', 'dekhlei', 'meyadke', 'bachay', 'Timothi', 'Shuporichito', 'Natoker', 'Khudera', 'Jan i ', 'Nirapottao', 'Rupor', 'Boho', 'Jyotishbanite', 'Mamudke', 'Sheishutre', 'Morchara', 'kendriya', 'Insta', 'CT scan', 'Shubondobosto', 'Nijossho', 'Dheer', 'Shungshodkeo', 'Ainmontrio', 'Joel', 'Fanbox', 'Autobunao', 'Nogode', 'Ator', 'Nattyomuhurto', 'Redmen', 'Buddhodebkei', 'Himar', 'Romanchokor', 'Inauguration a', 'Kohali', 'badhone', 'Bhalobasa', 'Godfatherk', 'Partygulike', 'Marsari', 'Tabrij', 'Ati', 'Sumaner', 'Samajvidya', 'Bhittite', 'Mapenni', 'Apollo', 'Angshoke', 'Swadeshider', 'Sourceder', 'Baper', 'Usain', 'Banwarilal', 'Andoloner', 'Birpurush', 'Muffler', 'Artir', 'Porikhitobhabhe', 'Limito', 'Kiseri', 'Jogaben', 'Santaruder', 'Styleta', 'ami', 'tomar bari koi', 'soshorirer', 'presidencir', 'lyangdoner', 'sommoti-swoho', 'puneri', 'outstepe', 'development', 'horishchaterjee', 'Vortsona', 'satire', 'passports', 'to rot', 'the word', \"Mr. Sudip's\", 'even in mourning', 'councilors ', 'dramatic', 'made', 'fact', 'clamp', 'instantly', 'of bangla', 'have been born', 'classmates', 'chosen', \"lizard's\", 'sent', 'latrine', 'hunters', '', 'indulged', 'in that matter', 'a volume', \"successors'\", 'able', 'gentleman', 'water-logged', 'onion', 'honours', 'vigorous', 'to run', \"demands'\", 'users', 'had shown', 'rescue', 'air-conditioned', 'Kipling', 'Rajabazar', 'Movie', 'in rhythm ', 'Francisco', 'not changed', 'sent', '1738', '166', 'in the garden', 'psychiatric patient', 'Plans', 'snakes', 'taroker', 'jenasaitiser', 'soudite', 'alocchoshuchiteo', 'ghurnijhorer', 'thugs', 'constableke', '99', 'stacy', 'shubhrangshu', '', 'watkins', 'budhpur', 'filder', 'compactore', 'vivo', 'techtonic', 'jordar', '700006', 'alokchitrer', 'adou', 'obbhesh', 'alaponbabu', 'pagolpara', 'noboborsher', 'bharotlokkhi', 'bhangore', 'kebineo', 'praggotar', 'chalanok', 'gotokoyekdin', 'poribeshbidder', 'nadiake', 'shamogrie', 'bhashkorbabuo', 'kenata', 'patthokrom', 'ongodata', 'testeo', 'jatrapother', 'bhajen', 'krrishiprodhan', 'shishuke', 'prokashona', 'morphed ', 'bishthar', 'glovese', 'landlord', 'ramose e', 'obangali', 'praniti', 'ekjot', 'khaddoponner', 'gontobbe', 'dorner', 'chalanoro', 'dabidarder', 'protibadti', 'pujo-', 'ronjon', 'pistol', 'tv', 'rationcard ', 'upokoron', 'bidyut', 'homti', 'deshtai', 'niyei', 'danhathe', 'Teni da ke', 'Pratul', 'rekhechilam', 'Sabha ti', 'Bishwa Club', 'Charitro guli', 'khelchen', 'Kumir', 'Kholen', 'Kholen', 'Coinguli', 'Shohishpur', 'Posteroi', 'Atmoghatey', 'Bisheshwar', 'Jabar', 'Mokkake', 'Gstraw', 'Sayesha', 'Charane', 'Papiyake', 'Sasurhio', 'thanake', 'aami', 'ami', 'thik aache', 'mohniyake', 'Punordokhole', '2022', 'Nodiner', 'Bisleshon', 'Sigurosson', 'Bajanoy', 'Bajanoy', 'Bogole', 'Songogune', 'Polio', 'Durante', 'Krishnoganjer', 'Protijogitar', 'Artonade', 'Didhabijorito', 'paddabot', 'jubovarotitei', 'doklamer', 'makilroy', 'hedener', 'poddei', 'jubokendre', 'parlamenterians', '102', 'drisshopot', 'lola', 'modider', 'koyeker', 'amanda', 'palongdarkeo', 'Patleo', 'Pardesh', 'Srijanar', 'Boubajar', 'Janashadharon', 'Santosh', 'appreciate', 'sorto', 'mukundopursoho', 'chalabo', 'entally', 'imi', 'yaarer', 'utheche', 'prottabortankeo', 'khondasho', 'ashorjer', 'uddhastoder', 'loktar', 'tarikta', 'proshongshito', 'londobhondo', 'lompat', 'brazile', 'rhitke', 'bhalomondo', 'mundu', 'stuttgart', 'branch k', 'hotta cheshta', 'porodol', 'pochattor', 'aborton', 'troller tir o', 'jonomanob', 'kilo litre', 'ghanoghor', 'vivek', 'alu', 'korechilo', 'bikolponiyo', 'koilasji', 'panchtolar', 'chinmoyee', 'miss', 'boat', 'taherer', 'Mammal', 'mohanti', 'chotoporda', 'phone-e', 'atkale', 'sulotadi', 'jhorkhali', 'Manush ti', 'Liye', 'Desh tyagi', 'Dupokhher', 'Compactor', '', 'Animal', 'Afterlife as well', 'Distributed', 'Sadness', \"Srikanta's\", 'Twenty years', 'Broken', 'Sodorthok', 'Ratander', 'Obobahikake', 'Godara', 'Chorchito', 'Bhateo', 'Gilemete', 'Brojomohon', 'Gixaar', 'Bhobanipurer', 'I', 'Clubder', 'Bitkoyenke', 'Pouchabe', 'Odhyaytike', 'fan', 'pad', 'Vuvarot', 'Arsen', 'bichcinnovabe', 'kocherai', 'ashrer', 'pathra', 'shastr', 'rajnititai', 'praptike', 'torke', 'kolonir', 'councilorder', 'thakai', 'bomabajir', 'rathor', 'soptorshiro', 'Location o', 'Protirodhe', 'Tinsho uno tirish', 'Sabalok', 'Begusoraiye', 'International', 'Bhara', 'kapiyechilo', 'dorshker', 'dui', 'moncho', 'sorbonimno', 'komiske', 'Ghoshparar', 'Lagab', 'Ayesha', 'Paragnayer', 'cholio', 'gaseo', 'Jibon', 'Khata', 'বোবা', 'Srijit', 'Arrogant', 'Crores', 'Manindra', 'Triptidayok', 'Chickenguloy', 'Agrogotite', 'Plus er', 'Kosti', 'Sangeet shikkhikar', 'Dhapai', 'Obai', 'Protisthaneo', 'Peyeche', 'anirban', 'Ottalikar', 'senaterder', 'kashi?', 'Tribunaler', 'shonkolonmulok', 'akhtar', 'dekhe', 'visar', 'ekmatro', 'IDF', 'fleminger', 'andolonroto', 'utshahe', 'akho', 'sudu', 'dinratri', 'bojheni', 'trophy praptir', 'sachin kei', 'dekhai', 'nile', 'reboti', 'sharomeyorai', 'protyer', 'makhano', 'mohamedane', 'ekshur', 'ditiyo', 'mohilara', 'shorgole', 'bhoutik', 'kalke', 'ajke', 'nahata', 'whats', 'bidhyadhara', 'Nirjon', 'Shohaay', 'Chondroshekhor', 'Hoyranike', 'Karshede', 'Psperless', 'Shilpokormoi', 'Divine', 'Introduction', 'Actually', 'At school', 'News', 'Moonlight', 'talented', 'talented', 'khanbilkor', 'koto', 'season', 'untirishe', 'ondhokarei', 'chele', 'gomvujer', 'toder', 'pramanik', 'seje', 'kurnor', 'Uttorprodesher', 'Rashtriyo', 'Dhakdhol', 'Brindaboner', 'Hashlen', 'Kormiri', 'Tori', 'Ubei', 'Pattor', 'Onutopto', 'Ashuk', 'Workpayer', 'Double-decker', 'Mushkile', 'Shure', 'Perfumer', '2006 e', 'Juddhe', 'Bikobe', 'Deshodroher', 'Alexei', 'Porjotonmontrir', 'Arifullah', 'Dhu', 'Garottwo', 'Ajitkei', 'Cholto', 'Bishwashghatokotay', 'Tarunnyo', 'Nirapottamontri', 'Adhuli', 'Fanclub', 'Daknama', 'Egulir', 'Patkei', 'Bishyojoyer', 'Dourbir', 'Anbari', 'Kamorer', 'Boxti', 'Ovimonnyuke', 'Tino', 'Byadhite', 'Shanghai', 'Ghurnir', 'Adiler', 'Potnir', 'Kusumba', 'Closed', 'Jwaliyeo', 'Visnagore', 'Ovvyontore', 'Xinping er', 'Ambulance o', 'Fed', 'ATM', 'Nichole ke', 'Hilsha', 'Upokritoi', 'Kharap e', 'Arki', 'Holy', 'Ghatite', 'Poton', 'Pub', 'SCG te', 'Filmmaker der', 'Nolin', 'Gonotontrohinotar', 'Grishhyer', 'Shopping mall', 'Chandni', 'Kelash', 'Somudroprishtho', 'Noyko', 'Ponchottwo', 'STEA', 'Profullobala', 'Shantike', 'Gorlen', 'Malena', 'Mani', 'Makorsha', 'Morgulite', 'Nishanay', 'Building', 'Aaron', 'Vobyota', 'Academy', 'Kustigirder', 'Votebank er', 'Dokan', 'Hothe', 'Yates', 'Siddhanto', 'Parui er', 'Batilre', 'Monnopurom', 'Monostape', 'Uthlo', 'Duorani', 'Tino', 'Purohit', 'Fairness', 'Gomangor', 'Bishadgathay', 'Binikei', '10', 'Poribeshonateo', 'Kanaghushoi', 'Harryke', 'Boothferot', 'Ovvyasheo', 'Choleni', 'Debo', 'Spiderman', 'Angel er', 'Shovab o', 'Pith o', 'Khorkutor', 'Orient', 'Decision ke', 'Folbhoji', 'Dhorte', '23th', 'Choter', 'Soyongshebok', 'Shikkhokder', 'Motif er', 'Shootingta', 'Naha', 'Omagbemike', 'Mujaffornogorer', 'Mayerai', 'JoRanota', 'Opoghate', 'Krirabidke', 'Shikhkhamontri', 'CCD', 'Jongolmohol', 'Gilmar', 'Debotto', 'Thandakeo', 'Deshbirodhir', 'Selimero', 'Gheratop', 'Shoudorjer', 'Abdullar', 'Sensible', 'Workshoper', 'Jhor', 'Ondhokarmoy', 'Eneo', 'Uff', 'Mondivut', 'Dialysiser', 'Foronbishke', 'Boyaneo', 'Roktokoborir', 'Fasijomer', 'Eksho chuattorti', 'Kole', 'Metro O', 'Nikahnamatei', 'IAS ', 'Gotir', 'Chair', 'oily', 'Congested ', 'Du-tukro', 'Bahinir', 'Chitale', 'Best', 'Protinidhi-keo', 'Bekti-o', '317', 'Oshlil', 'Gonshar ', 'Aimar', 'Meghdut', 'Devidson er', 'Romanthon', 'Pujibad', 'Boiyer', 'Utpadon er', 'nachte', 'durgapujor', 'chapuk', 'Platini', 'tarabe', 'biporjoyke', 'byapto', 'waterer', 'nemechilo', 'pothoshishur', 'deyano', 'unnawayer', 'berajal', 'prapter', 'shon', 'shriya', 'lufthansa', 'shashonke', 'gyaloner', 'konishthoti', 'duishotochechollish', 'turnamenti', 'bandta', 'টেবিল', 'Producers', 'Airfighters', '', '', '', \"Bangladesh's\", 'On Development', 'Glittering ', '', '', '', '', '', 'nobodompotti', 'hegei', 'tyakshal', 'rasogolla', 'sunirman', 'cartoonkando', 'choritrero', 'bechal', 'songsarti', 'mairi', 'birrao', 'agnibha', 'sahebsuboder', 'allowed', 'patoari', 'niyontronbad', 'mukhocchobi', 'uddesshe', 'srosta', 'joganer', 'Had done', \"Years'\", \"One Day's\", '', 'With smiling face', 'GPO', 'Kalporbokei', 'Khelben e', 'Sonketo', 'Juktora', 'Tuleche', 'Mishte', 'Mittir', 'KorOna', 'tarnar', 'mamabarir', 'sindhantokeo', 'ulkapotone', 'priongkar', 'romance', 'ukti', 'procolito', 'orajnoitik', 'Slaughter-house', 'Hullor', 'Dealer ', 'Web', 'Kunjwala', 'Gujguj', 'Otoyi', 'Omproksaher ', 'Byakoronbidhi', 'Ashar', 'Basil', 'Mrinaler', 'Chomoko', 'Thimmayiya', 'Chakladar', 'Malar', 'Contreras', 'Journal ', 'Toridahoto', 'Shilpobirodhi', 'Pyaarichaand', 'CCPer', 'Ashbab', 'Phutiyeche', 'Bogoleo', 'Biotica', 'Chnireche', 'duct', 'Horirampur er', 'Netralayer', 'Roka', 'Sayonke', 'Haapish', 'Chowhodditey', 'Intervaler', 'Shobjatra', 'Natabarite', 'Abhibashoner', 'Awdhir', 'Aatmyoshomorpon', 'Aarbaaj', 'Du Lokkho', 'Playerder', 'Kalyangawr', 'Shomaj-tottowbid', 'Dhakna', 'Nikko', 'Shukkhyati-ee', 'Kobja', 'Shiboraj', 'Sresthoder', \"Geetasree'r\", 'Shunshan', 'Krishnendubabu', \"Protibedok'der\", 'Grretings', 'Variety-ee', 'Goli', 'Dawsha', 'Baki', 'Boraater', 'Affected', 'Bhaluka', 'Grossing', 'Pukurer', 'Paik', 'Important', 'Shobdobondho', \"Metiaburuj'er\", 'Brojesh', 'Bodrokto', \"Teeraashi' te\", 'Korondighi', \"Ensemble'er\", \"Naam'o\", 'Gotitei', 'Sasthyobhobon-ei', 'thaaklen', 'Ujjho-ee', 'Sewer', 'Dhongshoshila-ee', 'Rayat-ei', 'Shohojogi', 'Proshashonkei', 'saathe', 'Mechanics', 'Punoh-promaan', 'Khudha', \"Uttenjona'r\", 'Anupamkeo', 'Ranawat', 'Kiriya', 'Kaatleo', 'Roshayon', 'Shawrashtromontri ke', \"Aryan'der\", 'Booking-e', 'Heritage', 'Ekangshero', 'Australia-e', 'Jurlo', 'Koyeker', 'Dudhkumar', 'Nibeditadebi', 'Khatatei', 'Nadvi', 'Kutubuddin', 'rajen', 'valobasi', 'bojheni', 'soyongseboker', 'shokprostab', 'badhiyechilen', 'hotlen', 'valobasb', 'chitiyei', 'soyongsebok', 'obas', 'somobedona', 'shahriyar', 'khawacche', 'poddotite', 'suleman', 'letare', 'ramdhonur', 'khelanoi', 'dhalaye', 'songskrriti', 'libraryro', 'boothmukho', 'shorafer', 'kommoti', 'federaler', 'sinhake', 'porashonaro', 'cokro', 'khujechilam', 'distributorra', 'ren', 'onushilonroto', 'onushilonroto', 'national', 'inningsta', 'monomalinyoo', 'istehare', 'elice', 'premikara', 'jellar', 'prochar', 'venge', 'roha', 'kompanyr', 'protitir', 'mirjiya', 'striker', 'janjoter', 'goneshbaba', 'Loben', 'Dirghodehi', 'Jodi', 'Sirisenao', 'Bhodrota', 'Golmaal', 'Sheikh', 'Buke', 'Dour', 'Dairyteo', 'Montrimoshaier', 'Thnatlano', 'Alapanbabuke', 'Tulsipata', 'Blow', 'Bidhir', 'Robarer', 'Sovieter', 'Akbarkeo', 'Khadyonali', 'Laliya', 'Dourodouriteo', 'Fob', 'Looks', 'Coupleder', '', '', '', 'Gymnastic', 'ghurte', 'koratei', 'sukkhatio', 'Lokder', 'Voting', 'perek', 'chonde', 'bebsha', 'kisscam', 'revolver e', 'protimamurtir', 'platelet er', 'jadejara', 'ordinationer', 'komoler', 'shuvash da', 'ajitar', 'bishodhor', 'pocket', 'Shikdar', 'chhanir', 'Senieo', 'indexke']\n"
          ],
          "name": "stdout"
        }
      ]
    },
    {
      "cell_type": "code",
      "metadata": {
        "id": "F_PMVHavoZnO",
        "colab_type": "code",
        "colab": {}
      },
      "source": [
        "COLUMN_NAMES = [\"bangla\",\"banglish\"]\n",
        "df = pd.DataFrame(columns=COLUMN_NAMES)\n",
        "df['bangla'] = ben\n",
        "df['banglish'] = ban\n",
        "df.to_csv('Bangla_Banglish_corpus.csv')"
      ],
      "execution_count": 77,
      "outputs": []
    },
    {
      "cell_type": "code",
      "metadata": {
        "id": "4n3996S_vS6Y",
        "colab_type": "code",
        "colab": {}
      },
      "source": [
        "COLUMN_NAMES = [\"banglaname\",\"banglishnames\"]\n",
        "df1 = pd.DataFrame(columns=COLUMN_NAMES)\n"
      ],
      "execution_count": 78,
      "outputs": []
    },
    {
      "cell_type": "code",
      "metadata": {
        "id": "DdWWUhxJtNwj",
        "colab_type": "code",
        "colab": {}
      },
      "source": [
        "benn = []\n",
        "bann = []\n",
        "wikinames = \"/content/drive/My Drive/datasets/wikinames.txt\"\n",
        "text_file = open(wikinames, \"r\")\n",
        "lines = text_file.readlines()\n",
        "for i  in range(len(lines)):\n",
        "  data = lines[i].rstrip(\"\\n\")\n",
        "  data = data.split('\\t')\n",
        "\n",
        "  benn.append(data[0])\n",
        "  bann.append(data[1])\n",
        "\n",
        "text_file.close()"
      ],
      "execution_count": 79,
      "outputs": []
    },
    {
      "cell_type": "code",
      "metadata": {
        "id": "BV1Wbkv-trM9",
        "colab_type": "code",
        "colab": {}
      },
      "source": [
        "df1['banglaname'] = benn\n",
        "df1['banglishnames'] = bann"
      ],
      "execution_count": 80,
      "outputs": []
    },
    {
      "cell_type": "code",
      "metadata": {
        "id": "iDE0EnkIv3o6",
        "colab_type": "code",
        "colab": {}
      },
      "source": [
        "df1 = df1.drop(13083)"
      ],
      "execution_count": 81,
      "outputs": []
    },
    {
      "cell_type": "code",
      "metadata": {
        "id": "5cug2VYX0SB1",
        "colab_type": "code",
        "colab": {}
      },
      "source": [
        "df1.to_csv('Bangla_Banglish_wikinames.csv')"
      ],
      "execution_count": 82,
      "outputs": []
    },
    {
      "cell_type": "code",
      "metadata": {
        "id": "7JeSN_cniAP4",
        "colab_type": "code",
        "colab": {
          "base_uri": "https://localhost:8080/",
          "height": 197
        },
        "outputId": "0ec4489a-057b-41f6-8323-3ec8f5fa4e69"
      },
      "source": [
        "df.head()"
      ],
      "execution_count": 83,
      "outputs": [
        {
          "output_type": "execute_result",
          "data": {
            "text/html": [
              "<div>\n",
              "<style scoped>\n",
              "    .dataframe tbody tr th:only-of-type {\n",
              "        vertical-align: middle;\n",
              "    }\n",
              "\n",
              "    .dataframe tbody tr th {\n",
              "        vertical-align: top;\n",
              "    }\n",
              "\n",
              "    .dataframe thead th {\n",
              "        text-align: right;\n",
              "    }\n",
              "</style>\n",
              "<table border=\"1\" class=\"dataframe\">\n",
              "  <thead>\n",
              "    <tr style=\"text-align: right;\">\n",
              "      <th></th>\n",
              "      <th>bangla</th>\n",
              "      <th>banglish</th>\n",
              "    </tr>\n",
              "  </thead>\n",
              "  <tbody>\n",
              "    <tr>\n",
              "      <th>0</th>\n",
              "      <td>কমান্ডহীন</td>\n",
              "      <td>commandhin</td>\n",
              "    </tr>\n",
              "    <tr>\n",
              "      <th>1</th>\n",
              "      <td>ব্যাপারও</td>\n",
              "      <td>byaparo</td>\n",
              "    </tr>\n",
              "    <tr>\n",
              "      <th>2</th>\n",
              "      <td>লোকসভার</td>\n",
              "      <td>loksabhar</td>\n",
              "    </tr>\n",
              "    <tr>\n",
              "      <th>3</th>\n",
              "      <td>সামর্থের</td>\n",
              "      <td>samorther</td>\n",
              "    </tr>\n",
              "    <tr>\n",
              "      <th>4</th>\n",
              "      <td>রাজীবকুমারের</td>\n",
              "      <td>rajibkumarer</td>\n",
              "    </tr>\n",
              "  </tbody>\n",
              "</table>\n",
              "</div>"
            ],
            "text/plain": [
              "         bangla      banglish\n",
              "0     কমান্ডহীন    commandhin\n",
              "1      ব্যাপারও       byaparo\n",
              "2       লোকসভার     loksabhar\n",
              "3      সামর্থের     samorther\n",
              "4  রাজীবকুমারের  rajibkumarer"
            ]
          },
          "metadata": {
            "tags": []
          },
          "execution_count": 83
        }
      ]
    },
    {
      "cell_type": "code",
      "metadata": {
        "id": "whuwUXZFIJYK",
        "colab_type": "code",
        "colab": {
          "base_uri": "https://localhost:8080/",
          "height": 197
        },
        "outputId": "99bee140-1f79-4596-a7ad-704f1f44acad"
      },
      "source": [
        "df1.head()"
      ],
      "execution_count": 84,
      "outputs": [
        {
          "output_type": "execute_result",
          "data": {
            "text/html": [
              "<div>\n",
              "<style scoped>\n",
              "    .dataframe tbody tr th:only-of-type {\n",
              "        vertical-align: middle;\n",
              "    }\n",
              "\n",
              "    .dataframe tbody tr th {\n",
              "        vertical-align: top;\n",
              "    }\n",
              "\n",
              "    .dataframe thead th {\n",
              "        text-align: right;\n",
              "    }\n",
              "</style>\n",
              "<table border=\"1\" class=\"dataframe\">\n",
              "  <thead>\n",
              "    <tr style=\"text-align: right;\">\n",
              "      <th></th>\n",
              "      <th>banglaname</th>\n",
              "      <th>banglishnames</th>\n",
              "    </tr>\n",
              "  </thead>\n",
              "  <tbody>\n",
              "    <tr>\n",
              "      <th>0</th>\n",
              "      <td>বালাসরস্বতী</td>\n",
              "      <td>Balasaraswati</td>\n",
              "    </tr>\n",
              "    <tr>\n",
              "      <th>1</th>\n",
              "      <td>আহমেদ বেন বেল্লা</td>\n",
              "      <td>Ahmed Ben Bella</td>\n",
              "    </tr>\n",
              "    <tr>\n",
              "      <th>2</th>\n",
              "      <td>দেবীপ্রসাদ চট্টোপাধ্যায়</td>\n",
              "      <td>Debiprasad Chattopadhyaya</td>\n",
              "    </tr>\n",
              "    <tr>\n",
              "      <th>3</th>\n",
              "      <td>আন্না মনি</td>\n",
              "      <td>Anna Mani</td>\n",
              "    </tr>\n",
              "    <tr>\n",
              "      <th>4</th>\n",
              "      <td>অমিয়ভূষণ মজুমদার</td>\n",
              "      <td>Amiya Bhushan Majumdar</td>\n",
              "    </tr>\n",
              "  </tbody>\n",
              "</table>\n",
              "</div>"
            ],
            "text/plain": [
              "                 banglaname              banglishnames\n",
              "0               বালাসরস্বতী              Balasaraswati\n",
              "1          আহমেদ বেন বেল্লা            Ahmed Ben Bella\n",
              "2  দেবীপ্রসাদ চট্টোপাধ্যায়  Debiprasad Chattopadhyaya\n",
              "3                 আন্না মনি                  Anna Mani\n",
              "4         অমিয়ভূষণ মজুমদার     Amiya Bhushan Majumdar"
            ]
          },
          "metadata": {
            "tags": []
          },
          "execution_count": 84
        }
      ]
    },
    {
      "cell_type": "code",
      "metadata": {
        "id": "ab_-eQnCIK77",
        "colab_type": "code",
        "colab": {}
      },
      "source": [
        "df1 = df1.rename(columns={\"banglaname\": \"bangla\", \"banglishnames\": \"banglish\"})\n"
      ],
      "execution_count": 85,
      "outputs": []
    },
    {
      "cell_type": "code",
      "metadata": {
        "id": "fJ4dC-j4IoBk",
        "colab_type": "code",
        "colab": {
          "base_uri": "https://localhost:8080/",
          "height": 33
        },
        "outputId": "f6553937-f3ad-405b-f94e-5dc8761904f6"
      },
      "source": [
        "len(df)"
      ],
      "execution_count": 87,
      "outputs": [
        {
          "output_type": "execute_result",
          "data": {
            "text/plain": [
              "1311"
            ]
          },
          "metadata": {
            "tags": []
          },
          "execution_count": 87
        }
      ]
    },
    {
      "cell_type": "code",
      "metadata": {
        "id": "Gv3-gItxLYPZ",
        "colab_type": "code",
        "colab": {
          "base_uri": "https://localhost:8080/",
          "height": 33
        },
        "outputId": "c755d2f9-b838-4abc-83f4-8ba4afec3d04"
      },
      "source": [
        "len(df1)"
      ],
      "execution_count": 88,
      "outputs": [
        {
          "output_type": "execute_result",
          "data": {
            "text/plain": [
              "13083"
            ]
          },
          "metadata": {
            "tags": []
          },
          "execution_count": 88
        }
      ]
    },
    {
      "cell_type": "code",
      "metadata": {
        "id": "C4uedc-1KDWR",
        "colab_type": "code",
        "colab": {}
      },
      "source": [
        "train = pd.concat([\n",
        "    df1[['bangla', 'banglish']],\n",
        "    df[['bangla', 'banglish']]\n",
        "    \n",
        "])\n",
        "train"
      ],
      "execution_count": null,
      "outputs": []
    },
    {
      "cell_type": "code",
      "metadata": {
        "id": "YeSWgQ0dLf0U",
        "colab_type": "code",
        "colab": {
          "base_uri": "https://localhost:8080/",
          "height": 33
        },
        "outputId": "a556e8d7-4f99-427f-a287-f3401c89fab2"
      },
      "source": [
        "len(train)"
      ],
      "execution_count": 90,
      "outputs": [
        {
          "output_type": "execute_result",
          "data": {
            "text/plain": [
              "14395"
            ]
          },
          "metadata": {
            "tags": []
          },
          "execution_count": 90
        }
      ]
    },
    {
      "cell_type": "code",
      "metadata": {
        "id": "Rjeho1iYLiCD",
        "colab_type": "code",
        "colab": {
          "base_uri": "https://localhost:8080/",
          "height": 33
        },
        "outputId": "907bb6a9-7f64-4d79-896c-81bd24304b29"
      },
      "source": [
        "1311 + 13083"
      ],
      "execution_count": 91,
      "outputs": [
        {
          "output_type": "execute_result",
          "data": {
            "text/plain": [
              "14394"
            ]
          },
          "metadata": {
            "tags": []
          },
          "execution_count": 91
        }
      ]
    },
    {
      "cell_type": "code",
      "metadata": {
        "id": "trkzYv_KLmYs",
        "colab_type": "code",
        "colab": {
          "base_uri": "https://localhost:8080/",
          "height": 35
        },
        "outputId": "c9dc1b87-7feb-44cf-a250-dcfc8afb7f55"
      },
      "source": [
        "train.bangla[1491]"
      ],
      "execution_count": 93,
      "outputs": [
        {
          "output_type": "execute_result",
          "data": {
            "application/vnd.google.colaboratory.intrinsic+json": {
              "type": "string"
            },
            "text/plain": [
              "'উইলিয়াম শার্প'"
            ]
          },
          "metadata": {
            "tags": []
          },
          "execution_count": 93
        }
      ]
    },
    {
      "cell_type": "code",
      "metadata": {
        "id": "1-5CI8A6OlAS",
        "colab_type": "code",
        "colab": {}
      },
      "source": [
        "train.to_csv('Full_Bangla-Banglish_Corpus.csv')"
      ],
      "execution_count": 95,
      "outputs": []
    },
    {
      "cell_type": "code",
      "metadata": {
        "id": "s0vzOK0PQItV",
        "colab_type": "code",
        "colab": {
          "base_uri": "https://localhost:8080/",
          "height": 67
        },
        "outputId": "47179ea6-974a-4c84-cd8c-e9d55c3213a5"
      },
      "source": [
        "train.bangla[100]"
      ],
      "execution_count": 101,
      "outputs": [
        {
          "output_type": "execute_result",
          "data": {
            "text/plain": [
              "100    সাবা আনজুম করিম\n",
              "100              পাবুক\n",
              "Name: bangla, dtype: object"
            ]
          },
          "metadata": {
            "tags": []
          },
          "execution_count": 101
        }
      ]
    },
    {
      "cell_type": "code",
      "metadata": {
        "id": "VBoI7d9dS5f8",
        "colab_type": "code",
        "colab": {
          "base_uri": "https://localhost:8080/",
          "height": 35
        },
        "outputId": "b50791e0-d3cb-4989-8785-253369155b7b"
      },
      "source": [
        "df.bangla[176]"
      ],
      "execution_count": 116,
      "outputs": [
        {
          "output_type": "execute_result",
          "data": {
            "application/vnd.google.colaboratory.intrinsic+json": {
              "type": "string"
            },
            "text/plain": [
              "'নবনির্মিত'"
            ]
          },
          "metadata": {
            "tags": []
          },
          "execution_count": 116
        }
      ]
    },
    {
      "cell_type": "code",
      "metadata": {
        "id": "JR9I2zGBTRkO",
        "colab_type": "code",
        "colab": {
          "base_uri": "https://localhost:8080/",
          "height": 35
        },
        "outputId": "c2e5e591-44b4-4cd1-def6-0adf46afdce0"
      },
      "source": [
        "df.banglish[176]"
      ],
      "execution_count": 117,
      "outputs": [
        {
          "output_type": "execute_result",
          "data": {
            "application/vnd.google.colaboratory.intrinsic+json": {
              "type": "string"
            },
            "text/plain": [
              "'nobonirmito'"
            ]
          },
          "metadata": {
            "tags": []
          },
          "execution_count": 117
        }
      ]
    },
    {
      "cell_type": "code",
      "metadata": {
        "id": "-WlKvIylTu_8",
        "colab_type": "code",
        "colab": {
          "base_uri": "https://localhost:8080/",
          "height": 407
        },
        "outputId": "26247fa0-df7a-47d8-cb9f-b19e58cc7cb0"
      },
      "source": [
        "df"
      ],
      "execution_count": 114,
      "outputs": [
        {
          "output_type": "execute_result",
          "data": {
            "text/html": [
              "<div>\n",
              "<style scoped>\n",
              "    .dataframe tbody tr th:only-of-type {\n",
              "        vertical-align: middle;\n",
              "    }\n",
              "\n",
              "    .dataframe tbody tr th {\n",
              "        vertical-align: top;\n",
              "    }\n",
              "\n",
              "    .dataframe thead th {\n",
              "        text-align: right;\n",
              "    }\n",
              "</style>\n",
              "<table border=\"1\" class=\"dataframe\">\n",
              "  <thead>\n",
              "    <tr style=\"text-align: right;\">\n",
              "      <th></th>\n",
              "      <th>bangla</th>\n",
              "      <th>banglish</th>\n",
              "    </tr>\n",
              "  </thead>\n",
              "  <tbody>\n",
              "    <tr>\n",
              "      <th>0</th>\n",
              "      <td>কমান্ডহীন</td>\n",
              "      <td>commandhin</td>\n",
              "    </tr>\n",
              "    <tr>\n",
              "      <th>1</th>\n",
              "      <td>ব্যাপারও</td>\n",
              "      <td>byaparo</td>\n",
              "    </tr>\n",
              "    <tr>\n",
              "      <th>2</th>\n",
              "      <td>লোকসভার</td>\n",
              "      <td>loksabhar</td>\n",
              "    </tr>\n",
              "    <tr>\n",
              "      <th>3</th>\n",
              "      <td>সামর্থের</td>\n",
              "      <td>samorther</td>\n",
              "    </tr>\n",
              "    <tr>\n",
              "      <th>4</th>\n",
              "      <td>রাজীবকুমারের</td>\n",
              "      <td>rajibkumarer</td>\n",
              "    </tr>\n",
              "    <tr>\n",
              "      <th>...</th>\n",
              "      <td>...</td>\n",
              "      <td>...</td>\n",
              "    </tr>\n",
              "    <tr>\n",
              "      <th>1306</th>\n",
              "      <td>পকেট</td>\n",
              "      <td>pocket</td>\n",
              "    </tr>\n",
              "    <tr>\n",
              "      <th>1307</th>\n",
              "      <td>শিকদার</td>\n",
              "      <td>Shikdar</td>\n",
              "    </tr>\n",
              "    <tr>\n",
              "      <th>1308</th>\n",
              "      <td>ছানির</td>\n",
              "      <td>chhanir</td>\n",
              "    </tr>\n",
              "    <tr>\n",
              "      <th>1309</th>\n",
              "      <td>সেনিয়েও</td>\n",
              "      <td>Senieo</td>\n",
              "    </tr>\n",
              "    <tr>\n",
              "      <th>1310</th>\n",
              "      <td>ইনডেক্সকে</td>\n",
              "      <td>indexke</td>\n",
              "    </tr>\n",
              "  </tbody>\n",
              "</table>\n",
              "<p>1311 rows × 2 columns</p>\n",
              "</div>"
            ],
            "text/plain": [
              "            bangla      banglish\n",
              "0        কমান্ডহীন    commandhin\n",
              "1         ব্যাপারও       byaparo\n",
              "2          লোকসভার     loksabhar\n",
              "3         সামর্থের     samorther\n",
              "4     রাজীবকুমারের  rajibkumarer\n",
              "...            ...           ...\n",
              "1306          পকেট        pocket\n",
              "1307        শিকদার       Shikdar\n",
              "1308         ছানির       chhanir\n",
              "1309       সেনিয়েও        Senieo\n",
              "1310     ইনডেক্সকে       indexke\n",
              "\n",
              "[1311 rows x 2 columns]"
            ]
          },
          "metadata": {
            "tags": []
          },
          "execution_count": 114
        }
      ]
    },
    {
      "cell_type": "code",
      "metadata": {
        "id": "O6rxfsM3Tx44",
        "colab_type": "code",
        "colab": {}
      },
      "source": [
        ""
      ],
      "execution_count": null,
      "outputs": []
    }
  ]
}