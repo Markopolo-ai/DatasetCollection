{
  "nbformat": 4,
  "nbformat_minor": 0,
  "metadata": {
    "colab": {
      "name": "e-commerce Bangla Sentiments",
      "provenance": [],
      "collapsed_sections": [],
      "toc_visible": true
    },
    "kernelspec": {
      "name": "python3",
      "display_name": "Python 3"
    }
  },
  "cells": [
    {
      "cell_type": "code",
      "metadata": {
        "id": "4YK_aarCpFml",
        "colab_type": "code",
        "colab": {}
      },
      "source": [
        "from google.colab import drive\n",
        "drive.mount('/content/drive')"
      ],
      "execution_count": null,
      "outputs": []
    },
    {
      "cell_type": "code",
      "metadata": {
        "id": "aahMIPwGjsiU",
        "colab_type": "code",
        "colab": {
          "base_uri": "https://localhost:8080/",
          "height": 470
        },
        "outputId": "0504f47b-da67-4250-cd14-9800f5bb8aa3"
      },
      "source": [
        "!pip install googletrans\n",
        "!pip install Unidecode\n",
        "!pip install epitran"
      ],
      "execution_count": 11,
      "outputs": [
        {
          "output_type": "stream",
          "text": [
            "Requirement already satisfied: googletrans in /usr/local/lib/python3.6/dist-packages (3.0.0)\n",
            "Requirement already satisfied: httpx==0.13.3 in /usr/local/lib/python3.6/dist-packages (from googletrans) (0.13.3)\n",
            "Requirement already satisfied: sniffio in /usr/local/lib/python3.6/dist-packages (from httpx==0.13.3->googletrans) (1.1.0)\n",
            "Requirement already satisfied: hstspreload in /usr/local/lib/python3.6/dist-packages (from httpx==0.13.3->googletrans) (2020.9.15)\n",
            "Requirement already satisfied: rfc3986<2,>=1.3 in /usr/local/lib/python3.6/dist-packages (from httpx==0.13.3->googletrans) (1.4.0)\n",
            "Requirement already satisfied: chardet==3.* in /usr/local/lib/python3.6/dist-packages (from httpx==0.13.3->googletrans) (3.0.4)\n",
            "Requirement already satisfied: idna==2.* in /usr/local/lib/python3.6/dist-packages (from httpx==0.13.3->googletrans) (2.10)\n",
            "Requirement already satisfied: httpcore==0.9.* in /usr/local/lib/python3.6/dist-packages (from httpx==0.13.3->googletrans) (0.9.1)\n",
            "Requirement already satisfied: certifi in /usr/local/lib/python3.6/dist-packages (from httpx==0.13.3->googletrans) (2020.6.20)\n",
            "Requirement already satisfied: contextvars>=2.1; python_version < \"3.7\" in /usr/local/lib/python3.6/dist-packages (from sniffio->httpx==0.13.3->googletrans) (2.4)\n",
            "Requirement already satisfied: h2==3.* in /usr/local/lib/python3.6/dist-packages (from httpcore==0.9.*->httpx==0.13.3->googletrans) (3.2.0)\n",
            "Requirement already satisfied: h11<0.10,>=0.8 in /usr/local/lib/python3.6/dist-packages (from httpcore==0.9.*->httpx==0.13.3->googletrans) (0.9.0)\n",
            "Requirement already satisfied: immutables>=0.9 in /usr/local/lib/python3.6/dist-packages (from contextvars>=2.1; python_version < \"3.7\"->sniffio->httpx==0.13.3->googletrans) (0.14)\n",
            "Requirement already satisfied: hyperframe<6,>=5.2.0 in /usr/local/lib/python3.6/dist-packages (from h2==3.*->httpcore==0.9.*->httpx==0.13.3->googletrans) (5.2.0)\n",
            "Requirement already satisfied: hpack<4,>=3.0 in /usr/local/lib/python3.6/dist-packages (from h2==3.*->httpcore==0.9.*->httpx==0.13.3->googletrans) (3.0.0)\n",
            "Requirement already satisfied: Unidecode in /usr/local/lib/python3.6/dist-packages (1.1.1)\n",
            "Requirement already satisfied: epitran in /usr/local/lib/python3.6/dist-packages (1.8)\n",
            "Requirement already satisfied: panphon>=0.16 in /usr/local/lib/python3.6/dist-packages (from epitran) (0.17)\n",
            "Requirement already satisfied: regex in /usr/local/lib/python3.6/dist-packages (from epitran) (2019.12.20)\n",
            "Requirement already satisfied: marisa-trie in /usr/local/lib/python3.6/dist-packages (from epitran) (0.7.5)\n",
            "Requirement already satisfied: unicodecsv in /usr/local/lib/python3.6/dist-packages (from epitran) (0.14.1)\n",
            "Requirement already satisfied: setuptools in /usr/local/lib/python3.6/dist-packages (from epitran) (50.3.0)\n",
            "Requirement already satisfied: PyYAML in /usr/local/lib/python3.6/dist-packages (from panphon>=0.16->epitran) (3.13)\n",
            "Requirement already satisfied: munkres in /usr/local/lib/python3.6/dist-packages (from panphon>=0.16->epitran) (1.1.2)\n",
            "Requirement already satisfied: numpy in /usr/local/lib/python3.6/dist-packages (from panphon>=0.16->epitran) (1.18.5)\n",
            "Requirement already satisfied: editdistance in /usr/local/lib/python3.6/dist-packages (from panphon>=0.16->epitran) (0.5.3)\n"
          ],
          "name": "stdout"
        }
      ]
    },
    {
      "cell_type": "code",
      "metadata": {
        "id": "EC6NONhgmHt2",
        "colab_type": "code",
        "colab": {}
      },
      "source": [
        "import xlrd \n",
        "import pandas as pd\n",
        "from googletrans import Translator\n",
        "from unidecode import unidecode\n",
        "from epitran.backoff import Backoff\n",
        "from epitran.backoff import Backoff\n",
        "import epitran\n",
        "\n",
        "import numpy as np"
      ],
      "execution_count": 12,
      "outputs": []
    },
    {
      "cell_type": "markdown",
      "metadata": {
        "id": "ZC1KcGsDjnGN",
        "colab_type": "text"
      },
      "source": [
        "# Dataset collected from here : [Customer reviews of e-Commerce in Bangla](https://www.kaggle.com/forhadnaim/customer-reviews-of-ecommerce-in-bangla)"
      ]
    },
    {
      "cell_type": "code",
      "metadata": {
        "id": "Ta0NUeyqzw-U",
        "colab_type": "code",
        "colab": {
          "base_uri": "https://localhost:8080/",
          "height": 67
        },
        "outputId": "cf36fc0a-4eda-41c6-ccd7-f1c65a5bc720"
      },
      "source": [
        "\n",
        "\n",
        "customerReview = \"/content/drive/My Drive/datasets/Customer reviews of e-Commerce in Bangla.xlsx\"\n",
        "\n",
        "# Reading an excel file using Python \n",
        "#ref : https://www.geeksforgeeks.org/reading-excel-file-using-python/\n",
        "\n",
        "com = []\n",
        "label = []  \n",
        "# Give the location of the file \n",
        "loc = (customerReview) \n",
        "  \n",
        "# To open Workbook \n",
        "wb = xlrd.open_workbook(loc) \n",
        "sheet = wb.sheet_by_index(0) \n",
        "  \n",
        "# For row 0 and column 0 \n",
        "print(sheet.cell_value(0, 0)) \n",
        "\n",
        "print(sheet.nrows)\n",
        "print(sheet.ncols) \n",
        "\n",
        "for i in range(sheet.nrows): \n",
        "    if(i > 0):\n",
        "      #print(sheet.cell_value(i, 0),sheet.cell_value(i, 1)) \n",
        "      com.append(sheet.cell_value(i, 0))\n",
        "      label.append(sheet.cell_value(i, 1))\n"
      ],
      "execution_count": 14,
      "outputs": [
        {
          "output_type": "stream",
          "text": [
            "Comments\n",
            "2209\n",
            "18\n"
          ],
          "name": "stdout"
        }
      ]
    },
    {
      "cell_type": "code",
      "metadata": {
        "id": "6Pug95rzjwvw",
        "colab_type": "code",
        "colab": {
          "base_uri": "https://localhost:8080/",
          "height": 407
        },
        "outputId": "f22a9a9a-d506-4f58-c490-bafb616847ce"
      },
      "source": [
        "COLUMN_NAMES = [\"comments\",\"sentiment\"]\n",
        "df = pd.DataFrame(columns=COLUMN_NAMES)\n",
        "df['comments'] = com\n",
        "df['sentiment'] = label\n",
        "df.head()"
      ],
      "execution_count": 15,
      "outputs": [
        {
          "output_type": "execute_result",
          "data": {
            "text/html": [
              "<div>\n",
              "<style scoped>\n",
              "    .dataframe tbody tr th:only-of-type {\n",
              "        vertical-align: middle;\n",
              "    }\n",
              "\n",
              "    .dataframe tbody tr th {\n",
              "        vertical-align: top;\n",
              "    }\n",
              "\n",
              "    .dataframe thead th {\n",
              "        text-align: right;\n",
              "    }\n",
              "</style>\n",
              "<table border=\"1\" class=\"dataframe\">\n",
              "  <thead>\n",
              "    <tr style=\"text-align: right;\">\n",
              "      <th></th>\n",
              "      <th>comments</th>\n",
              "      <th>sentiment</th>\n",
              "    </tr>\n",
              "  </thead>\n",
              "  <tbody>\n",
              "    <tr>\n",
              "      <th>0</th>\n",
              "      <td>আমি দারাজ  থেকে এই পণ্য কিনে সন্তুষ্ট 👌👍😍</td>\n",
              "      <td>Positive</td>\n",
              "    </tr>\n",
              "    <tr>\n",
              "      <th>1</th>\n",
              "      <td>কর্মক্ষমতা ভাল না</td>\n",
              "      <td>Negative</td>\n",
              "    </tr>\n",
              "    <tr>\n",
              "      <th>2</th>\n",
              "      <td>আমি দারাজ এর কাছে  কৃতজ্ঞ।</td>\n",
              "      <td>Positive</td>\n",
              "    </tr>\n",
              "    <tr>\n",
              "      <th>3</th>\n",
              "      <td>এটা অবশ্যই খুব ভাল পণ্য</td>\n",
              "      <td>Positive</td>\n",
              "    </tr>\n",
              "    <tr>\n",
              "      <th>4</th>\n",
              "      <td>সম্পূর্ণ সন্তুষ্ট .... সত্যিই চিত্তাকর্ষক</td>\n",
              "      <td>Positive</td>\n",
              "    </tr>\n",
              "    <tr>\n",
              "      <th>...</th>\n",
              "      <td>...</td>\n",
              "      <td>...</td>\n",
              "    </tr>\n",
              "    <tr>\n",
              "      <th>2203</th>\n",
              "      <td>গুনগত মান ভা‌লো না</td>\n",
              "      <td>Negative</td>\n",
              "    </tr>\n",
              "    <tr>\n",
              "      <th>2204</th>\n",
              "      <td>খুবি চমৎকার টিশার্ট</td>\n",
              "      <td>Positive</td>\n",
              "    </tr>\n",
              "    <tr>\n",
              "      <th>2205</th>\n",
              "      <td>কাপড় খুবই পাতলা ছিল</td>\n",
              "      <td>Negative</td>\n",
              "    </tr>\n",
              "    <tr>\n",
              "      <th>2206</th>\n",
              "      <td>কাপ‌ড়ের মান ভা‌লো না</td>\n",
              "      <td>Negative</td>\n",
              "    </tr>\n",
              "    <tr>\n",
              "      <th>2207</th>\n",
              "      <td>টি-শার্টগুলো খুবই সুন্দর</td>\n",
              "      <td>Positive</td>\n",
              "    </tr>\n",
              "  </tbody>\n",
              "</table>\n",
              "<p>2208 rows × 2 columns</p>\n",
              "</div>"
            ],
            "text/plain": [
              "                                       comments sentiment\n",
              "0     আমি দারাজ  থেকে এই পণ্য কিনে সন্তুষ্ট 👌👍😍  Positive\n",
              "1                             কর্মক্ষমতা ভাল না  Negative\n",
              "2                    আমি দারাজ এর কাছে  কৃতজ্ঞ।  Positive\n",
              "3                      এটা অবশ্যই খুব ভাল পণ্য   Positive\n",
              "4     সম্পূর্ণ সন্তুষ্ট .... সত্যিই চিত্তাকর্ষক  Positive\n",
              "...                                         ...       ...\n",
              "2203                        গুনগত মান ভা‌লো না  Negative\n",
              "2204                        খুবি চমৎকার টিশার্ট  Positive\n",
              "2205                        কাপড় খুবই পাতলা ছিল  Negative\n",
              "2206                      কাপ‌ড়ের মান ভা‌লো না  Negative\n",
              "2207                  টি-শার্টগুলো খুবই সুন্দর   Positive\n",
              "\n",
              "[2208 rows x 2 columns]"
            ]
          },
          "metadata": {
            "tags": []
          },
          "execution_count": 15
        }
      ]
    },
    {
      "cell_type": "code",
      "metadata": {
        "id": "Q4sE_4SFj9zS",
        "colab_type": "code",
        "colab": {}
      },
      "source": [
        "df.to_csv('e-commerceBanglaSentiments.csv')"
      ],
      "execution_count": 16,
      "outputs": []
    },
    {
      "cell_type": "code",
      "metadata": {
        "id": "MPMoeYYmkWT5",
        "colab_type": "code",
        "colab": {
          "base_uri": "https://localhost:8080/",
          "height": 197
        },
        "outputId": "44d9b503-2397-4567-a989-0a39dc77ae5d"
      },
      "source": [
        "%%time\n",
        "translator = Translator()\n",
        "df1 = df.copy()\n",
        "for i  in range(len(df)):\n",
        "  result = unidecode(translator.translate(df.comments[i], dest='bn').pronunciation)\n",
        "  df1.comments[i] = result\n",
        "df1.head()"
      ],
      "execution_count": 17,
      "outputs": [
        {
          "output_type": "execute_result",
          "data": {
            "text/html": [
              "<div>\n",
              "<style scoped>\n",
              "    .dataframe tbody tr th:only-of-type {\n",
              "        vertical-align: middle;\n",
              "    }\n",
              "\n",
              "    .dataframe tbody tr th {\n",
              "        vertical-align: top;\n",
              "    }\n",
              "\n",
              "    .dataframe thead th {\n",
              "        text-align: right;\n",
              "    }\n",
              "</style>\n",
              "<table border=\"1\" class=\"dataframe\">\n",
              "  <thead>\n",
              "    <tr style=\"text-align: right;\">\n",
              "      <th></th>\n",
              "      <th>comments</th>\n",
              "      <th>sentiment</th>\n",
              "    </tr>\n",
              "  </thead>\n",
              "  <tbody>\n",
              "    <tr>\n",
              "      <th>0</th>\n",
              "      <td>Ami daraja  theke e'i panya kine santusta</td>\n",
              "      <td>Positive</td>\n",
              "    </tr>\n",
              "    <tr>\n",
              "      <th>1</th>\n",
              "      <td>Karmaksamata bhala na</td>\n",
              "      <td>Negative</td>\n",
              "    </tr>\n",
              "    <tr>\n",
              "      <th>2</th>\n",
              "      <td>Ami daraja era kache  krtajna.</td>\n",
              "      <td>Positive</td>\n",
              "    </tr>\n",
              "    <tr>\n",
              "      <th>3</th>\n",
              "      <td>Eta abasya'i khuba bhala panya</td>\n",
              "      <td>Positive</td>\n",
              "    </tr>\n",
              "    <tr>\n",
              "      <th>4</th>\n",
              "      <td>Sampurna santusta.... Satyi'i cittakarsaka</td>\n",
              "      <td>Positive</td>\n",
              "    </tr>\n",
              "  </tbody>\n",
              "</table>\n",
              "</div>"
            ],
            "text/plain": [
              "                                     comments sentiment\n",
              "0  Ami daraja  theke e'i panya kine santusta   Positive\n",
              "1                       Karmaksamata bhala na  Negative\n",
              "2              Ami daraja era kache  krtajna.  Positive\n",
              "3              Eta abasya'i khuba bhala panya  Positive\n",
              "4  Sampurna santusta.... Satyi'i cittakarsaka  Positive"
            ]
          },
          "metadata": {
            "tags": []
          },
          "execution_count": 17
        }
      ]
    },
    {
      "cell_type": "code",
      "metadata": {
        "id": "SH35XEPwmJoq",
        "colab_type": "code",
        "colab": {}
      },
      "source": [
        "df1.to_csv('Translated_e-commerceBanglishSentiments.csv')"
      ],
      "execution_count": 18,
      "outputs": []
    },
    {
      "cell_type": "code",
      "metadata": {
        "id": "DEBXlF1LohtB",
        "colab_type": "code",
        "colab": {}
      },
      "source": [
        ""
      ],
      "execution_count": null,
      "outputs": []
    }
  ]
}