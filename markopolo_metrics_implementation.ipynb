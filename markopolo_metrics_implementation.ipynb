{
  "nbformat": 4,
  "nbformat_minor": 0,
  "metadata": {
    "colab": {
      "name": "markopolo metrics implementation.ipynb",
      "provenance": [],
      "collapsed_sections": []
    },
    "kernelspec": {
      "name": "python3",
      "display_name": "Python 3"
    },
    "accelerator": "GPU",
    "widgets": {
      "application/vnd.jupyter.widget-state+json": {
        "da4a2fd9ff524527904ec005a4aa1785": {
          "model_module": "@jupyter-widgets/controls",
          "model_name": "HBoxModel",
          "state": {
            "_view_name": "HBoxView",
            "_dom_classes": [],
            "_model_name": "HBoxModel",
            "_view_module": "@jupyter-widgets/controls",
            "_model_module_version": "1.5.0",
            "_view_count": null,
            "_view_module_version": "1.5.0",
            "box_style": "",
            "layout": "IPY_MODEL_98011e6573cc44c8a442114d8a5174e6",
            "_model_module": "@jupyter-widgets/controls",
            "children": [
              "IPY_MODEL_2f750d9c29564939bfc7e67bb3e7b5c5",
              "IPY_MODEL_b84ae7e1db0f4c0ca73067bdb7e19ee2"
            ]
          }
        },
        "98011e6573cc44c8a442114d8a5174e6": {
          "model_module": "@jupyter-widgets/base",
          "model_name": "LayoutModel",
          "state": {
            "_view_name": "LayoutView",
            "grid_template_rows": null,
            "right": null,
            "justify_content": null,
            "_view_module": "@jupyter-widgets/base",
            "overflow": null,
            "_model_module_version": "1.2.0",
            "_view_count": null,
            "flex_flow": null,
            "width": null,
            "min_width": null,
            "border": null,
            "align_items": null,
            "bottom": null,
            "_model_module": "@jupyter-widgets/base",
            "top": null,
            "grid_column": null,
            "overflow_y": null,
            "overflow_x": null,
            "grid_auto_flow": null,
            "grid_area": null,
            "grid_template_columns": null,
            "flex": null,
            "_model_name": "LayoutModel",
            "justify_items": null,
            "grid_row": null,
            "max_height": null,
            "align_content": null,
            "visibility": null,
            "align_self": null,
            "height": null,
            "min_height": null,
            "padding": null,
            "grid_auto_rows": null,
            "grid_gap": null,
            "max_width": null,
            "order": null,
            "_view_module_version": "1.2.0",
            "grid_template_areas": null,
            "object_position": null,
            "object_fit": null,
            "grid_auto_columns": null,
            "margin": null,
            "display": null,
            "left": null
          }
        },
        "2f750d9c29564939bfc7e67bb3e7b5c5": {
          "model_module": "@jupyter-widgets/controls",
          "model_name": "FloatProgressModel",
          "state": {
            "_view_name": "ProgressView",
            "style": "IPY_MODEL_35bff571c00e431ba2cad690d55d2a31",
            "_dom_classes": [],
            "description": "Downloading: 100%",
            "_model_name": "FloatProgressModel",
            "bar_style": "success",
            "max": 629,
            "_view_module": "@jupyter-widgets/controls",
            "_model_module_version": "1.5.0",
            "value": 629,
            "_view_count": null,
            "_view_module_version": "1.5.0",
            "orientation": "horizontal",
            "min": 0,
            "description_tooltip": null,
            "_model_module": "@jupyter-widgets/controls",
            "layout": "IPY_MODEL_070ca9b89eeb4545b9a6f2129427b8f6"
          }
        },
        "b84ae7e1db0f4c0ca73067bdb7e19ee2": {
          "model_module": "@jupyter-widgets/controls",
          "model_name": "HTMLModel",
          "state": {
            "_view_name": "HTMLView",
            "style": "IPY_MODEL_03ed7a47135149e68d0dbde0fac04dd2",
            "_dom_classes": [],
            "description": "",
            "_model_name": "HTMLModel",
            "placeholder": "​",
            "_view_module": "@jupyter-widgets/controls",
            "_model_module_version": "1.5.0",
            "value": " 629/629 [00:00&lt;00:00, 5.17kB/s]",
            "_view_count": null,
            "_view_module_version": "1.5.0",
            "description_tooltip": null,
            "_model_module": "@jupyter-widgets/controls",
            "layout": "IPY_MODEL_a5e0ac1a1caa422393c6831fda0d1b02"
          }
        },
        "35bff571c00e431ba2cad690d55d2a31": {
          "model_module": "@jupyter-widgets/controls",
          "model_name": "ProgressStyleModel",
          "state": {
            "_view_name": "StyleView",
            "_model_name": "ProgressStyleModel",
            "description_width": "initial",
            "_view_module": "@jupyter-widgets/base",
            "_model_module_version": "1.5.0",
            "_view_count": null,
            "_view_module_version": "1.2.0",
            "bar_color": null,
            "_model_module": "@jupyter-widgets/controls"
          }
        },
        "070ca9b89eeb4545b9a6f2129427b8f6": {
          "model_module": "@jupyter-widgets/base",
          "model_name": "LayoutModel",
          "state": {
            "_view_name": "LayoutView",
            "grid_template_rows": null,
            "right": null,
            "justify_content": null,
            "_view_module": "@jupyter-widgets/base",
            "overflow": null,
            "_model_module_version": "1.2.0",
            "_view_count": null,
            "flex_flow": null,
            "width": null,
            "min_width": null,
            "border": null,
            "align_items": null,
            "bottom": null,
            "_model_module": "@jupyter-widgets/base",
            "top": null,
            "grid_column": null,
            "overflow_y": null,
            "overflow_x": null,
            "grid_auto_flow": null,
            "grid_area": null,
            "grid_template_columns": null,
            "flex": null,
            "_model_name": "LayoutModel",
            "justify_items": null,
            "grid_row": null,
            "max_height": null,
            "align_content": null,
            "visibility": null,
            "align_self": null,
            "height": null,
            "min_height": null,
            "padding": null,
            "grid_auto_rows": null,
            "grid_gap": null,
            "max_width": null,
            "order": null,
            "_view_module_version": "1.2.0",
            "grid_template_areas": null,
            "object_position": null,
            "object_fit": null,
            "grid_auto_columns": null,
            "margin": null,
            "display": null,
            "left": null
          }
        },
        "03ed7a47135149e68d0dbde0fac04dd2": {
          "model_module": "@jupyter-widgets/controls",
          "model_name": "DescriptionStyleModel",
          "state": {
            "_view_name": "StyleView",
            "_model_name": "DescriptionStyleModel",
            "description_width": "",
            "_view_module": "@jupyter-widgets/base",
            "_model_module_version": "1.5.0",
            "_view_count": null,
            "_view_module_version": "1.2.0",
            "_model_module": "@jupyter-widgets/controls"
          }
        },
        "a5e0ac1a1caa422393c6831fda0d1b02": {
          "model_module": "@jupyter-widgets/base",
          "model_name": "LayoutModel",
          "state": {
            "_view_name": "LayoutView",
            "grid_template_rows": null,
            "right": null,
            "justify_content": null,
            "_view_module": "@jupyter-widgets/base",
            "overflow": null,
            "_model_module_version": "1.2.0",
            "_view_count": null,
            "flex_flow": null,
            "width": null,
            "min_width": null,
            "border": null,
            "align_items": null,
            "bottom": null,
            "_model_module": "@jupyter-widgets/base",
            "top": null,
            "grid_column": null,
            "overflow_y": null,
            "overflow_x": null,
            "grid_auto_flow": null,
            "grid_area": null,
            "grid_template_columns": null,
            "flex": null,
            "_model_name": "LayoutModel",
            "justify_items": null,
            "grid_row": null,
            "max_height": null,
            "align_content": null,
            "visibility": null,
            "align_self": null,
            "height": null,
            "min_height": null,
            "padding": null,
            "grid_auto_rows": null,
            "grid_gap": null,
            "max_width": null,
            "order": null,
            "_view_module_version": "1.2.0",
            "grid_template_areas": null,
            "object_position": null,
            "object_fit": null,
            "grid_auto_columns": null,
            "margin": null,
            "display": null,
            "left": null
          }
        },
        "34ec497f3bb4405fa46f7656c34451be": {
          "model_module": "@jupyter-widgets/controls",
          "model_name": "HBoxModel",
          "state": {
            "_view_name": "HBoxView",
            "_dom_classes": [],
            "_model_name": "HBoxModel",
            "_view_module": "@jupyter-widgets/controls",
            "_model_module_version": "1.5.0",
            "_view_count": null,
            "_view_module_version": "1.5.0",
            "box_style": "",
            "layout": "IPY_MODEL_0be137a765f846f6888be787cb13dcfd",
            "_model_module": "@jupyter-widgets/controls",
            "children": [
              "IPY_MODEL_698eeb2ad7b646b9b694f179e4bd58e5",
              "IPY_MODEL_e5068fd9ad8d4939b2d41c0f97ad01d3"
            ]
          }
        },
        "0be137a765f846f6888be787cb13dcfd": {
          "model_module": "@jupyter-widgets/base",
          "model_name": "LayoutModel",
          "state": {
            "_view_name": "LayoutView",
            "grid_template_rows": null,
            "right": null,
            "justify_content": null,
            "_view_module": "@jupyter-widgets/base",
            "overflow": null,
            "_model_module_version": "1.2.0",
            "_view_count": null,
            "flex_flow": null,
            "width": null,
            "min_width": null,
            "border": null,
            "align_items": null,
            "bottom": null,
            "_model_module": "@jupyter-widgets/base",
            "top": null,
            "grid_column": null,
            "overflow_y": null,
            "overflow_x": null,
            "grid_auto_flow": null,
            "grid_area": null,
            "grid_template_columns": null,
            "flex": null,
            "_model_name": "LayoutModel",
            "justify_items": null,
            "grid_row": null,
            "max_height": null,
            "align_content": null,
            "visibility": null,
            "align_self": null,
            "height": null,
            "min_height": null,
            "padding": null,
            "grid_auto_rows": null,
            "grid_gap": null,
            "max_width": null,
            "order": null,
            "_view_module_version": "1.2.0",
            "grid_template_areas": null,
            "object_position": null,
            "object_fit": null,
            "grid_auto_columns": null,
            "margin": null,
            "display": null,
            "left": null
          }
        },
        "698eeb2ad7b646b9b694f179e4bd58e5": {
          "model_module": "@jupyter-widgets/controls",
          "model_name": "FloatProgressModel",
          "state": {
            "_view_name": "ProgressView",
            "style": "IPY_MODEL_6c93a413415d48b585a16db97f0c333a",
            "_dom_classes": [],
            "description": "Downloading: 100%",
            "_model_name": "FloatProgressModel",
            "bar_style": "success",
            "max": 231508,
            "_view_module": "@jupyter-widgets/controls",
            "_model_module_version": "1.5.0",
            "value": 231508,
            "_view_count": null,
            "_view_module_version": "1.5.0",
            "orientation": "horizontal",
            "min": 0,
            "description_tooltip": null,
            "_model_module": "@jupyter-widgets/controls",
            "layout": "IPY_MODEL_f3c9029eaf884366838545fb3de4f03f"
          }
        },
        "e5068fd9ad8d4939b2d41c0f97ad01d3": {
          "model_module": "@jupyter-widgets/controls",
          "model_name": "HTMLModel",
          "state": {
            "_view_name": "HTMLView",
            "style": "IPY_MODEL_e76c6c4c72fc4b639a0d412c1230b7a7",
            "_dom_classes": [],
            "description": "",
            "_model_name": "HTMLModel",
            "placeholder": "​",
            "_view_module": "@jupyter-widgets/controls",
            "_model_module_version": "1.5.0",
            "value": " 232k/232k [00:00&lt;00:00, 588kB/s]",
            "_view_count": null,
            "_view_module_version": "1.5.0",
            "description_tooltip": null,
            "_model_module": "@jupyter-widgets/controls",
            "layout": "IPY_MODEL_b1bc626bf5294d87a3684bef17eab194"
          }
        },
        "6c93a413415d48b585a16db97f0c333a": {
          "model_module": "@jupyter-widgets/controls",
          "model_name": "ProgressStyleModel",
          "state": {
            "_view_name": "StyleView",
            "_model_name": "ProgressStyleModel",
            "description_width": "initial",
            "_view_module": "@jupyter-widgets/base",
            "_model_module_version": "1.5.0",
            "_view_count": null,
            "_view_module_version": "1.2.0",
            "bar_color": null,
            "_model_module": "@jupyter-widgets/controls"
          }
        },
        "f3c9029eaf884366838545fb3de4f03f": {
          "model_module": "@jupyter-widgets/base",
          "model_name": "LayoutModel",
          "state": {
            "_view_name": "LayoutView",
            "grid_template_rows": null,
            "right": null,
            "justify_content": null,
            "_view_module": "@jupyter-widgets/base",
            "overflow": null,
            "_model_module_version": "1.2.0",
            "_view_count": null,
            "flex_flow": null,
            "width": null,
            "min_width": null,
            "border": null,
            "align_items": null,
            "bottom": null,
            "_model_module": "@jupyter-widgets/base",
            "top": null,
            "grid_column": null,
            "overflow_y": null,
            "overflow_x": null,
            "grid_auto_flow": null,
            "grid_area": null,
            "grid_template_columns": null,
            "flex": null,
            "_model_name": "LayoutModel",
            "justify_items": null,
            "grid_row": null,
            "max_height": null,
            "align_content": null,
            "visibility": null,
            "align_self": null,
            "height": null,
            "min_height": null,
            "padding": null,
            "grid_auto_rows": null,
            "grid_gap": null,
            "max_width": null,
            "order": null,
            "_view_module_version": "1.2.0",
            "grid_template_areas": null,
            "object_position": null,
            "object_fit": null,
            "grid_auto_columns": null,
            "margin": null,
            "display": null,
            "left": null
          }
        },
        "e76c6c4c72fc4b639a0d412c1230b7a7": {
          "model_module": "@jupyter-widgets/controls",
          "model_name": "DescriptionStyleModel",
          "state": {
            "_view_name": "StyleView",
            "_model_name": "DescriptionStyleModel",
            "description_width": "",
            "_view_module": "@jupyter-widgets/base",
            "_model_module_version": "1.5.0",
            "_view_count": null,
            "_view_module_version": "1.2.0",
            "_model_module": "@jupyter-widgets/controls"
          }
        },
        "b1bc626bf5294d87a3684bef17eab194": {
          "model_module": "@jupyter-widgets/base",
          "model_name": "LayoutModel",
          "state": {
            "_view_name": "LayoutView",
            "grid_template_rows": null,
            "right": null,
            "justify_content": null,
            "_view_module": "@jupyter-widgets/base",
            "overflow": null,
            "_model_module_version": "1.2.0",
            "_view_count": null,
            "flex_flow": null,
            "width": null,
            "min_width": null,
            "border": null,
            "align_items": null,
            "bottom": null,
            "_model_module": "@jupyter-widgets/base",
            "top": null,
            "grid_column": null,
            "overflow_y": null,
            "overflow_x": null,
            "grid_auto_flow": null,
            "grid_area": null,
            "grid_template_columns": null,
            "flex": null,
            "_model_name": "LayoutModel",
            "justify_items": null,
            "grid_row": null,
            "max_height": null,
            "align_content": null,
            "visibility": null,
            "align_self": null,
            "height": null,
            "min_height": null,
            "padding": null,
            "grid_auto_rows": null,
            "grid_gap": null,
            "max_width": null,
            "order": null,
            "_view_module_version": "1.2.0",
            "grid_template_areas": null,
            "object_position": null,
            "object_fit": null,
            "grid_auto_columns": null,
            "margin": null,
            "display": null,
            "left": null
          }
        },
        "b4e3e1d7e26e4897918ad81481986854": {
          "model_module": "@jupyter-widgets/controls",
          "model_name": "HBoxModel",
          "state": {
            "_view_name": "HBoxView",
            "_dom_classes": [],
            "_model_name": "HBoxModel",
            "_view_module": "@jupyter-widgets/controls",
            "_model_module_version": "1.5.0",
            "_view_count": null,
            "_view_module_version": "1.5.0",
            "box_style": "",
            "layout": "IPY_MODEL_7bb001a4a2ad47018640b999a7059056",
            "_model_module": "@jupyter-widgets/controls",
            "children": [
              "IPY_MODEL_d043da723d4a4ca8919d4e3febbbbfec",
              "IPY_MODEL_5d091a9588d94b30b49ac8a13224ae17"
            ]
          }
        },
        "7bb001a4a2ad47018640b999a7059056": {
          "model_module": "@jupyter-widgets/base",
          "model_name": "LayoutModel",
          "state": {
            "_view_name": "LayoutView",
            "grid_template_rows": null,
            "right": null,
            "justify_content": null,
            "_view_module": "@jupyter-widgets/base",
            "overflow": null,
            "_model_module_version": "1.2.0",
            "_view_count": null,
            "flex_flow": null,
            "width": null,
            "min_width": null,
            "border": null,
            "align_items": null,
            "bottom": null,
            "_model_module": "@jupyter-widgets/base",
            "top": null,
            "grid_column": null,
            "overflow_y": null,
            "overflow_x": null,
            "grid_auto_flow": null,
            "grid_area": null,
            "grid_template_columns": null,
            "flex": null,
            "_model_name": "LayoutModel",
            "justify_items": null,
            "grid_row": null,
            "max_height": null,
            "align_content": null,
            "visibility": null,
            "align_self": null,
            "height": null,
            "min_height": null,
            "padding": null,
            "grid_auto_rows": null,
            "grid_gap": null,
            "max_width": null,
            "order": null,
            "_view_module_version": "1.2.0",
            "grid_template_areas": null,
            "object_position": null,
            "object_fit": null,
            "grid_auto_columns": null,
            "margin": null,
            "display": null,
            "left": null
          }
        },
        "d043da723d4a4ca8919d4e3febbbbfec": {
          "model_module": "@jupyter-widgets/controls",
          "model_name": "FloatProgressModel",
          "state": {
            "_view_name": "ProgressView",
            "style": "IPY_MODEL_0a27af36ec8942ba8971c718d2fd2e5e",
            "_dom_classes": [],
            "description": "Downloading: 100%",
            "_model_name": "FloatProgressModel",
            "bar_style": "success",
            "max": 230,
            "_view_module": "@jupyter-widgets/controls",
            "_model_module_version": "1.5.0",
            "value": 230,
            "_view_count": null,
            "_view_module_version": "1.5.0",
            "orientation": "horizontal",
            "min": 0,
            "description_tooltip": null,
            "_model_module": "@jupyter-widgets/controls",
            "layout": "IPY_MODEL_2a1e8006e1c04da49906ddcd1c9286cf"
          }
        },
        "5d091a9588d94b30b49ac8a13224ae17": {
          "model_module": "@jupyter-widgets/controls",
          "model_name": "HTMLModel",
          "state": {
            "_view_name": "HTMLView",
            "style": "IPY_MODEL_1455e5d370e244aab858117a34055d49",
            "_dom_classes": [],
            "description": "",
            "_model_name": "HTMLModel",
            "placeholder": "​",
            "_view_module": "@jupyter-widgets/controls",
            "_model_module_version": "1.5.0",
            "value": " 230/230 [00:13&lt;00:00, 17.3B/s]",
            "_view_count": null,
            "_view_module_version": "1.5.0",
            "description_tooltip": null,
            "_model_module": "@jupyter-widgets/controls",
            "layout": "IPY_MODEL_2b5b8d77b7c74c8e932656a5beb6681f"
          }
        },
        "0a27af36ec8942ba8971c718d2fd2e5e": {
          "model_module": "@jupyter-widgets/controls",
          "model_name": "ProgressStyleModel",
          "state": {
            "_view_name": "StyleView",
            "_model_name": "ProgressStyleModel",
            "description_width": "initial",
            "_view_module": "@jupyter-widgets/base",
            "_model_module_version": "1.5.0",
            "_view_count": null,
            "_view_module_version": "1.2.0",
            "bar_color": null,
            "_model_module": "@jupyter-widgets/controls"
          }
        },
        "2a1e8006e1c04da49906ddcd1c9286cf": {
          "model_module": "@jupyter-widgets/base",
          "model_name": "LayoutModel",
          "state": {
            "_view_name": "LayoutView",
            "grid_template_rows": null,
            "right": null,
            "justify_content": null,
            "_view_module": "@jupyter-widgets/base",
            "overflow": null,
            "_model_module_version": "1.2.0",
            "_view_count": null,
            "flex_flow": null,
            "width": null,
            "min_width": null,
            "border": null,
            "align_items": null,
            "bottom": null,
            "_model_module": "@jupyter-widgets/base",
            "top": null,
            "grid_column": null,
            "overflow_y": null,
            "overflow_x": null,
            "grid_auto_flow": null,
            "grid_area": null,
            "grid_template_columns": null,
            "flex": null,
            "_model_name": "LayoutModel",
            "justify_items": null,
            "grid_row": null,
            "max_height": null,
            "align_content": null,
            "visibility": null,
            "align_self": null,
            "height": null,
            "min_height": null,
            "padding": null,
            "grid_auto_rows": null,
            "grid_gap": null,
            "max_width": null,
            "order": null,
            "_view_module_version": "1.2.0",
            "grid_template_areas": null,
            "object_position": null,
            "object_fit": null,
            "grid_auto_columns": null,
            "margin": null,
            "display": null,
            "left": null
          }
        },
        "1455e5d370e244aab858117a34055d49": {
          "model_module": "@jupyter-widgets/controls",
          "model_name": "DescriptionStyleModel",
          "state": {
            "_view_name": "StyleView",
            "_model_name": "DescriptionStyleModel",
            "description_width": "",
            "_view_module": "@jupyter-widgets/base",
            "_model_module_version": "1.5.0",
            "_view_count": null,
            "_view_module_version": "1.2.0",
            "_model_module": "@jupyter-widgets/controls"
          }
        },
        "2b5b8d77b7c74c8e932656a5beb6681f": {
          "model_module": "@jupyter-widgets/base",
          "model_name": "LayoutModel",
          "state": {
            "_view_name": "LayoutView",
            "grid_template_rows": null,
            "right": null,
            "justify_content": null,
            "_view_module": "@jupyter-widgets/base",
            "overflow": null,
            "_model_module_version": "1.2.0",
            "_view_count": null,
            "flex_flow": null,
            "width": null,
            "min_width": null,
            "border": null,
            "align_items": null,
            "bottom": null,
            "_model_module": "@jupyter-widgets/base",
            "top": null,
            "grid_column": null,
            "overflow_y": null,
            "overflow_x": null,
            "grid_auto_flow": null,
            "grid_area": null,
            "grid_template_columns": null,
            "flex": null,
            "_model_name": "LayoutModel",
            "justify_items": null,
            "grid_row": null,
            "max_height": null,
            "align_content": null,
            "visibility": null,
            "align_self": null,
            "height": null,
            "min_height": null,
            "padding": null,
            "grid_auto_rows": null,
            "grid_gap": null,
            "max_width": null,
            "order": null,
            "_view_module_version": "1.2.0",
            "grid_template_areas": null,
            "object_position": null,
            "object_fit": null,
            "grid_auto_columns": null,
            "margin": null,
            "display": null,
            "left": null
          }
        },
        "d1f099e3ef0c4359a91ef868a0d5e17a": {
          "model_module": "@jupyter-widgets/controls",
          "model_name": "HBoxModel",
          "state": {
            "_view_name": "HBoxView",
            "_dom_classes": [],
            "_model_name": "HBoxModel",
            "_view_module": "@jupyter-widgets/controls",
            "_model_module_version": "1.5.0",
            "_view_count": null,
            "_view_module_version": "1.5.0",
            "box_style": "",
            "layout": "IPY_MODEL_e8401e63e61a42599a52215b6d986f2e",
            "_model_module": "@jupyter-widgets/controls",
            "children": [
              "IPY_MODEL_6b34fe9d04244fe5b448bef892c78647",
              "IPY_MODEL_049dee71a8fc4c84aa566a25e9118e51"
            ]
          }
        },
        "e8401e63e61a42599a52215b6d986f2e": {
          "model_module": "@jupyter-widgets/base",
          "model_name": "LayoutModel",
          "state": {
            "_view_name": "LayoutView",
            "grid_template_rows": null,
            "right": null,
            "justify_content": null,
            "_view_module": "@jupyter-widgets/base",
            "overflow": null,
            "_model_module_version": "1.2.0",
            "_view_count": null,
            "flex_flow": null,
            "width": null,
            "min_width": null,
            "border": null,
            "align_items": null,
            "bottom": null,
            "_model_module": "@jupyter-widgets/base",
            "top": null,
            "grid_column": null,
            "overflow_y": null,
            "overflow_x": null,
            "grid_auto_flow": null,
            "grid_area": null,
            "grid_template_columns": null,
            "flex": null,
            "_model_name": "LayoutModel",
            "justify_items": null,
            "grid_row": null,
            "max_height": null,
            "align_content": null,
            "visibility": null,
            "align_self": null,
            "height": null,
            "min_height": null,
            "padding": null,
            "grid_auto_rows": null,
            "grid_gap": null,
            "max_width": null,
            "order": null,
            "_view_module_version": "1.2.0",
            "grid_template_areas": null,
            "object_position": null,
            "object_fit": null,
            "grid_auto_columns": null,
            "margin": null,
            "display": null,
            "left": null
          }
        },
        "6b34fe9d04244fe5b448bef892c78647": {
          "model_module": "@jupyter-widgets/controls",
          "model_name": "FloatProgressModel",
          "state": {
            "_view_name": "ProgressView",
            "style": "IPY_MODEL_2a63d1a13f594193831cd7aa8acc3c3d",
            "_dom_classes": [],
            "description": "Downloading: 100%",
            "_model_name": "FloatProgressModel",
            "bar_style": "success",
            "max": 267844284,
            "_view_module": "@jupyter-widgets/controls",
            "_model_module_version": "1.5.0",
            "value": 267844284,
            "_view_count": null,
            "_view_module_version": "1.5.0",
            "orientation": "horizontal",
            "min": 0,
            "description_tooltip": null,
            "_model_module": "@jupyter-widgets/controls",
            "layout": "IPY_MODEL_d469d98defa440698a3336df33f4855a"
          }
        },
        "049dee71a8fc4c84aa566a25e9118e51": {
          "model_module": "@jupyter-widgets/controls",
          "model_name": "HTMLModel",
          "state": {
            "_view_name": "HTMLView",
            "style": "IPY_MODEL_dc3dd0db8522419bbcf9e37706df86a7",
            "_dom_classes": [],
            "description": "",
            "_model_name": "HTMLModel",
            "placeholder": "​",
            "_view_module": "@jupyter-widgets/controls",
            "_model_module_version": "1.5.0",
            "value": " 268M/268M [00:12&lt;00:00, 20.8MB/s]",
            "_view_count": null,
            "_view_module_version": "1.5.0",
            "description_tooltip": null,
            "_model_module": "@jupyter-widgets/controls",
            "layout": "IPY_MODEL_a52c147f6a1a4a40ab67e67943ffefb9"
          }
        },
        "2a63d1a13f594193831cd7aa8acc3c3d": {
          "model_module": "@jupyter-widgets/controls",
          "model_name": "ProgressStyleModel",
          "state": {
            "_view_name": "StyleView",
            "_model_name": "ProgressStyleModel",
            "description_width": "initial",
            "_view_module": "@jupyter-widgets/base",
            "_model_module_version": "1.5.0",
            "_view_count": null,
            "_view_module_version": "1.2.0",
            "bar_color": null,
            "_model_module": "@jupyter-widgets/controls"
          }
        },
        "d469d98defa440698a3336df33f4855a": {
          "model_module": "@jupyter-widgets/base",
          "model_name": "LayoutModel",
          "state": {
            "_view_name": "LayoutView",
            "grid_template_rows": null,
            "right": null,
            "justify_content": null,
            "_view_module": "@jupyter-widgets/base",
            "overflow": null,
            "_model_module_version": "1.2.0",
            "_view_count": null,
            "flex_flow": null,
            "width": null,
            "min_width": null,
            "border": null,
            "align_items": null,
            "bottom": null,
            "_model_module": "@jupyter-widgets/base",
            "top": null,
            "grid_column": null,
            "overflow_y": null,
            "overflow_x": null,
            "grid_auto_flow": null,
            "grid_area": null,
            "grid_template_columns": null,
            "flex": null,
            "_model_name": "LayoutModel",
            "justify_items": null,
            "grid_row": null,
            "max_height": null,
            "align_content": null,
            "visibility": null,
            "align_self": null,
            "height": null,
            "min_height": null,
            "padding": null,
            "grid_auto_rows": null,
            "grid_gap": null,
            "max_width": null,
            "order": null,
            "_view_module_version": "1.2.0",
            "grid_template_areas": null,
            "object_position": null,
            "object_fit": null,
            "grid_auto_columns": null,
            "margin": null,
            "display": null,
            "left": null
          }
        },
        "dc3dd0db8522419bbcf9e37706df86a7": {
          "model_module": "@jupyter-widgets/controls",
          "model_name": "DescriptionStyleModel",
          "state": {
            "_view_name": "StyleView",
            "_model_name": "DescriptionStyleModel",
            "description_width": "",
            "_view_module": "@jupyter-widgets/base",
            "_model_module_version": "1.5.0",
            "_view_count": null,
            "_view_module_version": "1.2.0",
            "_model_module": "@jupyter-widgets/controls"
          }
        },
        "a52c147f6a1a4a40ab67e67943ffefb9": {
          "model_module": "@jupyter-widgets/base",
          "model_name": "LayoutModel",
          "state": {
            "_view_name": "LayoutView",
            "grid_template_rows": null,
            "right": null,
            "justify_content": null,
            "_view_module": "@jupyter-widgets/base",
            "overflow": null,
            "_model_module_version": "1.2.0",
            "_view_count": null,
            "flex_flow": null,
            "width": null,
            "min_width": null,
            "border": null,
            "align_items": null,
            "bottom": null,
            "_model_module": "@jupyter-widgets/base",
            "top": null,
            "grid_column": null,
            "overflow_y": null,
            "overflow_x": null,
            "grid_auto_flow": null,
            "grid_area": null,
            "grid_template_columns": null,
            "flex": null,
            "_model_name": "LayoutModel",
            "justify_items": null,
            "grid_row": null,
            "max_height": null,
            "align_content": null,
            "visibility": null,
            "align_self": null,
            "height": null,
            "min_height": null,
            "padding": null,
            "grid_auto_rows": null,
            "grid_gap": null,
            "max_width": null,
            "order": null,
            "_view_module_version": "1.2.0",
            "grid_template_areas": null,
            "object_position": null,
            "object_fit": null,
            "grid_auto_columns": null,
            "margin": null,
            "display": null,
            "left": null
          }
        }
      }
    }
  },
  "cells": [
    {
      "cell_type": "code",
      "metadata": {
        "id": "9U110kbQT0E4",
        "outputId": "df28bd18-76ee-4427-9d01-a2a9a03f2047",
        "colab": {
          "base_uri": "https://localhost:8080/"
        }
      },
      "source": [
        "from google.colab import drive\n",
        "drive.mount('/content/drive')"
      ],
      "execution_count": 1,
      "outputs": [
        {
          "output_type": "stream",
          "text": [
            "Mounted at /content/drive\n"
          ],
          "name": "stdout"
        }
      ]
    },
    {
      "cell_type": "code",
      "metadata": {
        "id": "57mWUeJz5fhk",
        "outputId": "5a4af11d-172a-49c6-e0a6-616f26f4762b",
        "colab": {
          "base_uri": "https://localhost:8080/"
        }
      },
      "source": [
        "!pip install python-dateutil\n",
        "!pip install vaderSentiment\n",
        "!pip install transformers\n",
        "!pip install googletrans"
      ],
      "execution_count": 2,
      "outputs": [
        {
          "output_type": "stream",
          "text": [
            "Requirement already satisfied: python-dateutil in /usr/local/lib/python3.6/dist-packages (2.8.1)\n",
            "Requirement already satisfied: six>=1.5 in /usr/local/lib/python3.6/dist-packages (from python-dateutil) (1.15.0)\n",
            "Collecting vaderSentiment\n",
            "\u001b[?25l  Downloading https://files.pythonhosted.org/packages/76/fc/310e16254683c1ed35eeb97386986d6c00bc29df17ce280aed64d55537e9/vaderSentiment-3.3.2-py2.py3-none-any.whl (125kB)\n",
            "\u001b[K     |████████████████████████████████| 133kB 2.7MB/s \n",
            "\u001b[?25hRequirement already satisfied: requests in /usr/local/lib/python3.6/dist-packages (from vaderSentiment) (2.23.0)\n",
            "Requirement already satisfied: certifi>=2017.4.17 in /usr/local/lib/python3.6/dist-packages (from requests->vaderSentiment) (2020.6.20)\n",
            "Requirement already satisfied: urllib3!=1.25.0,!=1.25.1,<1.26,>=1.21.1 in /usr/local/lib/python3.6/dist-packages (from requests->vaderSentiment) (1.24.3)\n",
            "Requirement already satisfied: idna<3,>=2.5 in /usr/local/lib/python3.6/dist-packages (from requests->vaderSentiment) (2.10)\n",
            "Requirement already satisfied: chardet<4,>=3.0.2 in /usr/local/lib/python3.6/dist-packages (from requests->vaderSentiment) (3.0.4)\n",
            "Installing collected packages: vaderSentiment\n",
            "Successfully installed vaderSentiment-3.3.2\n",
            "Collecting transformers\n",
            "\u001b[?25l  Downloading https://files.pythonhosted.org/packages/19/22/aff234f4a841f8999e68a7a94bdd4b60b4cebcfeca5d67d61cd08c9179de/transformers-3.3.1-py3-none-any.whl (1.1MB)\n",
            "\u001b[K     |████████████████████████████████| 1.1MB 2.8MB/s \n",
            "\u001b[?25hRequirement already satisfied: dataclasses; python_version < \"3.7\" in /usr/local/lib/python3.6/dist-packages (from transformers) (0.7)\n",
            "Requirement already satisfied: requests in /usr/local/lib/python3.6/dist-packages (from transformers) (2.23.0)\n",
            "Collecting tokenizers==0.8.1.rc2\n",
            "\u001b[?25l  Downloading https://files.pythonhosted.org/packages/80/83/8b9fccb9e48eeb575ee19179e2bdde0ee9a1904f97de5f02d19016b8804f/tokenizers-0.8.1rc2-cp36-cp36m-manylinux1_x86_64.whl (3.0MB)\n",
            "\u001b[K     |████████████████████████████████| 3.0MB 18.8MB/s \n",
            "\u001b[?25hRequirement already satisfied: filelock in /usr/local/lib/python3.6/dist-packages (from transformers) (3.0.12)\n",
            "Requirement already satisfied: numpy in /usr/local/lib/python3.6/dist-packages (from transformers) (1.18.5)\n",
            "Collecting sentencepiece!=0.1.92\n",
            "\u001b[?25l  Downloading https://files.pythonhosted.org/packages/d4/a4/d0a884c4300004a78cca907a6ff9a5e9fe4f090f5d95ab341c53d28cbc58/sentencepiece-0.1.91-cp36-cp36m-manylinux1_x86_64.whl (1.1MB)\n",
            "\u001b[K     |████████████████████████████████| 1.1MB 30.5MB/s \n",
            "\u001b[?25hCollecting sacremoses\n",
            "\u001b[?25l  Downloading https://files.pythonhosted.org/packages/7d/34/09d19aff26edcc8eb2a01bed8e98f13a1537005d31e95233fd48216eed10/sacremoses-0.0.43.tar.gz (883kB)\n",
            "\u001b[K     |████████████████████████████████| 890kB 44.1MB/s \n",
            "\u001b[?25hRequirement already satisfied: packaging in /usr/local/lib/python3.6/dist-packages (from transformers) (20.4)\n",
            "Requirement already satisfied: tqdm>=4.27 in /usr/local/lib/python3.6/dist-packages (from transformers) (4.41.1)\n",
            "Requirement already satisfied: regex!=2019.12.17 in /usr/local/lib/python3.6/dist-packages (from transformers) (2019.12.20)\n",
            "Requirement already satisfied: chardet<4,>=3.0.2 in /usr/local/lib/python3.6/dist-packages (from requests->transformers) (3.0.4)\n",
            "Requirement already satisfied: idna<3,>=2.5 in /usr/local/lib/python3.6/dist-packages (from requests->transformers) (2.10)\n",
            "Requirement already satisfied: urllib3!=1.25.0,!=1.25.1,<1.26,>=1.21.1 in /usr/local/lib/python3.6/dist-packages (from requests->transformers) (1.24.3)\n",
            "Requirement already satisfied: certifi>=2017.4.17 in /usr/local/lib/python3.6/dist-packages (from requests->transformers) (2020.6.20)\n",
            "Requirement already satisfied: six in /usr/local/lib/python3.6/dist-packages (from sacremoses->transformers) (1.15.0)\n",
            "Requirement already satisfied: click in /usr/local/lib/python3.6/dist-packages (from sacremoses->transformers) (7.1.2)\n",
            "Requirement already satisfied: joblib in /usr/local/lib/python3.6/dist-packages (from sacremoses->transformers) (0.16.0)\n",
            "Requirement already satisfied: pyparsing>=2.0.2 in /usr/local/lib/python3.6/dist-packages (from packaging->transformers) (2.4.7)\n",
            "Building wheels for collected packages: sacremoses\n",
            "  Building wheel for sacremoses (setup.py) ... \u001b[?25l\u001b[?25hdone\n",
            "  Created wheel for sacremoses: filename=sacremoses-0.0.43-cp36-none-any.whl size=893257 sha256=2632c52ea9f0284b8d90da3844157525ba0d11ccc84cb9755e575c37d225b3a9\n",
            "  Stored in directory: /root/.cache/pip/wheels/29/3c/fd/7ce5c3f0666dab31a50123635e6fb5e19ceb42ce38d4e58f45\n",
            "Successfully built sacremoses\n",
            "Installing collected packages: tokenizers, sentencepiece, sacremoses, transformers\n",
            "Successfully installed sacremoses-0.0.43 sentencepiece-0.1.91 tokenizers-0.8.1rc2 transformers-3.3.1\n",
            "Collecting googletrans\n",
            "  Downloading https://files.pythonhosted.org/packages/71/3a/3b19effdd4c03958b90f40fe01c93de6d5280e03843cc5adf6956bfc9512/googletrans-3.0.0.tar.gz\n",
            "Collecting httpx==0.13.3\n",
            "\u001b[?25l  Downloading https://files.pythonhosted.org/packages/54/b4/698b284c6aed4d7c2b4fe3ba5df1fcf6093612423797e76fbb24890dd22f/httpx-0.13.3-py3-none-any.whl (55kB)\n",
            "\u001b[K     |████████████████████████████████| 61kB 3.0MB/s \n",
            "\u001b[?25hCollecting sniffio\n",
            "  Downloading https://files.pythonhosted.org/packages/b3/82/4bd4b7d9c0d1dc0fbfbc2a1e00138e7f3ab85bc239358fe9b78aa2ab586d/sniffio-1.1.0-py3-none-any.whl\n",
            "Requirement already satisfied: certifi in /usr/local/lib/python3.6/dist-packages (from httpx==0.13.3->googletrans) (2020.6.20)\n",
            "Requirement already satisfied: idna==2.* in /usr/local/lib/python3.6/dist-packages (from httpx==0.13.3->googletrans) (2.10)\n",
            "Collecting hstspreload\n",
            "\u001b[?25l  Downloading https://files.pythonhosted.org/packages/f0/16/59b51f8e640f16acad2c0e101fa1e55a87bfd80cff23f77ab23cb8927541/hstspreload-2020.10.6-py3-none-any.whl (965kB)\n",
            "\u001b[K     |████████████████████████████████| 972kB 7.9MB/s \n",
            "\u001b[?25hRequirement already satisfied: chardet==3.* in /usr/local/lib/python3.6/dist-packages (from httpx==0.13.3->googletrans) (3.0.4)\n",
            "Collecting httpcore==0.9.*\n",
            "\u001b[?25l  Downloading https://files.pythonhosted.org/packages/dd/d5/e4ff9318693ac6101a2095e580908b591838c6f33df8d3ee8dd953ba96a8/httpcore-0.9.1-py3-none-any.whl (42kB)\n",
            "\u001b[K     |████████████████████████████████| 51kB 8.4MB/s \n",
            "\u001b[?25hCollecting rfc3986<2,>=1.3\n",
            "  Downloading https://files.pythonhosted.org/packages/78/be/7b8b99fd74ff5684225f50dd0e865393d2265656ef3b4ba9eaaaffe622b8/rfc3986-1.4.0-py2.py3-none-any.whl\n",
            "Collecting contextvars>=2.1; python_version < \"3.7\"\n",
            "  Downloading https://files.pythonhosted.org/packages/83/96/55b82d9f13763be9d672622e1b8106c85acb83edd7cc2fa5bc67cd9877e9/contextvars-2.4.tar.gz\n",
            "Collecting h11<0.10,>=0.8\n",
            "\u001b[?25l  Downloading https://files.pythonhosted.org/packages/5a/fd/3dad730b0f95e78aeeb742f96fa7bbecbdd56a58e405d3da440d5bfb90c6/h11-0.9.0-py2.py3-none-any.whl (53kB)\n",
            "\u001b[K     |████████████████████████████████| 61kB 9.3MB/s \n",
            "\u001b[?25hCollecting h2==3.*\n",
            "\u001b[?25l  Downloading https://files.pythonhosted.org/packages/25/de/da019bcc539eeab02f6d45836f23858ac467f584bfec7a526ef200242afe/h2-3.2.0-py2.py3-none-any.whl (65kB)\n",
            "\u001b[K     |████████████████████████████████| 71kB 7.7MB/s \n",
            "\u001b[?25hCollecting immutables>=0.9\n",
            "\u001b[?25l  Downloading https://files.pythonhosted.org/packages/99/e0/ea6fd4697120327d26773b5a84853f897a68e33d3f9376b00a8ff96e4f63/immutables-0.14-cp36-cp36m-manylinux1_x86_64.whl (98kB)\n",
            "\u001b[K     |████████████████████████████████| 102kB 12.8MB/s \n",
            "\u001b[?25hCollecting hpack<4,>=3.0\n",
            "  Downloading https://files.pythonhosted.org/packages/8a/cc/e53517f4a1e13f74776ca93271caef378dadec14d71c61c949d759d3db69/hpack-3.0.0-py2.py3-none-any.whl\n",
            "Collecting hyperframe<6,>=5.2.0\n",
            "  Downloading https://files.pythonhosted.org/packages/19/0c/bf88182bcb5dce3094e2f3e4fe20db28a9928cb7bd5b08024030e4b140db/hyperframe-5.2.0-py2.py3-none-any.whl\n",
            "Building wheels for collected packages: googletrans, contextvars\n",
            "  Building wheel for googletrans (setup.py) ... \u001b[?25l\u001b[?25hdone\n",
            "  Created wheel for googletrans: filename=googletrans-3.0.0-cp36-none-any.whl size=15736 sha256=12c7bd06a1162fbb1af215d869bcaf3b3d08a4c6494ce2a33ac42bd0a1013c4c\n",
            "  Stored in directory: /root/.cache/pip/wheels/28/1a/a7/eaf4d7a3417a0c65796c547cff4deb6d79c7d14c2abd29273e\n",
            "  Building wheel for contextvars (setup.py) ... \u001b[?25l\u001b[?25hdone\n",
            "  Created wheel for contextvars: filename=contextvars-2.4-cp36-none-any.whl size=7666 sha256=7d5d7fc9f5a1184426342be207b2f15d2f75427330783af42cad6b4b32a7554d\n",
            "  Stored in directory: /root/.cache/pip/wheels/a5/7d/68/1ebae2668bda2228686e3c1cf16f2c2384cea6e9334ad5f6de\n",
            "Successfully built googletrans contextvars\n",
            "Installing collected packages: immutables, contextvars, sniffio, hstspreload, h11, hpack, hyperframe, h2, httpcore, rfc3986, httpx, googletrans\n",
            "Successfully installed contextvars-2.4 googletrans-3.0.0 h11-0.9.0 h2-3.2.0 hpack-3.0.0 hstspreload-2020.10.6 httpcore-0.9.1 httpx-0.13.3 hyperframe-5.2.0 immutables-0.14 rfc3986-1.4.0 sniffio-1.1.0\n"
          ],
          "name": "stdout"
        }
      ]
    },
    {
      "cell_type": "code",
      "metadata": {
        "id": "uDnbAH2sT2RV"
      },
      "source": [
        "import  os\n",
        "import dateutil.parser as parser\n",
        "import pandas as pd\n",
        "import numpy as np\n",
        "import re\n",
        "import nltk\n",
        "import pandas as pd\n",
        "from textblob import TextBlob\n",
        "from vaderSentiment.vaderSentiment import SentimentIntensityAnalyzer\n",
        "from googletrans import Translator\n",
        "from transformers import pipeline\n",
        "import IPython\n"
      ],
      "execution_count": 3,
      "outputs": []
    },
    {
      "cell_type": "code",
      "metadata": {
        "id": "uiJ0wW-DisOg",
        "outputId": "cd76e786-76d3-4940-e4c5-3b7485656f51",
        "colab": {
          "base_uri": "https://localhost:8080/"
        }
      },
      "source": [
        "ls '/content/drive/My Drive/MarkoPoloAI/Demo/mobassir/scrappedcsv'"
      ],
      "execution_count": 4,
      "outputs": [
        {
          "output_type": "stream",
          "text": [
            "Burgerology_comment_data.csv          manikfoodsdhanmondi_response_data.csv\n",
            "Burgerology_post_data.csv             mrburgerbd_post_data.csv\n",
            "Burgerology_response_data.csv         mrburger_comment_data.csv\n",
            "Chillox_comment_data.csv              mrburger_response_data.csv\n",
            "Chillox_post_data.csv                 Takeout_comment_data.csv\n",
            "Chillox_response_data.csv             Takeout_post_data.csv\n",
            "manikfoodsdhanmondi_comment_data.csv  Takeout_response_data.csv\n",
            "manikfoodsdhanmondi_post_data.csv\n"
          ],
          "name": "stdout"
        }
      ]
    },
    {
      "cell_type": "code",
      "metadata": {
        "id": "EA7swSeXkNcF"
      },
      "source": [
        "base = '/content/drive/My Drive/MarkoPoloAI/Demo/mobassir/scrappedcsv/'"
      ],
      "execution_count": 5,
      "outputs": []
    },
    {
      "cell_type": "code",
      "metadata": {
        "id": "BNyfItF0i2jI"
      },
      "source": [
        "all_df  = [ base+'Burgerology_comment_data.csv',\n",
        "           base+'Burgerology_response_data.csv',  \n",
        "           \n",
        "           base+'manikfoodsdhanmondi_comment_data.csv',\n",
        "           base+'manikfoodsdhanmondi_response_data.csv',\n",
        "                    \n",
        "           base+'mrburger_comment_data.csv',\n",
        "           base+'mrburger_response_data.csv',\n",
        "\n",
        "           base+'Chillox_comment_data.csv',\n",
        "           base+'Chillox_response_data.csv',             \n",
        "             \n",
        "           base+'Takeout_comment_data.csv',\n",
        "           base+'Takeout_response_data.csv'\n",
        "]\n",
        "\n",
        "post_df  = [  base+'Burgerology_post_data.csv',        \n",
        "             base+'mrburgerbd_post_data.csv',\n",
        "             base+'Chillox_post_data.csv',           \n",
        "             base+'Takeout_post_data.csv',\n",
        "             base+'manikfoodsdhanmondi_post_data.csv'\n",
        "]\n",
        "\n",
        "\n",
        "comments_df  = [  base+'Burgerology_comment_data.csv',        \n",
        "             base+'mrburger_comment_data.csv',\n",
        "             base+'Chillox_comment_data.csv',           \n",
        "             base+'Takeout_comment_data.csv',\n",
        "             base+'manikfoodsdhanmondi_comment_data.csv'\n",
        "]\n",
        "\n",
        "\n",
        "response_df  = [ base+'Burgerology_response_data.csv',   \n",
        "                 base+'mrburger_response_data.csv',\n",
        "                base+'Chillox_response_data.csv', \n",
        "                base+'Takeout_response_data.csv',\n",
        "             base+'manikfoodsdhanmondi_response_data.csv'        \n",
        "]"
      ],
      "execution_count": 6,
      "outputs": []
    },
    {
      "cell_type": "code",
      "metadata": {
        "id": "npIcfVXjj_Ft",
        "outputId": "990d841f-e940-4255-bf7f-bda8576ceba2",
        "colab": {
          "base_uri": "https://localhost:8080/",
          "height": 35
        }
      },
      "source": [
        "all_df[0]"
      ],
      "execution_count": 7,
      "outputs": [
        {
          "output_type": "execute_result",
          "data": {
            "application/vnd.google.colaboratory.intrinsic+json": {
              "type": "string"
            },
            "text/plain": [
              "'/content/drive/My Drive/MarkoPoloAI/Demo/mobassir/scrappedcsv/Burgerology_comment_data.csv'"
            ]
          },
          "metadata": {
            "tags": []
          },
          "execution_count": 7
        }
      ]
    },
    {
      "cell_type": "code",
      "metadata": {
        "id": "mLdvrgvOyDHK",
        "outputId": "91b6c62b-af66-4eee-be23-19b16bc1968a",
        "colab": {
          "base_uri": "https://localhost:8080/",
          "height": 327
        }
      },
      "source": [
        "pd.read_csv(post_df[0]).head(2)"
      ],
      "execution_count": 8,
      "outputs": [
        {
          "output_type": "execute_result",
          "data": {
            "text/html": [
              "<div>\n",
              "<style scoped>\n",
              "    .dataframe tbody tr th:only-of-type {\n",
              "        vertical-align: middle;\n",
              "    }\n",
              "\n",
              "    .dataframe tbody tr th {\n",
              "        vertical-align: top;\n",
              "    }\n",
              "\n",
              "    .dataframe thead th {\n",
              "        text-align: right;\n",
              "    }\n",
              "</style>\n",
              "<table border=\"1\" class=\"dataframe\">\n",
              "  <thead>\n",
              "    <tr style=\"text-align: right;\">\n",
              "      <th></th>\n",
              "      <th>Unnamed: 0</th>\n",
              "      <th>post_ids</th>\n",
              "      <th>post_url</th>\n",
              "      <th>time</th>\n",
              "      <th>author</th>\n",
              "      <th>text</th>\n",
              "      <th>shares</th>\n",
              "      <th>comments</th>\n",
              "      <th>like</th>\n",
              "      <th>love</th>\n",
              "      <th>care</th>\n",
              "      <th>haha</th>\n",
              "      <th>sad</th>\n",
              "      <th>wow</th>\n",
              "      <th>angry</th>\n",
              "      <th>links</th>\n",
              "      <th>image-captions</th>\n",
              "      <th>photos</th>\n",
              "    </tr>\n",
              "  </thead>\n",
              "  <tbody>\n",
              "    <tr>\n",
              "      <th>0</th>\n",
              "      <td>0</td>\n",
              "      <td>704734973443628</td>\n",
              "      <td>https://facebook.com/704734973443628</td>\n",
              "      <td>Thursday, 10 September 2020 at 23:51</td>\n",
              "      <td>Burgerology</td>\n",
              "      <td>\"Coming Soon....\\nGuess the price?\\n#Burgerolo...</td>\n",
              "      <td>0</td>\n",
              "      <td>7</td>\n",
              "      <td>36</td>\n",
              "      <td>5</td>\n",
              "      <td>0</td>\n",
              "      <td>0</td>\n",
              "      <td>0</td>\n",
              "      <td>3</td>\n",
              "      <td>0</td>\n",
              "      <td>https://www.facebook.com/burgerologybd/photos/...</td>\n",
              "      <td>['Image may contain: text and food', 'Image ma...</td>\n",
              "      <td>['118971251_704734793443646_335789358787520516...</td>\n",
              "    </tr>\n",
              "    <tr>\n",
              "      <th>1</th>\n",
              "      <td>1</td>\n",
              "      <td>698176524099473</td>\n",
              "      <td>https://facebook.com/698176524099473</td>\n",
              "      <td>Tuesday, 1 September 2020 at 16:13</td>\n",
              "      <td>Burgerology</td>\n",
              "      <td>\"Free Home Delivery.(Condition Apply)\\nDeliver...</td>\n",
              "      <td>16</td>\n",
              "      <td>84</td>\n",
              "      <td>0</td>\n",
              "      <td>0</td>\n",
              "      <td>0</td>\n",
              "      <td>0</td>\n",
              "      <td>0</td>\n",
              "      <td>0</td>\n",
              "      <td>0</td>\n",
              "      <td>https://www.facebook.com/burgerologybd/photos/...</td>\n",
              "      <td>['Image may contain: food, text that says \"YOU...</td>\n",
              "      <td>['118471658_698173437433115_162940010771481046...</td>\n",
              "    </tr>\n",
              "  </tbody>\n",
              "</table>\n",
              "</div>"
            ],
            "text/plain": [
              "   Unnamed: 0  ...                                             photos\n",
              "0           0  ...  ['118971251_704734793443646_335789358787520516...\n",
              "1           1  ...  ['118471658_698173437433115_162940010771481046...\n",
              "\n",
              "[2 rows x 18 columns]"
            ]
          },
          "metadata": {
            "tags": []
          },
          "execution_count": 8
        }
      ]
    },
    {
      "cell_type": "code",
      "metadata": {
        "id": "xB_AoBBEkAQ3",
        "outputId": "2096ba68-f7e7-4a5a-ad89-1bec2d546954",
        "colab": {
          "base_uri": "https://localhost:8080/",
          "height": 157
        }
      },
      "source": [
        "pd.read_csv(all_df[0]).head(2)"
      ],
      "execution_count": 9,
      "outputs": [
        {
          "output_type": "execute_result",
          "data": {
            "text/html": [
              "<div>\n",
              "<style scoped>\n",
              "    .dataframe tbody tr th:only-of-type {\n",
              "        vertical-align: middle;\n",
              "    }\n",
              "\n",
              "    .dataframe tbody tr th {\n",
              "        vertical-align: top;\n",
              "    }\n",
              "\n",
              "    .dataframe thead th {\n",
              "        text-align: right;\n",
              "    }\n",
              "</style>\n",
              "<table border=\"1\" class=\"dataframe\">\n",
              "  <thead>\n",
              "    <tr style=\"text-align: right;\">\n",
              "      <th></th>\n",
              "      <th>Unnamed: 0</th>\n",
              "      <th>post_id</th>\n",
              "      <th>type</th>\n",
              "      <th>local_thread</th>\n",
              "      <th>author</th>\n",
              "      <th>profile_link</th>\n",
              "      <th>text</th>\n",
              "      <th>time</th>\n",
              "      <th>reactions</th>\n",
              "      <th>img_name</th>\n",
              "      <th>caption</th>\n",
              "    </tr>\n",
              "  </thead>\n",
              "  <tbody>\n",
              "    <tr>\n",
              "      <th>0</th>\n",
              "      <td>0</td>\n",
              "      <td>704734973443628</td>\n",
              "      <td>comment</td>\n",
              "      <td>0</td>\n",
              "      <td>David Peterson Das</td>\n",
              "      <td>https://www.facebook.com/david.das.902</td>\n",
              "      <td>If price is low it will not give you any taste...</td>\n",
              "      <td>Friday, 11 September 2020 at 06:47</td>\n",
              "      <td>1</td>\n",
              "      <td>NaN</td>\n",
              "      <td>NaN</td>\n",
              "    </tr>\n",
              "    <tr>\n",
              "      <th>1</th>\n",
              "      <td>1</td>\n",
              "      <td>704734973443628</td>\n",
              "      <td>comment</td>\n",
              "      <td>1</td>\n",
              "      <td>Farha Binte Payel</td>\n",
              "      <td>https://www.facebook.com/farhabinte.payel</td>\n",
              "      <td>120-150</td>\n",
              "      <td>Friday, 11 September 2020 at 04:13</td>\n",
              "      <td>1</td>\n",
              "      <td>NaN</td>\n",
              "      <td>NaN</td>\n",
              "    </tr>\n",
              "  </tbody>\n",
              "</table>\n",
              "</div>"
            ],
            "text/plain": [
              "   Unnamed: 0          post_id     type  ...  reactions img_name caption\n",
              "0           0  704734973443628  comment  ...          1      NaN     NaN\n",
              "1           1  704734973443628  comment  ...          1      NaN     NaN\n",
              "\n",
              "[2 rows x 11 columns]"
            ]
          },
          "metadata": {
            "tags": []
          },
          "execution_count": 9
        }
      ]
    },
    {
      "cell_type": "code",
      "metadata": {
        "id": "7aOd2x-4kDu9",
        "outputId": "47517957-2fc8-4531-a4ab-eb6ac13957d6",
        "colab": {
          "base_uri": "https://localhost:8080/",
          "height": 157
        }
      },
      "source": [
        "pd.read_csv(response_df[0]).head(2)"
      ],
      "execution_count": 10,
      "outputs": [
        {
          "output_type": "execute_result",
          "data": {
            "text/html": [
              "<div>\n",
              "<style scoped>\n",
              "    .dataframe tbody tr th:only-of-type {\n",
              "        vertical-align: middle;\n",
              "    }\n",
              "\n",
              "    .dataframe tbody tr th {\n",
              "        vertical-align: top;\n",
              "    }\n",
              "\n",
              "    .dataframe thead th {\n",
              "        text-align: right;\n",
              "    }\n",
              "</style>\n",
              "<table border=\"1\" class=\"dataframe\">\n",
              "  <thead>\n",
              "    <tr style=\"text-align: right;\">\n",
              "      <th></th>\n",
              "      <th>Unnamed: 0</th>\n",
              "      <th>post_id</th>\n",
              "      <th>thread_id</th>\n",
              "      <th>source_author</th>\n",
              "      <th>source_text</th>\n",
              "      <th>source_reaction</th>\n",
              "      <th>source_word_count</th>\n",
              "      <th>response_text</th>\n",
              "      <th>response_delay_min</th>\n",
              "      <th>response_reaction</th>\n",
              "      <th>reply_word_count</th>\n",
              "    </tr>\n",
              "  </thead>\n",
              "  <tbody>\n",
              "    <tr>\n",
              "      <th>0</th>\n",
              "      <td>0</td>\n",
              "      <td>698176524099473</td>\n",
              "      <td>25</td>\n",
              "      <td>Prodip Purification</td>\n",
              "      <td>Ei disher namki</td>\n",
              "      <td>0</td>\n",
              "      <td>3</td>\n",
              "      <td>Prodip Purification\\nChicken Milanese\\n&amp;\\nPoll...</td>\n",
              "      <td>24</td>\n",
              "      <td>0</td>\n",
              "      <td>8</td>\n",
              "    </tr>\n",
              "    <tr>\n",
              "      <th>1</th>\n",
              "      <td>1</td>\n",
              "      <td>698176524099473</td>\n",
              "      <td>30</td>\n",
              "      <td>Apurbo Afridi</td>\n",
              "      <td>Foodpanda available</td>\n",
              "      <td>0</td>\n",
              "      <td>2</td>\n",
              "      <td>Apurbo Afridi\\nYes</td>\n",
              "      <td>467</td>\n",
              "      <td>0</td>\n",
              "      <td>3</td>\n",
              "    </tr>\n",
              "  </tbody>\n",
              "</table>\n",
              "</div>"
            ],
            "text/plain": [
              "   Unnamed: 0          post_id  ...  response_reaction reply_word_count\n",
              "0           0  698176524099473  ...                  0                8\n",
              "1           1  698176524099473  ...                  0                3\n",
              "\n",
              "[2 rows x 11 columns]"
            ]
          },
          "metadata": {
            "tags": []
          },
          "execution_count": 10
        }
      ]
    },
    {
      "cell_type": "markdown",
      "metadata": {
        "id": "InguLEcDW7oo"
      },
      "source": [
        "# METRIC 1 → Brand Awareness"
      ]
    },
    {
      "cell_type": "markdown",
      "metadata": {
        "id": "qkZygeLCepow"
      },
      "source": [
        "for demo purpose we will use Burgerology post's comment data"
      ]
    },
    {
      "cell_type": "code",
      "metadata": {
        "id": "kqXTIudKd-cb"
      },
      "source": [
        "burgerology = pd.read_csv(comments_df[0])\n",
        "burgerology = burgerology.text\n",
        "tags_burgerology = ['burgerology','#burgerology']\n",
        "tags_mrburger = ['mrburger','#mrburgerbd','mrburgerbd','mr. burger','mr.burger','mr. burgerbd','mr.burgerbd']\n",
        "tags_chillox = ['chillox','#chillox']\n",
        "tags_takeout = ['takeout','#takeout','bdtakeout','takeoutbd']\n",
        "tags_manikfoodsdhanmondi = ['manikfoodsdhanmondi','#manikfoodsdhanmondi','manikfoods','#manikfoods','manik','#manik','mr.manik','mr manik']"
      ],
      "execution_count": 11,
      "outputs": []
    },
    {
      "cell_type": "markdown",
      "metadata": {
        "id": "9e3WkEE_gfzf"
      },
      "source": [
        "# single pattern search"
      ]
    },
    {
      "cell_type": "code",
      "metadata": {
        "id": "EtuJPIkwgRTn"
      },
      "source": [
        "mention = []\n",
        "count = 0\n",
        "for i in range(len(burgerology)):\n",
        "  ck = 0\n",
        "  try:\n",
        "    re.search('burgerology', burgerology[i].lower()).span()\n",
        "    ck = 1\n",
        "  except:\n",
        "    pass\n",
        "\n",
        "  if (ck):\n",
        "    mention.append(burgerology[i])\n",
        "    count+=1\n",
        "\n"
      ],
      "execution_count": 12,
      "outputs": []
    },
    {
      "cell_type": "code",
      "metadata": {
        "id": "LYsQUyX6lTmn",
        "outputId": "901375f7-81cb-43e4-c279-ab5d7f973b25",
        "colab": {
          "base_uri": "https://localhost:8080/"
        }
      },
      "source": [
        "count,len(burgerology)"
      ],
      "execution_count": 13,
      "outputs": [
        {
          "output_type": "execute_result",
          "data": {
            "text/plain": [
              "(194, 2550)"
            ]
          },
          "metadata": {
            "tags": []
          },
          "execution_count": 13
        }
      ]
    },
    {
      "cell_type": "markdown",
      "metadata": {
        "id": "pKOHmNMClwuy"
      },
      "source": [
        "well,from 2550 rows we have found 194 rows that contains the word \"burgerology\""
      ]
    },
    {
      "cell_type": "markdown",
      "metadata": {
        "id": "61KzxkPemJy9"
      },
      "source": [
        "# Multiple pattern matching test"
      ]
    },
    {
      "cell_type": "code",
      "metadata": {
        "id": "9kZbvzOcZJp-"
      },
      "source": [
        "def brand_mentions(dfcomments,tags):\n",
        "  mentions = []\n",
        "  count = 0\n",
        "  dfcomments = dfcomments.values.tolist()\n",
        "  for i in range(len(dfcomments)):\n",
        "    #ck = len(re.findall(r\"\\bburgerology\\b|\\b#burgerology\\b\", burgerology[i].lower()))\n",
        "    #ck = len(re.findall(r\"\\b%s\\b|\\b%s\\b\"%(tags_burgerology[0],tags_burgerology[1]), burgerology[i].lower()))\n",
        "    ck = 0\n",
        "    for  j  in range(len(tags)):\n",
        "      if (re.search(tags[j],  dfcomments[i].lower())):\n",
        "        ck = 1\n",
        "\n",
        "    if (ck):\n",
        "      mentions.append(dfcomments[i])\n",
        "      count+=ck\n",
        "  return count"
      ],
      "execution_count": 14,
      "outputs": []
    },
    {
      "cell_type": "code",
      "metadata": {
        "id": "8fl2edbRih-z",
        "outputId": "614db0c8-7f1c-4068-f788-034000b6d8c2",
        "colab": {
          "base_uri": "https://localhost:8080/"
        }
      },
      "source": [
        "\n",
        "all_df"
      ],
      "execution_count": 15,
      "outputs": [
        {
          "output_type": "execute_result",
          "data": {
            "text/plain": [
              "['/content/drive/My Drive/MarkoPoloAI/Demo/mobassir/scrappedcsv/Burgerology_comment_data.csv',\n",
              " '/content/drive/My Drive/MarkoPoloAI/Demo/mobassir/scrappedcsv/Burgerology_response_data.csv',\n",
              " '/content/drive/My Drive/MarkoPoloAI/Demo/mobassir/scrappedcsv/manikfoodsdhanmondi_comment_data.csv',\n",
              " '/content/drive/My Drive/MarkoPoloAI/Demo/mobassir/scrappedcsv/manikfoodsdhanmondi_response_data.csv',\n",
              " '/content/drive/My Drive/MarkoPoloAI/Demo/mobassir/scrappedcsv/mrburger_comment_data.csv',\n",
              " '/content/drive/My Drive/MarkoPoloAI/Demo/mobassir/scrappedcsv/mrburger_response_data.csv',\n",
              " '/content/drive/My Drive/MarkoPoloAI/Demo/mobassir/scrappedcsv/Chillox_comment_data.csv',\n",
              " '/content/drive/My Drive/MarkoPoloAI/Demo/mobassir/scrappedcsv/Chillox_response_data.csv',\n",
              " '/content/drive/My Drive/MarkoPoloAI/Demo/mobassir/scrappedcsv/Takeout_comment_data.csv',\n",
              " '/content/drive/My Drive/MarkoPoloAI/Demo/mobassir/scrappedcsv/Takeout_response_data.csv']"
            ]
          },
          "metadata": {
            "tags": []
          },
          "execution_count": 15
        }
      ]
    },
    {
      "cell_type": "code",
      "metadata": {
        "id": "F-RwmPPxcAPd"
      },
      "source": [
        "df1 = pd.read_csv(all_df[0])\n",
        "df2 = pd.read_csv(all_df[1])\n",
        "Burgerology = pd.concat([df2.response_text, df1.text])\n",
        "\n",
        "df1 = pd.read_csv(all_df[2])\n",
        "df2 = pd.read_csv(all_df[3])\n",
        "manikfoods = pd.concat([df2.response_text, df1.text])\n",
        "\n",
        "df1 = pd.read_csv(all_df[4])\n",
        "df2 = pd.read_csv(all_df[5])\n",
        "mrburger = pd.concat([df2.response_text, df1.text])\n",
        "\n",
        "df1 = pd.read_csv(all_df[6])\n",
        "df2 = pd.read_csv(all_df[7])\n",
        "Chillox = pd.concat([df2.response_text, df1.text])\n",
        "\n",
        "df1 = pd.read_csv(all_df[8])\n",
        "df2 = pd.read_csv(all_df[9])\n",
        "Takeout = pd.concat([df2.response_text, df1.text])\n"
      ],
      "execution_count": 16,
      "outputs": []
    },
    {
      "cell_type": "code",
      "metadata": {
        "id": "A7ADb_wSkRul"
      },
      "source": [
        "burgerology_count = brand_mentions(Burgerology,tags_burgerology)\n",
        "manikfoodsdhanmondi_count = brand_mentions(manikfoods,tags_manikfoodsdhanmondi)\n",
        "takeout_count = brand_mentions(Takeout,tags_takeout)\n",
        "chillox_count = brand_mentions(Chillox,tags_chillox)\n",
        "mrburger_count = brand_mentions(mrburger,tags_mrburger)"
      ],
      "execution_count": 17,
      "outputs": []
    },
    {
      "cell_type": "markdown",
      "metadata": {
        "id": "-FxhfwQpqmG3"
      },
      "source": [
        "# compare result with other brands(example : mrburgerbd)"
      ]
    },
    {
      "cell_type": "code",
      "metadata": {
        "id": "ZBvAxMEIoZBO",
        "outputId": "92ea707e-d829-4d52-ab09-668c2fbefe33",
        "colab": {
          "base_uri": "https://localhost:8080/"
        }
      },
      "source": [
        "print(\"Total Mentions of burgerology = \",burgerology_count,\"from  total comments of = \", len(Burgerology))\n",
        "print(\"Total Mentions of manikfoodsdhanmondi = \",manikfoodsdhanmondi_count,\"from  total comments of = \", len(manikfoods))\n",
        "print(\"Total Mentions of takeout = \",takeout_count,\"from  total comments of = \", len(Takeout))\n",
        "print(\"Total Mentions of chillox = \",chillox_count,\"from  total comments of = \", len(Chillox))\n",
        "print(\"Total Mentions of mrburger = \",mrburger_count,\"from  total comments of = \", len(mrburger))"
      ],
      "execution_count": 18,
      "outputs": [
        {
          "output_type": "stream",
          "text": [
            "Total Mentions of burgerology =  212 from  total comments of =  2679\n",
            "Total Mentions of manikfoodsdhanmondi =  56 from  total comments of =  3045\n",
            "Total Mentions of takeout =  451 from  total comments of =  6746\n",
            "Total Mentions of chillox =  226 from  total comments of =  5226\n",
            "Total Mentions of mrburger =  45 from  total comments of =  1813\n"
          ],
          "name": "stdout"
        }
      ]
    },
    {
      "cell_type": "code",
      "metadata": {
        "id": "51WBkhKUoi_u"
      },
      "source": [
        "burgerolog = pd.read_csv(comments_df[0])\n"
      ],
      "execution_count": 19,
      "outputs": []
    },
    {
      "cell_type": "code",
      "metadata": {
        "id": "FMlH__vId1zx"
      },
      "source": [
        "burgerologyposts = pd.read_csv(post_df[0])\n",
        "mrburgerbdposts = pd.read_csv(post_df[1])\n",
        "chilloxposts = pd.read_csv(post_df[2])\n",
        "takeoutposts = pd.read_csv(post_df[3])\n",
        "mrmanikposts = pd.read_csv(post_df[4])\n"
      ],
      "execution_count": 20,
      "outputs": []
    },
    {
      "cell_type": "markdown",
      "metadata": {
        "id": "BUZi_7Yluu-3"
      },
      "source": [
        "#total shares\n",
        "\n"
      ]
    },
    {
      "cell_type": "code",
      "metadata": {
        "id": "dTVfc2Veuoff",
        "outputId": "9664fcb8-cec1-4909-b0e7-957bef59ea52",
        "colab": {
          "base_uri": "https://localhost:8080/"
        }
      },
      "source": [
        "print(\"mrburgerbdposts = \",mrburgerbdposts.shares.sum())\n",
        "print(\"burgerologyposts =\",burgerologyposts.shares.sum())\n",
        "print(\"chilloxposts =\",chilloxposts.shares.sum())\n",
        "print(\"takeoutposts =\",takeoutposts.shares.sum())\n",
        "print(\"mrmanikposts =\",mrmanikposts.shares.sum())"
      ],
      "execution_count": 21,
      "outputs": [
        {
          "output_type": "stream",
          "text": [
            "mrburgerbdposts =  426\n",
            "burgerologyposts = 859\n",
            "chilloxposts = 4232\n",
            "takeoutposts = 1886\n",
            "mrmanikposts = 353\n"
          ],
          "name": "stdout"
        }
      ]
    },
    {
      "cell_type": "code",
      "metadata": {
        "id": "5pFIUZEGphT_"
      },
      "source": [
        "mrburgerbd = pd.read_csv(comments_df[1])"
      ],
      "execution_count": 22,
      "outputs": []
    },
    {
      "cell_type": "code",
      "metadata": {
        "id": "akaGf5IZ0BZP"
      },
      "source": [
        "mrburger_mentions = []\n",
        "count = 0\n",
        "for i in range(len(mrburgerbd)):\n",
        "  ck = len(re.findall(r\"\\bmrburger\\b|\\b#mrburgerbd\\b|\\bmrburgerbd\\b|\\bmr. burger\\b|\\bmr.burger\\b|\\bmr. burgerbd\\b|\\bmr.burgerbd\\b\", mrburgerbd.text[i].lower()))\n",
        "\n",
        "  if (ck>0):\n",
        "    mrburger_mentions.append(mrburgerbd.text[i])\n",
        "    count+=1\n"
      ],
      "execution_count": 23,
      "outputs": []
    },
    {
      "cell_type": "code",
      "metadata": {
        "id": "OMIJOCKl0azo",
        "outputId": "d5eac99b-6772-4314-a592-ab338d1df4c5",
        "colab": {
          "base_uri": "https://localhost:8080/"
        }
      },
      "source": [
        "count,len(mrburgerbd)"
      ],
      "execution_count": 24,
      "outputs": [
        {
          "output_type": "execute_result",
          "data": {
            "text/plain": [
              "(38, 1640)"
            ]
          },
          "metadata": {
            "tags": []
          },
          "execution_count": 24
        }
      ]
    },
    {
      "cell_type": "markdown",
      "metadata": {
        "id": "EB1dNAZk2MPo"
      },
      "source": [
        "well,from 1640 rows we have found 38 rows that mentions Mr. BurgerBd which is very lower compared to \"burgerology\" mentions"
      ]
    },
    {
      "cell_type": "code",
      "metadata": {
        "id": "2ujrMwRat9xa",
        "outputId": "6b4acfbf-7996-4a9c-cf9c-29c73a394e56",
        "colab": {
          "base_uri": "https://localhost:8080/"
        }
      },
      "source": [
        "post_df"
      ],
      "execution_count": 25,
      "outputs": [
        {
          "output_type": "execute_result",
          "data": {
            "text/plain": [
              "['/content/drive/My Drive/MarkoPoloAI/Demo/mobassir/scrappedcsv/Burgerology_post_data.csv',\n",
              " '/content/drive/My Drive/MarkoPoloAI/Demo/mobassir/scrappedcsv/mrburgerbd_post_data.csv',\n",
              " '/content/drive/My Drive/MarkoPoloAI/Demo/mobassir/scrappedcsv/Chillox_post_data.csv',\n",
              " '/content/drive/My Drive/MarkoPoloAI/Demo/mobassir/scrappedcsv/Takeout_post_data.csv',\n",
              " '/content/drive/My Drive/MarkoPoloAI/Demo/mobassir/scrappedcsv/manikfoodsdhanmondi_post_data.csv']"
            ]
          },
          "metadata": {
            "tags": []
          },
          "execution_count": 25
        }
      ]
    },
    {
      "cell_type": "code",
      "metadata": {
        "id": "DZUy63gy_pxc"
      },
      "source": [
        "def post_delay(df):\n",
        "  gap = []\n",
        "  for i in range(len(df) - 1):\n",
        "    datetime_str1 = df.time[i]\n",
        "    datetime_str2 = df.time[i+1]\n",
        "    date1 = parser.parse(datetime_str1)\n",
        "    date2 = parser.parse(datetime_str2)\n",
        "    td = date1 - date2\n",
        "    gap.append(td.days)\n",
        "  return gap"
      ],
      "execution_count": 26,
      "outputs": []
    },
    {
      "cell_type": "code",
      "metadata": {
        "id": "nTWs9Acm8kOu",
        "outputId": "e039fe2e-6450-427f-8d14-b5dbc1d12071",
        "colab": {
          "base_uri": "https://localhost:8080/"
        }
      },
      "source": [
        "gap = post_delay(mrburgerbdposts)\n",
        "print(\"Mr. BurgerBd AVG POST DELAY(IN DAYS) = \",np.mean(gap))"
      ],
      "execution_count": 27,
      "outputs": [
        {
          "output_type": "stream",
          "text": [
            "Mr. BurgerBd AVG POST DELAY(IN DAYS) =  7.423076923076923\n"
          ],
          "name": "stdout"
        }
      ]
    },
    {
      "cell_type": "code",
      "metadata": {
        "id": "n1fAYWzb-k73",
        "outputId": "b0d8c31c-c9b1-4cad-852a-94f04960352f",
        "colab": {
          "base_uri": "https://localhost:8080/"
        }
      },
      "source": [
        "gap = post_delay(burgerologyposts)\n",
        "print(\"Burgerology AVG POST DELAY(IN DAYS) = \",np.mean(gap))"
      ],
      "execution_count": 28,
      "outputs": [
        {
          "output_type": "stream",
          "text": [
            "Burgerology AVG POST DELAY(IN DAYS) =  3.6737967914438503\n"
          ],
          "name": "stdout"
        }
      ]
    },
    {
      "cell_type": "code",
      "metadata": {
        "id": "70tVdCWxvqvC",
        "outputId": "3691301a-078b-40ef-e6e7-cb616aeb075e",
        "colab": {
          "base_uri": "https://localhost:8080/"
        }
      },
      "source": [
        "gap = post_delay(chilloxposts)\n",
        "print(\"chillox AVG POST DELAY(IN DAYS) = \",np.mean(gap))"
      ],
      "execution_count": 29,
      "outputs": [
        {
          "output_type": "stream",
          "text": [
            "chillox AVG POST DELAY(IN DAYS) =  2.804232804232804\n"
          ],
          "name": "stdout"
        }
      ]
    },
    {
      "cell_type": "code",
      "metadata": {
        "id": "Y2x9wB6mvrXV",
        "outputId": "18d2d4eb-0a95-4769-9fdd-30e19ab51c36",
        "colab": {
          "base_uri": "https://localhost:8080/"
        }
      },
      "source": [
        "gap = post_delay(takeoutposts)\n",
        "print(\"Takeout AVG POST DELAY(IN DAYS) = \",np.mean(gap))"
      ],
      "execution_count": 30,
      "outputs": [
        {
          "output_type": "stream",
          "text": [
            "Takeout AVG POST DELAY(IN DAYS) =  2.8197674418604652\n"
          ],
          "name": "stdout"
        }
      ]
    },
    {
      "cell_type": "code",
      "metadata": {
        "id": "5nbWF-HWvsDJ",
        "outputId": "454654d7-0fb0-442f-b26d-b22ff1f22430",
        "colab": {
          "base_uri": "https://localhost:8080/"
        }
      },
      "source": [
        "gap = post_delay(mrmanikposts)\n",
        "print(\"mr.manik AVG POST DELAY(IN DAYS) = \",np.mean(gap))"
      ],
      "execution_count": 31,
      "outputs": [
        {
          "output_type": "stream",
          "text": [
            "mr.manik AVG POST DELAY(IN DAYS) =  10.088235294117647\n"
          ],
          "name": "stdout"
        }
      ]
    },
    {
      "cell_type": "markdown",
      "metadata": {
        "id": "ViYlx1T3CtAi"
      },
      "source": [
        "# METRIC 2 → Audience Growth Rate :"
      ]
    },
    {
      "cell_type": "code",
      "metadata": {
        "id": "J7dQ-WgGzB_h"
      },
      "source": [
        "def growth_calculator(df):\n",
        "  column_names = [\"days\", \"shares\"]\n",
        "  sharedf = pd.DataFrame(columns = column_names)\n",
        "  days = []\n",
        "  shares = []\n",
        "  for i in range(len(df) - 1):\n",
        "    datetime_str1 = df.time[i]\n",
        "    datetime_str2 = df.time[i+1]\n",
        "    date1 = parser.parse(datetime_str1)\n",
        "    date2 = parser.parse(datetime_str2)\n",
        "    td = (date1 - date2)\n",
        "    td = td.days\n",
        "    days.append(td)\n",
        "    shares.append(df.shares[i] + df.shares[i+1])\n",
        "  sharedf['days'] = days\n",
        "  sharedf['shares'] = shares\n",
        "\n",
        "  return sharedf"
      ],
      "execution_count": 32,
      "outputs": []
    },
    {
      "cell_type": "code",
      "metadata": {
        "id": "eKFwZ-LuFOV8"
      },
      "source": [
        "sharedf = growth_calculator(burgerologyposts)\n",
        "sharedf1 = growth_calculator(mrburgerbdposts)\n",
        "sharedf2 = growth_calculator(mrmanikposts)\n",
        "sharedf3 = growth_calculator(takeoutposts)\n",
        "sharedf4 = growth_calculator(chilloxposts)"
      ],
      "execution_count": 33,
      "outputs": []
    },
    {
      "cell_type": "code",
      "metadata": {
        "id": "SlWHTr3yN4Hc",
        "outputId": "1535d3af-2295-427e-823f-71c84c108f88",
        "colab": {
          "base_uri": "https://localhost:8080/",
          "height": 445
        }
      },
      "source": [
        "sharedf.cumsum().plot(figsize=(20,7), grid=True, label='Burgerology')"
      ],
      "execution_count": 34,
      "outputs": [
        {
          "output_type": "execute_result",
          "data": {
            "text/plain": [
              "<matplotlib.axes._subplots.AxesSubplot at 0x7f1a5c118208>"
            ]
          },
          "metadata": {
            "tags": []
          },
          "execution_count": 34
        },
        {
          "output_type": "display_data",
          "data": {
            "image/png": "[encoded data removed]",
            "text/plain": [
              "<Figure size 1440x504 with 1 Axes>"
            ]
          },
          "metadata": {
            "tags": [],
            "needs_background": "light"
          }
        }
      ]
    },
    {
      "cell_type": "code",
      "metadata": {
        "id": "yQuE2sReOm7N",
        "outputId": "c166658b-a065-445f-a0fe-c53fdb7e2e3a",
        "colab": {
          "base_uri": "https://localhost:8080/",
          "height": 445
        }
      },
      "source": [
        "sharedf1.cumsum().plot(figsize=(20,7), grid=True, label='mrburgerbdposts')"
      ],
      "execution_count": 35,
      "outputs": [
        {
          "output_type": "execute_result",
          "data": {
            "text/plain": [
              "<matplotlib.axes._subplots.AxesSubplot at 0x7f1a5c00c3c8>"
            ]
          },
          "metadata": {
            "tags": []
          },
          "execution_count": 35
        },
        {
          "output_type": "display_data",
          "data": {
            "image/png": "[encoded data removed]",
            "text/plain": [
              "<Figure size 1440x504 with 1 Axes>"
            ]
          },
          "metadata": {
            "tags": [],
            "needs_background": "light"
          }
        }
      ]
    },
    {
      "cell_type": "code",
      "metadata": {
        "id": "YUabwhjTwkwx",
        "outputId": "559b56a3-f2c8-4f5d-9195-932077835741",
        "colab": {
          "base_uri": "https://localhost:8080/",
          "height": 445
        }
      },
      "source": [
        "sharedf2.cumsum().plot(figsize=(20,7), grid=True, label='mrmanikposts')"
      ],
      "execution_count": 36,
      "outputs": [
        {
          "output_type": "execute_result",
          "data": {
            "text/plain": [
              "<matplotlib.axes._subplots.AxesSubplot at 0x7f1a5bb52cc0>"
            ]
          },
          "metadata": {
            "tags": []
          },
          "execution_count": 36
        },
        {
          "output_type": "display_data",
          "data": {
            "image/png": "[encoded data removed]",
            "text/plain": [
              "<Figure size 1440x504 with 1 Axes>"
            ]
          },
          "metadata": {
            "tags": [],
            "needs_background": "light"
          }
        }
      ]
    },
    {
      "cell_type": "code",
      "metadata": {
        "id": "JD5rEXVowlY2",
        "outputId": "788acd91-01de-430b-dc55-533ff89dea3f",
        "colab": {
          "base_uri": "https://localhost:8080/",
          "height": 445
        }
      },
      "source": [
        "sharedf3.cumsum().plot(figsize=(20,7), grid=True, label='takeoutposts')"
      ],
      "execution_count": 37,
      "outputs": [
        {
          "output_type": "execute_result",
          "data": {
            "text/plain": [
              "<matplotlib.axes._subplots.AxesSubplot at 0x7f1a5bb85780>"
            ]
          },
          "metadata": {
            "tags": []
          },
          "execution_count": 37
        },
        {
          "output_type": "display_data",
          "data": {
            "image/png": "[encoded data removed]",
            "text/plain": [
              "<Figure size 1440x504 with 1 Axes>"
            ]
          },
          "metadata": {
            "tags": [],
            "needs_background": "light"
          }
        }
      ]
    },
    {
      "cell_type": "code",
      "metadata": {
        "id": "7MyJpHpewl9r",
        "outputId": "fdf07566-69c4-4d2a-e303-e409c11ea46c",
        "colab": {
          "base_uri": "https://localhost:8080/",
          "height": 445
        }
      },
      "source": [
        "sharedf4.cumsum().plot(figsize=(20,7), grid=True, label='chilloxposts')"
      ],
      "execution_count": 38,
      "outputs": [
        {
          "output_type": "execute_result",
          "data": {
            "text/plain": [
              "<matplotlib.axes._subplots.AxesSubplot at 0x7f1a5ba57160>"
            ]
          },
          "metadata": {
            "tags": []
          },
          "execution_count": 38
        },
        {
          "output_type": "display_data",
          "data": {
            "image/png": "[encoded data removed]",
            "text/plain": [
              "<Figure size 1440x504 with 1 Axes>"
            ]
          },
          "metadata": {
            "tags": [],
            "needs_background": "light"
          }
        }
      ]
    },
    {
      "cell_type": "markdown",
      "metadata": {
        "id": "5d59nYGvX9ko"
      },
      "source": [
        "# Metric 3 -> Applause Rate"
      ]
    },
    {
      "cell_type": "code",
      "metadata": {
        "id": "whZr8kmyYQT5"
      },
      "source": [
        "def Applause_Rate(df,followers):\n",
        "  like = df.like.sum()\n",
        "  love = df.love.sum()\n",
        "  care = df.care.sum()\n",
        "  wow = df.wow.sum()\n",
        "  total = like + love + care + wow\n",
        "  \n",
        "  return (total/followers) * 100\n"
      ],
      "execution_count": 39,
      "outputs": []
    },
    {
      "cell_type": "code",
      "metadata": {
        "id": "KiBapm_qUuxR",
        "outputId": "54bdbe27-ff4b-47c2-bc4b-c4c2f2fdc37d",
        "colab": {
          "base_uri": "https://localhost:8080/"
        }
      },
      "source": [
        "Burgerology_followers = 72106 #Burgerology\n",
        "Burgerology_Applause_Rate = Applause_Rate(burgerologyposts,Burgerology_followers) \n",
        "Burgerology_Applause_Rate"
      ],
      "execution_count": 40,
      "outputs": [
        {
          "output_type": "execute_result",
          "data": {
            "text/plain": [
              "21.0759160125371"
            ]
          },
          "metadata": {
            "tags": []
          },
          "execution_count": 40
        }
      ]
    },
    {
      "cell_type": "code",
      "metadata": {
        "id": "drlkmE7UYcz8",
        "outputId": "e0bd5dc4-9190-4bcb-eb08-afcd066cf5c2",
        "colab": {
          "base_uri": "https://localhost:8080/"
        }
      },
      "source": [
        "mrburgerbd_followers = 50405 #mrburgerbd\n",
        "mrburgerbd_Applause_Rate = Applause_Rate(mrburgerbdposts,mrburgerbd_followers) \n",
        "mrburgerbd_Applause_Rate"
      ],
      "execution_count": 41,
      "outputs": [
        {
          "output_type": "execute_result",
          "data": {
            "text/plain": [
              "20.567404027378235"
            ]
          },
          "metadata": {
            "tags": []
          },
          "execution_count": 41
        }
      ]
    },
    {
      "cell_type": "code",
      "metadata": {
        "id": "X95vVL6UsuVg",
        "outputId": "0bc08d42-6f63-4fdc-dd41-1a0a28a50f9f",
        "colab": {
          "base_uri": "https://localhost:8080/"
        }
      },
      "source": [
        "mrmanik_followers = 124893 #Mr.Manik Foods Ltd\n",
        "mrmanik_Applause_Rate = Applause_Rate(mrmanikposts,mrmanik_followers) \n",
        "mrmanik_Applause_Rate"
      ],
      "execution_count": 42,
      "outputs": [
        {
          "output_type": "execute_result",
          "data": {
            "text/plain": [
              "11.598728511605936"
            ]
          },
          "metadata": {
            "tags": []
          },
          "execution_count": 42
        }
      ]
    },
    {
      "cell_type": "code",
      "metadata": {
        "id": "fvcrPYwnw91m",
        "outputId": "5496586d-fc04-48f4-b117-1c2037d42639",
        "colab": {
          "base_uri": "https://localhost:8080/"
        }
      },
      "source": [
        "chillox_followers = 163392 #chillox\n",
        "chillox_Applause_Rate = Applause_Rate(chilloxposts,chillox_followers) \n",
        "chillox_Applause_Rate"
      ],
      "execution_count": 43,
      "outputs": [
        {
          "output_type": "execute_result",
          "data": {
            "text/plain": [
              "9.989473168820995"
            ]
          },
          "metadata": {
            "tags": []
          },
          "execution_count": 43
        }
      ]
    },
    {
      "cell_type": "code",
      "metadata": {
        "id": "nUowbnIYxUlF",
        "outputId": "ab5937d4-d67d-43a8-bffe-7d4cad9380d4",
        "colab": {
          "base_uri": "https://localhost:8080/"
        }
      },
      "source": [
        "takeout_followers = 241448  #takeout\n",
        "chillox_Applause_Rate = Applause_Rate(takeoutposts,takeout_followers) \n",
        "chillox_Applause_Rate"
      ],
      "execution_count": 44,
      "outputs": [
        {
          "output_type": "execute_result",
          "data": {
            "text/plain": [
              "10.709552367383452"
            ]
          },
          "metadata": {
            "tags": []
          },
          "execution_count": 44
        }
      ]
    },
    {
      "cell_type": "markdown",
      "metadata": {
        "id": "gx1sjWescBYO"
      },
      "source": [
        "# Metric 4 -> Average Engagement Rate"
      ]
    },
    {
      "cell_type": "code",
      "metadata": {
        "id": "20z2yu9ZZFYL"
      },
      "source": [
        "def Average_Engagement_Rate(df,followers):\n",
        "  like = df.like.sum()\n",
        "  love = df.love.sum()\n",
        "  care = df.care.sum()\n",
        "  wow = df.wow.sum()\n",
        "  shares = df.shares.sum()\n",
        "  comments = df.comments.sum()\n",
        "  haha = df.wow.sum()\n",
        "  sad = df.wow.sum()\n",
        "  angry = df.wow.sum()\n",
        "  total = like + love + care + wow + shares + comments + haha + sad + angry\n",
        "  return (total/followers) * 100\n"
      ],
      "execution_count": 45,
      "outputs": []
    },
    {
      "cell_type": "code",
      "metadata": {
        "id": "JqwN6eAYceFo",
        "outputId": "4d485fa8-8247-49be-953d-677b806c5d7d",
        "colab": {
          "base_uri": "https://localhost:8080/"
        }
      },
      "source": [
        "Burgerology_average_engagement_rate = Average_Engagement_Rate(burgerologyposts,Burgerology_followers)\n",
        "Burgerology_average_engagement_rate"
      ],
      "execution_count": 46,
      "outputs": [
        {
          "output_type": "execute_result",
          "data": {
            "text/plain": [
              "33.42440296230549"
            ]
          },
          "metadata": {
            "tags": []
          },
          "execution_count": 46
        }
      ]
    },
    {
      "cell_type": "code",
      "metadata": {
        "id": "1DsO3RMIcehP",
        "outputId": "b3fe437c-e8e0-4589-e122-a5c2e28e4b0f",
        "colab": {
          "base_uri": "https://localhost:8080/"
        }
      },
      "source": [
        "mrburgerbd_average_engagement_rate = Average_Engagement_Rate(mrburgerbdposts,mrburgerbd_followers)\n",
        "mrburgerbd_average_engagement_rate"
      ],
      "execution_count": 47,
      "outputs": [
        {
          "output_type": "execute_result",
          "data": {
            "text/plain": [
              "29.67562741791489"
            ]
          },
          "metadata": {
            "tags": []
          },
          "execution_count": 47
        }
      ]
    },
    {
      "cell_type": "code",
      "metadata": {
        "id": "CPOaf3uOx7kD",
        "outputId": "66cad138-4b14-44f9-8738-17e76af6e8d7",
        "colab": {
          "base_uri": "https://localhost:8080/"
        }
      },
      "source": [
        "takeout_average_engagement_rate = Average_Engagement_Rate(takeoutposts,takeout_followers)\n",
        "takeout_average_engagement_rate"
      ],
      "execution_count": 48,
      "outputs": [
        {
          "output_type": "execute_result",
          "data": {
            "text/plain": [
              "20.437526920910507"
            ]
          },
          "metadata": {
            "tags": []
          },
          "execution_count": 48
        }
      ]
    },
    {
      "cell_type": "code",
      "metadata": {
        "id": "gwUnPRODx8gJ",
        "outputId": "c5796984-b4a4-4ff7-db02-91792a25a1a5",
        "colab": {
          "base_uri": "https://localhost:8080/"
        }
      },
      "source": [
        "chillox_average_engagement_rate = Average_Engagement_Rate(chilloxposts,chillox_followers)\n",
        "chillox_average_engagement_rate"
      ],
      "execution_count": 49,
      "outputs": [
        {
          "output_type": "execute_result",
          "data": {
            "text/plain": [
              "24.159077555816687"
            ]
          },
          "metadata": {
            "tags": []
          },
          "execution_count": 49
        }
      ]
    },
    {
      "cell_type": "code",
      "metadata": {
        "id": "CRSF0Guix9YV",
        "outputId": "4c58da6d-e1cf-4ed4-bcd2-786d29b08c30",
        "colab": {
          "base_uri": "https://localhost:8080/"
        }
      },
      "source": [
        "mrmanik_average_engagement_rate = Average_Engagement_Rate(mrmanikposts,mrmanik_followers)\n",
        "mrmanik_average_engagement_rate"
      ],
      "execution_count": 50,
      "outputs": [
        {
          "output_type": "execute_result",
          "data": {
            "text/plain": [
              "17.38848454276861"
            ]
          },
          "metadata": {
            "tags": []
          },
          "execution_count": 50
        }
      ]
    },
    {
      "cell_type": "markdown",
      "metadata": {
        "id": "wBI56dwTd3fz"
      },
      "source": [
        "# Metric 5 -> Amplification Rate"
      ]
    },
    {
      "cell_type": "markdown",
      "metadata": {
        "id": "FDkyPdLjq6t-"
      },
      "source": [
        "**should be available in new fb look**"
      ]
    },
    {
      "cell_type": "markdown",
      "metadata": {
        "id": "fZUOHQB-4Ip7"
      },
      "source": [
        "# Metric 6 -> Response delay rate  analysis\n",
        "\n",
        "even  though it was not mentioned  in 18 metrics but i thought  it can be important  so  giving it a try,you can exclude this section/metric  if you think  it's not important"
      ]
    },
    {
      "cell_type": "code",
      "metadata": {
        "id": "Vz0rFDtD7lPI",
        "outputId": "01bc6911-615e-4f5b-9bc8-dacde521c4d0",
        "colab": {
          "base_uri": "https://localhost:8080/"
        }
      },
      "source": [
        "response_df"
      ],
      "execution_count": 51,
      "outputs": [
        {
          "output_type": "execute_result",
          "data": {
            "text/plain": [
              "['/content/drive/My Drive/MarkoPoloAI/Demo/mobassir/scrappedcsv/Burgerology_response_data.csv',\n",
              " '/content/drive/My Drive/MarkoPoloAI/Demo/mobassir/scrappedcsv/mrburger_response_data.csv',\n",
              " '/content/drive/My Drive/MarkoPoloAI/Demo/mobassir/scrappedcsv/Chillox_response_data.csv',\n",
              " '/content/drive/My Drive/MarkoPoloAI/Demo/mobassir/scrappedcsv/Takeout_response_data.csv',\n",
              " '/content/drive/My Drive/MarkoPoloAI/Demo/mobassir/scrappedcsv/manikfoodsdhanmondi_response_data.csv']"
            ]
          },
          "metadata": {
            "tags": []
          },
          "execution_count": 51
        }
      ]
    },
    {
      "cell_type": "code",
      "metadata": {
        "id": "rU3PpvEaDcIg"
      },
      "source": [
        "def response_delay(responsedf):\n",
        "  return responsedf.response_delay_min.sum() / len(responsedf.response_delay_min)"
      ],
      "execution_count": 52,
      "outputs": []
    },
    {
      "cell_type": "code",
      "metadata": {
        "id": "6TWp4igd7num"
      },
      "source": [
        "Burgerology_response_data = pd.read_csv(response_df[0])\n",
        "mrburger_response_data = pd.read_csv(response_df[1])\n",
        "Chillox_response_data = pd.read_csv(response_df[2])\n",
        "Takeout_response_data = pd.read_csv(response_df[3])\n",
        "manikfoodsdhanmondi_response_data = pd.read_csv(response_df[4])"
      ],
      "execution_count": 53,
      "outputs": []
    },
    {
      "cell_type": "code",
      "metadata": {
        "id": "N-Gs0GzUDMWv",
        "outputId": "19596482-9577-4fd8-fbec-05aece7513fe",
        "colab": {
          "base_uri": "https://localhost:8080/"
        }
      },
      "source": [
        "print(\"AVG response delay of Burgerology = \",response_delay(Burgerology_response_data) ,\" minutes\")\n",
        "print(\"AVG response delay of mrburger = \",response_delay(mrburger_response_data) ,\" minutes\")\n",
        "print(\"AVG response delay of Chillox = \",response_delay(Chillox_response_data) ,\" minutes\")\n",
        "print(\"AVG response delay of Takeout = \",response_delay(Takeout_response_data) ,\" minutes\")\n",
        "print(\"AVG response delay of manikfoodsdhanmondi = \",response_delay(manikfoodsdhanmondi_response_data) ,\" minutes\")"
      ],
      "execution_count": 54,
      "outputs": [
        {
          "output_type": "stream",
          "text": [
            "AVG response delay of Burgerology =  2402.8217054263564  minutes\n",
            "AVG response delay of mrburger =  1207.9017341040462  minutes\n",
            "AVG response delay of Chillox =  4876.818181818182  minutes\n",
            "AVG response delay of Takeout =  1687.702807357212  minutes\n",
            "AVG response delay of manikfoodsdhanmondi =  2472.1666666666665  minutes\n"
          ],
          "name": "stdout"
        }
      ]
    },
    {
      "cell_type": "markdown",
      "metadata": {
        "id": "Dhaii4u97YNQ"
      },
      "source": [
        "# Metric 7 -> Customer  Satisfaction"
      ]
    },
    {
      "cell_type": "code",
      "metadata": {
        "id": "o8RV29DdJhZw",
        "outputId": "f2407ca4-6a84-41d4-adee-b0352ea99580",
        "colab": {
          "base_uri": "https://localhost:8080/"
        }
      },
      "source": [
        "analyser = SentimentIntensityAnalyzer()\n",
        "def sentiment_scores(text):\n",
        "    vadersenti = analyser.polarity_scores(text)\n",
        "    return pd.Series([vadersenti['pos'], vadersenti['neg'], vadersenti['neu'], vadersenti['compound']])\n",
        "\n",
        "def textblob(text):\n",
        "  sentence = text.split('।')\n",
        "  en_sent = translator.translate(text).text\n",
        "  en_split = en_sent.split('.')\n",
        "\n",
        "\n",
        "  for i, val in enumerate(sentence):\n",
        "      token = nltk.word_tokenize(val)\n",
        "      \n",
        "\n",
        "  for i, val in enumerate(en_split):\n",
        "      tb = TextBlob(val)\n",
        "      sentiment = tb.sentiment.polarity\n",
        "      return sentiment\n",
        "\n",
        "nltk.download('punkt')\n",
        "\n",
        "translator = Translator()"
      ],
      "execution_count": 55,
      "outputs": [
        {
          "output_type": "stream",
          "text": [
            "[nltk_data] Downloading package punkt to /root/nltk_data...\n",
            "[nltk_data]   Unzipping tokenizers/punkt.zip.\n"
          ],
          "name": "stdout"
        }
      ]
    },
    {
      "cell_type": "code",
      "metadata": {
        "id": "YpLFz71_5lhh"
      },
      "source": [
        "def check_sentiments(df):\n",
        "  yes = []\n",
        "  no = []\n",
        "  for i in range(len(df)):\n",
        "    text = df.text[i]\n",
        "    pos=neg=neu=0\n",
        "    lang = translator.detect(text)\n",
        "    confidence = lang.confidence\n",
        "    langdetect = lang.lang\n",
        "    if (langdetect == 'en'):\n",
        "\n",
        "      res = sentiment_scores(text)\n",
        "      if(res[3] >= 0.1):\n",
        "        pos+=1\n",
        "      elif (res[3] <= -0.1):\n",
        "        neg+=1\n",
        "      else:\n",
        "        neu+=1\n",
        "      \n",
        "\n",
        "      sentiment = textblob(text)\n",
        "      if (sentiment > 0):\n",
        "              pos+=1\n",
        "      elif (sentiment < 0):\n",
        "          neg+=1\n",
        "      else:\n",
        "          neu+=1\n",
        "\n",
        "    \n",
        "      classify = pipeline('sentiment-analysis')\n",
        "      pred = classify(text)\n",
        "      if (pred[0]['label'] == 'NEGATIVE'):\n",
        "        neg+=1\n",
        "      elif (pred[0]['label'] == 'POSITIVE'):\n",
        "        pos+=1\n",
        "\n",
        "          \n",
        "\n",
        "    elif (langdetect == 'bn'):\n",
        "      b2e = translator.translate(text, dest='en')\n",
        "      #\"\"\"\"\"\"\"\"\"\"\"\"\"\"\"\"\"\"\"\"\"\"\"\"\"\"\"\"\"\"\"\"\"\"\"\"\"\"\"Translated\"\"\"\"\"\"\"\"\"\"\"\"\"\"\"\"\"\"\"\"\"\"\"\"\"\"\"\"\"\"\"\"\"\"\"\"\"\"\"\"\"'\n",
        "      classify = pipeline('sentiment-analysis')\n",
        "      pred = classify(b2e.text)\n",
        "\n",
        "      if (pred[0]['label'] == 'NEGATIVE'):\n",
        "        neg+=1\n",
        "      elif (pred[0]['label'] == 'POSITIVE'):\n",
        "        pos+=1\n",
        "      \n",
        "      #\"\"\"\"\"\"\"\"\"\"\"\"\"\"\"\"\"\"\"\"\"\"\"\"\"\"\"\"\"\"\"\"\"\"\"\"\"\"\"Vader On Translated\"\"\"\"\"\"\"\"\"\"\"\"\"\"\"\"\"\"\"\"\"\"\"\"\"\"\"\"\"\"\"\"\"\"\"\"\"\"\"\"\"'\n",
        "\n",
        "\n",
        "      res = sentiment_scores(b2e.text)\n",
        "      if (res[3] >= 0.1):\n",
        "        pos+=1\n",
        "      elif (res[3] <= -0.1):\n",
        "        neg+=1\n",
        "      else:\n",
        "        neu+=1\n",
        "    \n",
        "\n",
        "      #\"\"\"\"\"\"\"\"\"\"\"\"\"\"\"\"\"\"\"\"\"\"\"\"\"\"\"\"\"\"\"\"\"\"\"\"\"\"\"BANGLA\"\"\"\"\"\"\"\"\"\"\"\"\"\"\"\"\"\"\"\"\"\"\"\"\"\"\"\"\"\"\"\"\"\"\"\"\"\"\"\"\"'\n",
        "      classify = pipeline('sentiment-analysis')\n",
        "      pred = classify(text)\n",
        "      if (pred[0]['label'] == 'NEGATIVE'):\n",
        "        neg+=1\n",
        "      elif (pred[0]['label'] == 'POSITIVE'):\n",
        "        pos+=1\n",
        "\n",
        "      \n",
        "      #\"\"\"\"\"\"\"\"\"\"\"\"\"\"\"\"\"\"\"\"\"\"\"\"\"\"\"\"\"\"\"\"\"\"\"\"\"\"\"TextBlob  On Bangla\"\"\"\"\"\"\"\"\"\"\"\"\"\"\"\"\"\"\"\"\"\"\"\"\"\"\"\"\"\"\"\"\"\"\"\"\"\"\"\"\"'\n",
        "      sentiment = textblob(text)\n",
        "      if (sentiment > 0):\n",
        "        pos+=1\n",
        "      elif (sentiment < 0):\n",
        "        neg+=1\n",
        "      else:\n",
        "        neu+=1\n",
        "    \n",
        "\n",
        "    else:\n",
        "      #\"\"\"\"\"\"\"\"\"\"\"\"\"\"\"\"\"\"\"\"\"\"\"\"\"\"\"\"\"\"\"\"\"\"\"\"\"\"\"TextBlob  On Broken\"\"\"\"\"\"\"\"\"\"\"\"\"\"\"\"\"\"\"\"\"\"\"\"\"\"\"\"\"\"\"\"\"\"\"\"\"\"\"\"\"'\n",
        "      sentiment = textblob(text)\n",
        "      if (sentiment > 0):\n",
        "        pos+=1\n",
        "      elif (sentiment < 0):\n",
        "        neg+=1\n",
        "      else:\n",
        "        neu+=1\n",
        "\n",
        "\n",
        "      classify = pipeline('sentiment-analysis')\n",
        "      pred = classify(text)\n",
        "      if (pred[0]['label'] == 'NEGATIVE'):\n",
        "        neg+=1\n",
        "      elif (pred[0]['label'] == 'POSITIVE'):\n",
        "        pos+=1\n",
        "      \n",
        "    if (pos+neu >= 2):\n",
        "      yes.append(1)\n",
        "    else:\n",
        "      no.append(1)\n",
        "  pos=len(yes)/len(df.text) * 100\n",
        "  neg = 100.0 - pos\n",
        "  return pos,neg"
      ],
      "execution_count": 56,
      "outputs": []
    },
    {
      "cell_type": "code",
      "metadata": {
        "id": "NXdsspqdPCdP"
      },
      "source": [
        "Burgerology_comment = pd.read_csv('/content/drive/My Drive/MarkoPoloAI/Demo/mobassir/scrappedcsv/Burgerology_comment_data.csv').head(10)\n",
        "mrburger_comment = pd.read_csv('/content/drive/My Drive/MarkoPoloAI/Demo/mobassir/scrappedcsv/Burgerology_comment_data.csv').head(10)\n",
        "Chillox_comment = pd.read_csv('/content/drive/My Drive/MarkoPoloAI/Demo/mobassir/scrappedcsv/Burgerology_comment_data.csv').head(10)\n",
        "Takeout_comment = pd.read_csv('/content/drive/My Drive/MarkoPoloAI/Demo/mobassir/scrappedcsv/Burgerology_comment_data.csv').head(100)\n",
        "manikfoodsdhanmondi_comment = pd.read_csv('/content/drive/My Drive/MarkoPoloAI/Demo/mobassir/scrappedcsv/Burgerology_comment_data.csv').head(10)\n",
        "\n"
      ],
      "execution_count": 57,
      "outputs": []
    },
    {
      "cell_type": "code",
      "metadata": {
        "id": "-tuEAX8Fbv50",
        "outputId": "d98e00c9-037f-444d-b63f-b207e39e4f43",
        "colab": {
          "base_uri": "https://localhost:8080/",
          "height": 245,
          "referenced_widgets": [
            "da4a2fd9ff524527904ec005a4aa1785",
            "98011e6573cc44c8a442114d8a5174e6",
            "2f750d9c29564939bfc7e67bb3e7b5c5",
            "b84ae7e1db0f4c0ca73067bdb7e19ee2",
            "35bff571c00e431ba2cad690d55d2a31",
            "070ca9b89eeb4545b9a6f2129427b8f6",
            "03ed7a47135149e68d0dbde0fac04dd2",
            "a5e0ac1a1caa422393c6831fda0d1b02",
            "34ec497f3bb4405fa46f7656c34451be",
            "0be137a765f846f6888be787cb13dcfd",
            "698eeb2ad7b646b9b694f179e4bd58e5",
            "e5068fd9ad8d4939b2d41c0f97ad01d3",
            "6c93a413415d48b585a16db97f0c333a",
            "f3c9029eaf884366838545fb3de4f03f",
            "e76c6c4c72fc4b639a0d412c1230b7a7",
            "b1bc626bf5294d87a3684bef17eab194",
            "b4e3e1d7e26e4897918ad81481986854",
            "7bb001a4a2ad47018640b999a7059056",
            "d043da723d4a4ca8919d4e3febbbbfec",
            "5d091a9588d94b30b49ac8a13224ae17",
            "0a27af36ec8942ba8971c718d2fd2e5e",
            "2a1e8006e1c04da49906ddcd1c9286cf",
            "1455e5d370e244aab858117a34055d49",
            "2b5b8d77b7c74c8e932656a5beb6681f",
            "d1f099e3ef0c4359a91ef868a0d5e17a",
            "e8401e63e61a42599a52215b6d986f2e",
            "6b34fe9d04244fe5b448bef892c78647",
            "049dee71a8fc4c84aa566a25e9118e51",
            "2a63d1a13f594193831cd7aa8acc3c3d",
            "d469d98defa440698a3336df33f4855a",
            "dc3dd0db8522419bbcf9e37706df86a7",
            "a52c147f6a1a4a40ab67e67943ffefb9"
          ]
        }
      },
      "source": [
        "%%time\n",
        "Burgerology_pos,Burgerology_neg = check_sentiments(Burgerology_comment)\n",
        "mrburger_pos,mrburger_neg = check_sentiments(mrburger_comment)\n",
        "Chillox_pos,Chillox_neg = check_sentiments(Chillox_comment)\n",
        "Takeout_pos,Takeout_neg = check_sentiments(Takeout_comment)\n",
        "manikfoodsdhanmondi_pos,manikfoodsdhanmondi_neg = check_sentiments(manikfoodsdhanmondi_comment)\n"
      ],
      "execution_count": 58,
      "outputs": [
        {
          "output_type": "display_data",
          "data": {
            "application/vnd.jupyter.widget-view+json": {
              "model_id": "da4a2fd9ff524527904ec005a4aa1785",
              "version_minor": 0,
              "version_major": 2
            },
            "text/plain": [
              "HBox(children=(FloatProgress(value=0.0, description='Downloading', max=629.0, style=ProgressStyle(description_…"
            ]
          },
          "metadata": {
            "tags": []
          }
        },
        {
          "output_type": "stream",
          "text": [
            "\n"
          ],
          "name": "stdout"
        },
        {
          "output_type": "display_data",
          "data": {
            "application/vnd.jupyter.widget-view+json": {
              "model_id": "34ec497f3bb4405fa46f7656c34451be",
              "version_minor": 0,
              "version_major": 2
            },
            "text/plain": [
              "HBox(children=(FloatProgress(value=0.0, description='Downloading', max=231508.0, style=ProgressStyle(descripti…"
            ]
          },
          "metadata": {
            "tags": []
          }
        },
        {
          "output_type": "stream",
          "text": [
            "\n"
          ],
          "name": "stdout"
        },
        {
          "output_type": "display_data",
          "data": {
            "application/vnd.jupyter.widget-view+json": {
              "model_id": "b4e3e1d7e26e4897918ad81481986854",
              "version_minor": 0,
              "version_major": 2
            },
            "text/plain": [
              "HBox(children=(FloatProgress(value=0.0, description='Downloading', max=230.0, style=ProgressStyle(description_…"
            ]
          },
          "metadata": {
            "tags": []
          }
        },
        {
          "output_type": "stream",
          "text": [
            "\n"
          ],
          "name": "stdout"
        },
        {
          "output_type": "display_data",
          "data": {
            "application/vnd.jupyter.widget-view+json": {
              "model_id": "d1f099e3ef0c4359a91ef868a0d5e17a",
              "version_minor": 0,
              "version_major": 2
            },
            "text/plain": [
              "HBox(children=(FloatProgress(value=0.0, description='Downloading', max=267844284.0, style=ProgressStyle(descri…"
            ]
          },
          "metadata": {
            "tags": []
          }
        },
        {
          "output_type": "stream",
          "text": [
            "\n",
            "CPU times: user 5min 2s, sys: 19.7 s, total: 5min 21s\n",
            "Wall time: 7min 51s\n"
          ],
          "name": "stdout"
        }
      ]
    },
    {
      "cell_type": "code",
      "metadata": {
        "id": "9GDM9xxdcV7U",
        "outputId": "d30737dd-d302-4605-f85c-f362e0a3b518",
        "colab": {
          "base_uri": "https://localhost:8080/"
        }
      },
      "source": [
        "print(\" Burgerology_pos sentiment ratio = \",Burgerology_pos,\"\\n Burgerology_neg sentiment ratio = \",Burgerology_neg)\n",
        "print(\" mrburger_pos sentiment ratio  = \",mrburger_pos,\"\\n mrburger_neg sentiment ratio = \",mrburger_neg)\n",
        "print(\" Chillox_pos sentiment ratio = \",Chillox_pos,\"\\n Chillox_neg sentiment ratio= \",Chillox_neg)\n",
        "print(\" Takeout_pos sentiment ratio = \",Takeout_pos,\"\\n Takeout_neg sentiment ratio = \",Takeout_neg)\n",
        "print(\" manikfoodsdhanmondi_pos sentiment ratio  = \",manikfoodsdhanmondi_pos,\"\\n manikfoodsdhanmondi_neg sentiment ratio = \",manikfoodsdhanmondi_neg)"
      ],
      "execution_count": 59,
      "outputs": [
        {
          "output_type": "stream",
          "text": [
            " Burgerology_pos sentiment ratio =  80.0 \n",
            " Burgerology_neg sentiment ratio =  20.0\n",
            " mrburger_pos sentiment ratio  =  80.0 \n",
            " mrburger_neg sentiment ratio =  20.0\n",
            " Chillox_pos sentiment ratio =  80.0 \n",
            " Chillox_neg sentiment ratio=  20.0\n",
            " Takeout_pos sentiment ratio =  92.0 \n",
            " Takeout_neg sentiment ratio =  8.0\n",
            " manikfoodsdhanmondi_pos sentiment ratio  =  80.0 \n",
            " manikfoodsdhanmondi_neg sentiment ratio =  20.0\n"
          ],
          "name": "stdout"
        }
      ]
    },
    {
      "cell_type": "markdown",
      "metadata": {
        "id": "w638-lN_kmeO"
      },
      "source": [
        "**NOTE : of course  the  stats  above  shouldn't be  trusted  at all  because  i  used  10 comments from each  dataframe and still it  takes  a  lot of time,it  was only made  for demo purpose  or  for sanity check only,just  to demonstrate  how  this metric can be  calculated easily,if  i  use  full  dataframe  then it will  take hours  and  then can possibly  run out of memory!**"
      ]
    },
    {
      "cell_type": "markdown",
      "metadata": {
        "id": "Yh06vAq7GbSP"
      },
      "source": [
        "# Metric 8 -> Response Reaction Rate"
      ]
    },
    {
      "cell_type": "markdown",
      "metadata": {
        "id": "6bEkW79JGkZ2"
      },
      "source": [
        "even though it was not mentioned in 18 metrics but i thought it can be important so giving it a try,you can exclude this section/metric if you think it's not important"
      ]
    },
    {
      "cell_type": "code",
      "metadata": {
        "id": "PQEwRqsBGTk6"
      },
      "source": [
        "def response_reaction_rate(responsedf):\n",
        "  return responsedf.response_reaction.sum() / len(responsedf.response_reaction)"
      ],
      "execution_count": 60,
      "outputs": []
    },
    {
      "cell_type": "code",
      "metadata": {
        "id": "9weC6MgUG6uh",
        "outputId": "ce4f5fb7-8298-408f-9af4-ee3e2d9bc242",
        "colab": {
          "base_uri": "https://localhost:8080/"
        }
      },
      "source": [
        "print(\"AVG response reactions of Burgerology = \",response_delay(Burgerology_response_data) ,\" reactions\")\n",
        "print(\"AVG response reactions of mrburger = \",response_delay(mrburger_response_data) ,\" reactions\")\n",
        "print(\"AVG response reactions of Chillox = \",response_delay(Chillox_response_data) ,\" reactions\")\n",
        "print(\"AVG response reactions of Takeout = \",response_delay(Takeout_response_data) ,\" reactions\")\n",
        "print(\"AVG response reactions of manikfoodsdhanmondi = \",response_delay(manikfoodsdhanmondi_response_data) ,\" reactions\")"
      ],
      "execution_count": 61,
      "outputs": [
        {
          "output_type": "stream",
          "text": [
            "AVG response reactions of Burgerology =  2402.8217054263564  reactions\n",
            "AVG response reactions of mrburger =  1207.9017341040462  reactions\n",
            "AVG response reactions of Chillox =  4876.818181818182  reactions\n",
            "AVG response reactions of Takeout =  1687.702807357212  reactions\n",
            "AVG response reactions of manikfoodsdhanmondi =  2472.1666666666665  reactions\n"
          ],
          "name": "stdout"
        }
      ]
    },
    {
      "cell_type": "markdown",
      "metadata": {
        "id": "JXqthfquGmtO"
      },
      "source": [
        "#other  mentioned metrics are not possible to implement with our present data"
      ]
    },
    {
      "cell_type": "code",
      "metadata": {
        "id": "xLQQTWJjdjDl"
      },
      "source": [
        ""
      ],
      "execution_count": 61,
      "outputs": []
    }
  ]
}