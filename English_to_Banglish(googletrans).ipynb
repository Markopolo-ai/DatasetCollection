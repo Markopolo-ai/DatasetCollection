{
  "nbformat": 4,
  "nbformat_minor": 0,
  "metadata": {
    "colab": {
      "name": "English to  Banglish(googletrans).ipynb",
      "provenance": [],
      "collapsed_sections": []
    },
    "kernelspec": {
      "name": "python3",
      "display_name": "Python 3"
    }
  },
  "cells": [
    {
      "cell_type": "code",
      "metadata": {
        "id": "DWpbqpnursLG",
        "colab_type": "code",
        "colab": {
          "base_uri": "https://localhost:8080/",
          "height": 33
        },
        "outputId": "6966cfc3-69fd-4547-ed5a-83e452889929"
      },
      "source": [
        "from google.colab import drive\n",
        "drive.mount('/content/drive')"
      ],
      "execution_count": 1,
      "outputs": [
        {
          "output_type": "stream",
          "text": [
            "Mounted at /content/drive\n"
          ],
          "name": "stdout"
        }
      ]
    },
    {
      "cell_type": "code",
      "metadata": {
        "id": "RnYkA-t8kti8",
        "colab_type": "code",
        "colab": {
          "base_uri": "https://localhost:8080/",
          "height": 1000
        },
        "outputId": "6fd229ed-f031-4506-8ef1-637248ad34f0"
      },
      "source": [
        "!pip install googletrans\n",
        "!pip install Unidecode\n",
        "!pip install epitran"
      ],
      "execution_count": 2,
      "outputs": [
        {
          "output_type": "stream",
          "text": [
            "Collecting googletrans\n",
            "  Downloading https://files.pythonhosted.org/packages/71/3a/3b19effdd4c03958b90f40fe01c93de6d5280e03843cc5adf6956bfc9512/googletrans-3.0.0.tar.gz\n",
            "Collecting httpx==0.13.3\n",
            "\u001b[?25l  Downloading https://files.pythonhosted.org/packages/54/b4/698b284c6aed4d7c2b4fe3ba5df1fcf6093612423797e76fbb24890dd22f/httpx-0.13.3-py3-none-any.whl (55kB)\n",
            "\u001b[K     |████████████████████████████████| 61kB 4.1MB/s \n",
            "\u001b[?25hRequirement already satisfied: certifi in /usr/local/lib/python3.6/dist-packages (from httpx==0.13.3->googletrans) (2020.6.20)\n",
            "Collecting sniffio\n",
            "  Downloading https://files.pythonhosted.org/packages/b3/82/4bd4b7d9c0d1dc0fbfbc2a1e00138e7f3ab85bc239358fe9b78aa2ab586d/sniffio-1.1.0-py3-none-any.whl\n",
            "Collecting hstspreload\n",
            "\u001b[?25l  Downloading https://files.pythonhosted.org/packages/4c/07/12dd706501a3212a9774feb69d6a2333963a2da19ba98861ab23f2439f3d/hstspreload-2020.9.9-py3-none-any.whl (953kB)\n",
            "\u001b[K     |████████████████████████████████| 962kB 14.0MB/s \n",
            "\u001b[?25hCollecting rfc3986<2,>=1.3\n",
            "  Downloading https://files.pythonhosted.org/packages/78/be/7b8b99fd74ff5684225f50dd0e865393d2265656ef3b4ba9eaaaffe622b8/rfc3986-1.4.0-py2.py3-none-any.whl\n",
            "Requirement already satisfied: idna==2.* in /usr/local/lib/python3.6/dist-packages (from httpx==0.13.3->googletrans) (2.10)\n",
            "Requirement already satisfied: chardet==3.* in /usr/local/lib/python3.6/dist-packages (from httpx==0.13.3->googletrans) (3.0.4)\n",
            "Collecting httpcore==0.9.*\n",
            "\u001b[?25l  Downloading https://files.pythonhosted.org/packages/dd/d5/e4ff9318693ac6101a2095e580908b591838c6f33df8d3ee8dd953ba96a8/httpcore-0.9.1-py3-none-any.whl (42kB)\n",
            "\u001b[K     |████████████████████████████████| 51kB 7.3MB/s \n",
            "\u001b[?25hCollecting contextvars>=2.1; python_version < \"3.7\"\n",
            "  Downloading https://files.pythonhosted.org/packages/83/96/55b82d9f13763be9d672622e1b8106c85acb83edd7cc2fa5bc67cd9877e9/contextvars-2.4.tar.gz\n",
            "Collecting h11<0.10,>=0.8\n",
            "\u001b[?25l  Downloading https://files.pythonhosted.org/packages/5a/fd/3dad730b0f95e78aeeb742f96fa7bbecbdd56a58e405d3da440d5bfb90c6/h11-0.9.0-py2.py3-none-any.whl (53kB)\n",
            "\u001b[K     |████████████████████████████████| 61kB 8.3MB/s \n",
            "\u001b[?25hCollecting h2==3.*\n",
            "\u001b[?25l  Downloading https://files.pythonhosted.org/packages/25/de/da019bcc539eeab02f6d45836f23858ac467f584bfec7a526ef200242afe/h2-3.2.0-py2.py3-none-any.whl (65kB)\n",
            "\u001b[K     |████████████████████████████████| 71kB 8.8MB/s \n",
            "\u001b[?25hCollecting immutables>=0.9\n",
            "\u001b[?25l  Downloading https://files.pythonhosted.org/packages/99/e0/ea6fd4697120327d26773b5a84853f897a68e33d3f9376b00a8ff96e4f63/immutables-0.14-cp36-cp36m-manylinux1_x86_64.whl (98kB)\n",
            "\u001b[K     |████████████████████████████████| 102kB 10.6MB/s \n",
            "\u001b[?25hCollecting hyperframe<6,>=5.2.0\n",
            "  Downloading https://files.pythonhosted.org/packages/19/0c/bf88182bcb5dce3094e2f3e4fe20db28a9928cb7bd5b08024030e4b140db/hyperframe-5.2.0-py2.py3-none-any.whl\n",
            "Collecting hpack<4,>=3.0\n",
            "  Downloading https://files.pythonhosted.org/packages/8a/cc/e53517f4a1e13f74776ca93271caef378dadec14d71c61c949d759d3db69/hpack-3.0.0-py2.py3-none-any.whl\n",
            "Building wheels for collected packages: googletrans, contextvars\n",
            "  Building wheel for googletrans (setup.py) ... \u001b[?25l\u001b[?25hdone\n",
            "  Created wheel for googletrans: filename=googletrans-3.0.0-cp36-none-any.whl size=15736 sha256=b1dcc73cfce37c0fd5035bae404af34ddb05ecf0c4dfddd4d973c11d89a0cf84\n",
            "  Stored in directory: /root/.cache/pip/wheels/28/1a/a7/eaf4d7a3417a0c65796c547cff4deb6d79c7d14c2abd29273e\n",
            "  Building wheel for contextvars (setup.py) ... \u001b[?25l\u001b[?25hdone\n",
            "  Created wheel for contextvars: filename=contextvars-2.4-cp36-none-any.whl size=7666 sha256=f2d81374fbe0794c5cbdce4cb5d57098fd76b36ddd239003bbbc0f77f4a6bf74\n",
            "  Stored in directory: /root/.cache/pip/wheels/a5/7d/68/1ebae2668bda2228686e3c1cf16f2c2384cea6e9334ad5f6de\n",
            "Successfully built googletrans contextvars\n",
            "Installing collected packages: immutables, contextvars, sniffio, hstspreload, rfc3986, h11, hyperframe, hpack, h2, httpcore, httpx, googletrans\n",
            "Successfully installed contextvars-2.4 googletrans-3.0.0 h11-0.9.0 h2-3.2.0 hpack-3.0.0 hstspreload-2020.9.9 httpcore-0.9.1 httpx-0.13.3 hyperframe-5.2.0 immutables-0.14 rfc3986-1.4.0 sniffio-1.1.0\n",
            "Collecting Unidecode\n",
            "\u001b[?25l  Downloading https://files.pythonhosted.org/packages/d0/42/d9edfed04228bacea2d824904cae367ee9efd05e6cce7ceaaedd0b0ad964/Unidecode-1.1.1-py2.py3-none-any.whl (238kB)\n",
            "\u001b[K     |████████████████████████████████| 245kB 5.7MB/s \n",
            "\u001b[?25hInstalling collected packages: Unidecode\n",
            "Successfully installed Unidecode-1.1.1\n",
            "Collecting epitran\n",
            "\u001b[?25l  Downloading https://files.pythonhosted.org/packages/00/ce/ebf70bb24f220c628d4ce1e153c07e95f59132a1d882b586427ade2b1b3d/epitran-1.8-py2.py3-none-any.whl (132kB)\n",
            "\u001b[K     |████████████████████████████████| 133kB 4.0MB/s \n",
            "\u001b[?25hRequirement already satisfied: regex in /usr/local/lib/python3.6/dist-packages (from epitran) (2019.12.20)\n",
            "Collecting marisa-trie\n",
            "\u001b[?25l  Downloading https://files.pythonhosted.org/packages/20/95/d23071d0992dabcb61c948fb118a90683193befc88c23e745b050a29e7db/marisa-trie-0.7.5.tar.gz (270kB)\n",
            "\u001b[K     |████████████████████████████████| 276kB 14.4MB/s \n",
            "\u001b[?25hCollecting panphon>=0.16\n",
            "\u001b[?25l  Downloading https://files.pythonhosted.org/packages/ef/25/935f443f0a2cce5d7a4b6b0d9101c990a6f3c74702c02287d4addd3fe009/panphon-0.17-py2.py3-none-any.whl (71kB)\n",
            "\u001b[K     |████████████████████████████████| 71kB 7.2MB/s \n",
            "\u001b[?25hRequirement already satisfied: setuptools in /usr/local/lib/python3.6/dist-packages (from epitran) (49.6.0)\n",
            "Collecting unicodecsv\n",
            "  Downloading https://files.pythonhosted.org/packages/6f/a4/691ab63b17505a26096608cc309960b5a6bdf39e4ba1a793d5f9b1a53270/unicodecsv-0.14.1.tar.gz\n",
            "Collecting munkres\n",
            "  Downloading https://files.pythonhosted.org/packages/64/97/61ddc63578870e04db6eb1d3bee58ad4e727f682068a7c7405edb8b2cdeb/munkres-1.1.2-py2.py3-none-any.whl\n",
            "Requirement already satisfied: PyYAML in /usr/local/lib/python3.6/dist-packages (from panphon>=0.16->epitran) (3.13)\n",
            "Requirement already satisfied: numpy in /usr/local/lib/python3.6/dist-packages (from panphon>=0.16->epitran) (1.18.5)\n",
            "Requirement already satisfied: editdistance in /usr/local/lib/python3.6/dist-packages (from panphon>=0.16->epitran) (0.5.3)\n",
            "Building wheels for collected packages: marisa-trie, unicodecsv\n",
            "  Building wheel for marisa-trie (setup.py) ... \u001b[?25l\u001b[?25hdone\n",
            "  Created wheel for marisa-trie: filename=marisa_trie-0.7.5-cp36-cp36m-linux_x86_64.whl size=861270 sha256=97b5f11472f77ba0bebfe7a378fb1fdaad0fc52299a6035a4519ef53c53499b2\n",
            "  Stored in directory: /root/.cache/pip/wheels/45/24/79/022624fc914f0e559fe8a1141aaff1f9df810905a13fc75d57\n",
            "  Building wheel for unicodecsv (setup.py) ... \u001b[?25l\u001b[?25hdone\n",
            "  Created wheel for unicodecsv: filename=unicodecsv-0.14.1-cp36-none-any.whl size=10769 sha256=0c951bb291b77ad0d16d80bd9ea6a71cf75ec96e352d91f4d46e2633788c1baa\n",
            "  Stored in directory: /root/.cache/pip/wheels/a6/09/e9/e800279c98a0a8c94543f3de6c8a562f60e51363ed26e71283\n",
            "Successfully built marisa-trie unicodecsv\n",
            "Installing collected packages: marisa-trie, munkres, unicodecsv, panphon, epitran\n",
            "Successfully installed epitran-1.8 marisa-trie-0.7.5 munkres-1.1.2 panphon-0.17 unicodecsv-0.14.1\n"
          ],
          "name": "stdout"
        }
      ]
    },
    {
      "cell_type": "code",
      "metadata": {
        "id": "U51X6QwmlA3n",
        "colab_type": "code",
        "colab": {}
      },
      "source": [
        "from googletrans import Translator\n",
        "from unidecode import unidecode\n",
        "from epitran.backoff import Backoff\n",
        "from epitran.backoff import Backoff\n",
        "import epitran\n",
        "import pandas as pd\n",
        "import numpy as np"
      ],
      "execution_count": 3,
      "outputs": []
    },
    {
      "cell_type": "markdown",
      "metadata": {
        "id": "dKdrIXMPkihY",
        "colab_type": "text"
      },
      "source": [
        "#  google translator"
      ]
    },
    {
      "cell_type": "code",
      "metadata": {
        "id": "C45A7x5FKiOp",
        "colab_type": "code",
        "colab": {
          "base_uri": "https://localhost:8080/",
          "height": 35
        },
        "outputId": "bf7eda7a-0434-4f7f-f577-7b80ff90d82e"
      },
      "source": [
        "translator = Translator()\n",
        "result = unidecode(translator.translate('wow.......', dest='bn').pronunciation)\n",
        "\n",
        "result"
      ],
      "execution_count": 5,
      "outputs": [
        {
          "output_type": "execute_result",
          "data": {
            "application/vnd.google.colaboratory.intrinsic+json": {
              "type": "string"
            },
            "text/plain": [
              "'Ki daruna.......'"
            ]
          },
          "metadata": {
            "tags": []
          },
          "execution_count": 5
        }
      ]
    },
    {
      "cell_type": "code",
      "metadata": {
        "id": "2HoKyaSYl8SD",
        "colab_type": "code",
        "colab": {
          "base_uri": "https://localhost:8080/",
          "height": 35
        },
        "outputId": "83cb9c20-09ec-4ecd-f975-810f37462ac2"
      },
      "source": [
        "\n",
        "result = unidecode(translator.translate('মেজাজের রুক্ষতা', dest='bn').pronunciation)\n",
        "\n",
        "result"
      ],
      "execution_count": 6,
      "outputs": [
        {
          "output_type": "execute_result",
          "data": {
            "application/vnd.google.colaboratory.intrinsic+json": {
              "type": "string"
            },
            "text/plain": [
              "'Mejajera ruksata'"
            ]
          },
          "metadata": {
            "tags": []
          },
          "execution_count": 6
        }
      ]
    },
    {
      "cell_type": "markdown",
      "metadata": {
        "id": "ANMlQYtCkeQQ",
        "colab_type": "text"
      },
      "source": [
        "# epitran"
      ]
    },
    {
      "cell_type": "code",
      "metadata": {
        "id": "DD2kPNJWN5qI",
        "colab_type": "code",
        "colab": {
          "base_uri": "https://localhost:8080/",
          "height": 67
        },
        "outputId": "e6ca8483-d2bc-4c51-d0c7-e38e16600c29"
      },
      "source": [
        "\n",
        "backoff = Backoff(['ben-Beng'])\n",
        "banglaSentence = \"মেজাজের রুক্ষতা\"\n",
        "banglaWords = banglaSentence.split()\n",
        "\n",
        "romanic = []\n",
        "\n",
        "for word in banglaWords:\n",
        "  ipa = backoff.transliterate(word)\n",
        "  romanictr = unidecode(backoff.transliterate(word))\n",
        "  print(ipa,\"---->\",romanictr)\n",
        "  romanic.append(romanictr)\n",
        "\n",
        "romanic = \" \".join(romanic)\n",
        "print(romanic)"
      ],
      "execution_count": 7,
      "outputs": [
        {
          "output_type": "stream",
          "text": [
            "med͡ʑad͡ʑer ----> medzadzer\n",
            "rukʂɔt̪a ----> ruksota\n",
            "medzadzer ruksota\n"
          ],
          "name": "stdout"
        }
      ]
    },
    {
      "cell_type": "code",
      "metadata": {
        "id": "ANt_ON6lLTAg",
        "colab_type": "code",
        "colab": {
          "base_uri": "https://localhost:8080/",
          "height": 267
        },
        "outputId": "d1c5adb8-19b3-4774-87ac-d3606ff5a099"
      },
      "source": [
        "\n",
        "epi = epitran.Epitran('ben-Beng')\n",
        "epi.word_to_tuples(u'ami')"
      ],
      "execution_count": 8,
      "outputs": [
        {
          "output_type": "execute_result",
          "data": {
            "text/plain": [
              "[('L',\n",
              "  0,\n",
              "  'a',\n",
              "  '',\n",
              "  [(-1, [0, 0, 0, 0, 0, 0, 0, 0, 0, 0, 0, 0, 0, 0, 0, 0, 0, 0, 0, 0, 0, 0])]),\n",
              " ('L',\n",
              "  0,\n",
              "  'm',\n",
              "  '',\n",
              "  [(-1, [0, 0, 0, 0, 0, 0, 0, 0, 0, 0, 0, 0, 0, 0, 0, 0, 0, 0, 0, 0, 0, 0])]),\n",
              " ('L',\n",
              "  0,\n",
              "  'i',\n",
              "  '',\n",
              "  [(-1, [0, 0, 0, 0, 0, 0, 0, 0, 0, 0, 0, 0, 0, 0, 0, 0, 0, 0, 0, 0, 0, 0])])]"
            ]
          },
          "metadata": {
            "tags": []
          },
          "execution_count": 8
        }
      ]
    },
    {
      "cell_type": "code",
      "metadata": {
        "id": "ODG7-2cnp6NX",
        "colab_type": "code",
        "colab": {
          "base_uri": "https://localhost:8080/",
          "height": 33
        },
        "outputId": "da79f1be-9aa2-4b0c-f6b3-0dd2bc65fe42"
      },
      "source": [
        "print(backoff.transliterate('kʰel̪a'))"
      ],
      "execution_count": 9,
      "outputs": [
        {
          "output_type": "stream",
          "text": [
            "kʰel̪a\n"
          ],
          "name": "stdout"
        }
      ]
    },
    {
      "cell_type": "markdown",
      "metadata": {
        "id": "X4c0Zu1Uq0vG",
        "colab_type": "text"
      },
      "source": [
        "data : https://www.kaggle.com/akram24/restaurant-reviews"
      ]
    },
    {
      "cell_type": "code",
      "metadata": {
        "id": "HQet--k10j9c",
        "colab_type": "code",
        "colab": {
          "base_uri": "https://localhost:8080/",
          "height": 33
        },
        "outputId": "2f7dae12-f919-4a4d-e168-211a5f1aa97e"
      },
      "source": [
        "!ls '/content/drive/My Drive/datasets'"
      ],
      "execution_count": 10,
      "outputs": [
        {
          "output_type": "stream",
          "text": [
            "BengaliDictionary_93..csv  Restaurant_Reviews.tsv\n"
          ],
          "name": "stdout"
        }
      ]
    },
    {
      "cell_type": "code",
      "metadata": {
        "id": "E3wLhF4ssDp-",
        "colab_type": "code",
        "colab": {
          "base_uri": "https://localhost:8080/",
          "height": 234
        },
        "outputId": "28b4a0ca-9dcb-494e-fd5f-51292dcddf88"
      },
      "source": [
        "#https://stackoverflow.com/questions/18039057/python-pandas-error-tokenizing-data\n",
        "BengaliDictionary_93 = pd.read_csv('/content/drive/My Drive/datasets/BengaliDictionary_93..csv', error_bad_lines=False)\n",
        "BengaliDictionary_93.head()"
      ],
      "execution_count": 11,
      "outputs": [
        {
          "output_type": "stream",
          "text": [
            "b'Skipping line 108: expected 1 fields, saw 2\\nSkipping line 142: expected 1 fields, saw 3\\nSkipping line 194: expected 1 fields, saw 2\\nSkipping line 213: expected 1 fields, saw 5\\nSkipping line 226: expected 1 fields, saw 2\\nSkipping line 243: expected 1 fields, saw 5\\nSkipping line 271: expected 1 fields, saw 3\\nSkipping line 276: expected 1 fields, saw 2\\nSkipping line 318: expected 1 fields, saw 2\\nSkipping line 372: expected 1 fields, saw 3\\nSkipping line 399: expected 1 fields, saw 7\\nSkipping line 429: expected 1 fields, saw 2\\nSkipping line 519: expected 1 fields, saw 2\\nSkipping line 546: expected 1 fields, saw 3\\nSkipping line 585: expected 1 fields, saw 2\\nSkipping line 615: expected 1 fields, saw 2\\nSkipping line 646: expected 1 fields, saw 2\\nSkipping line 670: expected 1 fields, saw 2\\nSkipping line 681: expected 1 fields, saw 3\\nSkipping line 712: expected 1 fields, saw 2\\nSkipping line 775: expected 1 fields, saw 2\\nSkipping line 826: expected 1 fields, saw 2\\nSkipping line 910: expected 1 fields, saw 2\\nSkipping line 943: expected 1 fields, saw 3\\nSkipping line 1057: expected 1 fields, saw 2\\nSkipping line 1115: expected 1 fields, saw 2\\nSkipping line 1281: expected 1 fields, saw 3\\nSkipping line 1399: expected 1 fields, saw 2\\nSkipping line 1457: expected 1 fields, saw 2\\nSkipping line 1480: expected 1 fields, saw 2\\nSkipping line 1505: expected 1 fields, saw 2\\nSkipping line 1579: expected 1 fields, saw 3\\nSkipping line 1711: expected 1 fields, saw 5\\nSkipping line 1791: expected 1 fields, saw 2\\nSkipping line 1813: expected 1 fields, saw 3\\nSkipping line 1879: expected 1 fields, saw 5\\nSkipping line 1903: expected 1 fields, saw 3\\nSkipping line 1940: expected 1 fields, saw 2\\nSkipping line 1963: expected 1 fields, saw 3\\nSkipping line 2056: expected 1 fields, saw 4\\nSkipping line 2109: expected 1 fields, saw 2\\nSkipping line 2143: expected 1 fields, saw 4\\nSkipping line 2215: expected 1 fields, saw 2\\nSkipping line 2326: expected 1 fields, saw 3\\nSkipping line 2456: expected 1 fields, saw 2\\nSkipping line 2467: expected 1 fields, saw 3\\nSkipping line 2490: expected 1 fields, saw 2\\nSkipping line 2491: expected 1 fields, saw 3\\nSkipping line 2630: expected 1 fields, saw 2\\nSkipping line 2640: expected 1 fields, saw 2\\nSkipping line 2664: expected 1 fields, saw 2\\nSkipping line 2675: expected 1 fields, saw 4\\nSkipping line 2702: expected 1 fields, saw 3\\nSkipping line 2718: expected 1 fields, saw 2\\nSkipping line 2721: expected 1 fields, saw 3\\nSkipping line 2781: expected 1 fields, saw 2\\nSkipping line 2878: expected 1 fields, saw 2\\nSkipping line 2919: expected 1 fields, saw 2\\nSkipping line 3007: expected 1 fields, saw 4\\nSkipping line 3156: expected 1 fields, saw 2\\nSkipping line 3227: expected 1 fields, saw 3\\nSkipping line 3253: expected 1 fields, saw 2\\nSkipping line 3267: expected 1 fields, saw 2\\nSkipping line 3271: expected 1 fields, saw 4\\nSkipping line 3295: expected 1 fields, saw 2\\nSkipping line 3354: expected 1 fields, saw 2\\nSkipping line 3365: expected 1 fields, saw 2\\nSkipping line 3456: expected 1 fields, saw 2\\nSkipping line 3466: expected 1 fields, saw 2\\nSkipping line 3541: expected 1 fields, saw 2\\nSkipping line 3577: expected 1 fields, saw 2\\nSkipping line 3615: expected 1 fields, saw 2\\nSkipping line 3752: expected 1 fields, saw 2\\nSkipping line 3830: expected 1 fields, saw 3\\nSkipping line 3922: expected 1 fields, saw 2\\nSkipping line 3945: expected 1 fields, saw 2\\nSkipping line 3957: expected 1 fields, saw 2\\nSkipping line 3960: expected 1 fields, saw 5\\nSkipping line 4069: expected 1 fields, saw 2\\nSkipping line 4147: expected 1 fields, saw 2\\nSkipping line 4177: expected 1 fields, saw 2\\nSkipping line 4309: expected 1 fields, saw 2\\nSkipping line 4398: expected 1 fields, saw 3\\nSkipping line 4408: expected 1 fields, saw 2\\nSkipping line 4423: expected 1 fields, saw 3\\nSkipping line 4429: expected 1 fields, saw 4\\nSkipping line 4523: expected 1 fields, saw 3\\nSkipping line 4544: expected 1 fields, saw 2\\nSkipping line 4558: expected 1 fields, saw 2\\nSkipping line 4560: expected 1 fields, saw 2\\nSkipping line 4631: expected 1 fields, saw 3\\nSkipping line 4659: expected 1 fields, saw 2\\nSkipping line 4720: expected 1 fields, saw 2\\nSkipping line 4725: expected 1 fields, saw 2\\nSkipping line 4828: expected 1 fields, saw 2\\nSkipping line 4916: expected 1 fields, saw 2\\nSkipping line 5088: expected 1 fields, saw 3\\nSkipping line 5228: expected 1 fields, saw 2\\nSkipping line 5270: expected 1 fields, saw 2\\nSkipping line 5447: expected 1 fields, saw 2\\nSkipping line 5484: expected 1 fields, saw 4\\nSkipping line 5497: expected 1 fields, saw 2\\nSkipping line 5545: expected 1 fields, saw 2\\nSkipping line 5549: expected 1 fields, saw 3\\nSkipping line 5579: expected 1 fields, saw 3\\nSkipping line 5583: expected 1 fields, saw 4\\nSkipping line 5591: expected 1 fields, saw 3\\nSkipping line 5658: expected 1 fields, saw 2\\nSkipping line 5664: expected 1 fields, saw 2\\nSkipping line 5743: expected 1 fields, saw 2\\nSkipping line 5801: expected 1 fields, saw 2\\nSkipping line 5821: expected 1 fields, saw 2\\nSkipping line 5844: expected 1 fields, saw 3\\nSkipping line 6075: expected 1 fields, saw 5\\nSkipping line 6076: expected 1 fields, saw 3\\nSkipping line 6130: expected 1 fields, saw 3\\nSkipping line 6221: expected 1 fields, saw 2\\nSkipping line 6237: expected 1 fields, saw 2\\nSkipping line 6369: expected 1 fields, saw 3\\nSkipping line 6377: expected 1 fields, saw 2\\nSkipping line 6404: expected 1 fields, saw 3\\nSkipping line 6460: expected 1 fields, saw 2\\nSkipping line 6554: expected 1 fields, saw 2\\nSkipping line 6599: expected 1 fields, saw 2\\nSkipping line 6671: expected 1 fields, saw 2\\nSkipping line 6683: expected 1 fields, saw 2\\nSkipping line 6702: expected 1 fields, saw 2\\nSkipping line 6794: expected 1 fields, saw 2\\nSkipping line 6855: expected 1 fields, saw 2\\nSkipping line 6857: expected 1 fields, saw 2\\nSkipping line 6918: expected 1 fields, saw 3\\nSkipping line 6954: expected 1 fields, saw 3\\nSkipping line 7023: expected 1 fields, saw 3\\nSkipping line 7194: expected 1 fields, saw 2\\nSkipping line 7274: expected 1 fields, saw 2\\nSkipping line 7359: expected 1 fields, saw 2\\nSkipping line 7433: expected 1 fields, saw 2\\nSkipping line 7457: expected 1 fields, saw 3\\nSkipping line 7551: expected 1 fields, saw 2\\nSkipping line 7553: expected 1 fields, saw 2\\nSkipping line 7555: expected 1 fields, saw 2\\nSkipping line 7567: expected 1 fields, saw 2\\nSkipping line 7606: expected 1 fields, saw 2\\nSkipping line 7623: expected 1 fields, saw 2\\nSkipping line 7775: expected 1 fields, saw 2\\nSkipping line 7846: expected 1 fields, saw 2\\nSkipping line 7930: expected 1 fields, saw 3\\nSkipping line 7987: expected 1 fields, saw 2\\nSkipping line 7989: expected 1 fields, saw 2\\nSkipping line 7994: expected 1 fields, saw 2\\nSkipping line 8081: expected 1 fields, saw 2\\nSkipping line 8124: expected 1 fields, saw 3\\nSkipping line 8128: expected 1 fields, saw 3\\nSkipping line 8205: expected 1 fields, saw 2\\nSkipping line 8295: expected 1 fields, saw 4\\nSkipping line 8300: expected 1 fields, saw 2\\nSkipping line 8369: expected 1 fields, saw 2\\nSkipping line 8393: expected 1 fields, saw 4\\nSkipping line 8511: expected 1 fields, saw 2\\nSkipping line 8622: expected 1 fields, saw 2\\nSkipping line 8713: expected 1 fields, saw 2\\nSkipping line 8790: expected 1 fields, saw 2\\nSkipping line 8828: expected 1 fields, saw 2\\nSkipping line 8908: expected 1 fields, saw 2\\nSkipping line 8989: expected 1 fields, saw 2\\nSkipping line 8991: expected 1 fields, saw 4\\nSkipping line 9117: expected 1 fields, saw 3\\nSkipping line 9208: expected 1 fields, saw 4\\nSkipping line 9428: expected 1 fields, saw 3\\nSkipping line 9505: expected 1 fields, saw 3\\nSkipping line 9661: expected 1 fields, saw 2\\nSkipping line 9699: expected 1 fields, saw 3\\nSkipping line 9725: expected 1 fields, saw 2\\nSkipping line 9778: expected 1 fields, saw 4\\nSkipping line 9852: expected 1 fields, saw 2\\nSkipping line 9942: expected 1 fields, saw 3\\nSkipping line 9956: expected 1 fields, saw 2\\nSkipping line 9960: expected 1 fields, saw 2\\nSkipping line 9991: expected 1 fields, saw 2\\nSkipping line 10082: expected 1 fields, saw 2\\nSkipping line 10083: expected 1 fields, saw 2\\nSkipping line 10092: expected 1 fields, saw 2\\nSkipping line 10135: expected 1 fields, saw 2\\nSkipping line 10210: expected 1 fields, saw 3\\nSkipping line 10300: expected 1 fields, saw 2\\nSkipping line 10355: expected 1 fields, saw 3\\nSkipping line 10510: expected 1 fields, saw 3\\nSkipping line 10516: expected 1 fields, saw 3\\nSkipping line 10546: expected 1 fields, saw 2\\nSkipping line 10662: expected 1 fields, saw 3\\nSkipping line 10671: expected 1 fields, saw 2\\nSkipping line 10680: expected 1 fields, saw 2\\nSkipping line 10744: expected 1 fields, saw 2\\nSkipping line 10802: expected 1 fields, saw 2\\nSkipping line 10811: expected 1 fields, saw 2\\nSkipping line 10911: expected 1 fields, saw 3\\nSkipping line 10933: expected 1 fields, saw 2\\nSkipping line 10960: expected 1 fields, saw 2\\nSkipping line 11284: expected 1 fields, saw 3\\nSkipping line 11329: expected 1 fields, saw 2\\nSkipping line 11409: expected 1 fields, saw 2\\nSkipping line 11420: expected 1 fields, saw 2\\nSkipping line 11446: expected 1 fields, saw 3\\nSkipping line 11573: expected 1 fields, saw 3\\nSkipping line 11614: expected 1 fields, saw 2\\nSkipping line 11622: expected 1 fields, saw 7\\nSkipping line 11626: expected 1 fields, saw 2\\nSkipping line 11690: expected 1 fields, saw 2\\nSkipping line 11849: expected 1 fields, saw 2\\nSkipping line 11870: expected 1 fields, saw 2\\nSkipping line 11906: expected 1 fields, saw 3\\nSkipping line 11997: expected 1 fields, saw 7\\nSkipping line 12131: expected 1 fields, saw 2\\nSkipping line 12218: expected 1 fields, saw 2\\nSkipping line 12287: expected 1 fields, saw 2\\nSkipping line 12291: expected 1 fields, saw 3\\nSkipping line 12314: expected 1 fields, saw 2\\nSkipping line 12335: expected 1 fields, saw 3\\nSkipping line 12338: expected 1 fields, saw 3\\nSkipping line 12343: expected 1 fields, saw 2\\nSkipping line 12383: expected 1 fields, saw 2\\nSkipping line 12402: expected 1 fields, saw 2\\nSkipping line 12414: expected 1 fields, saw 3\\nSkipping line 12538: expected 1 fields, saw 3\\nSkipping line 12550: expected 1 fields, saw 2\\nSkipping line 12577: expected 1 fields, saw 2\\nSkipping line 12584: expected 1 fields, saw 2\\nSkipping line 12603: expected 1 fields, saw 2\\nSkipping line 12684: expected 1 fields, saw 2\\nSkipping line 12998: expected 1 fields, saw 3\\nSkipping line 13049: expected 1 fields, saw 2\\nSkipping line 13073: expected 1 fields, saw 2\\nSkipping line 13141: expected 1 fields, saw 2\\nSkipping line 13158: expected 1 fields, saw 2\\nSkipping line 13207: expected 1 fields, saw 2\\nSkipping line 13281: expected 1 fields, saw 2\\nSkipping line 13364: expected 1 fields, saw 3\\nSkipping line 13390: expected 1 fields, saw 3\\nSkipping line 13391: expected 1 fields, saw 3\\nSkipping line 13411: expected 1 fields, saw 2\\nSkipping line 13420: expected 1 fields, saw 2\\nSkipping line 13421: expected 1 fields, saw 2\\nSkipping line 13473: expected 1 fields, saw 2\\nSkipping line 13525: expected 1 fields, saw 2\\nSkipping line 13545: expected 1 fields, saw 3\\nSkipping line 13569: expected 1 fields, saw 2\\nSkipping line 13613: expected 1 fields, saw 3\\nSkipping line 13617: expected 1 fields, saw 2\\nSkipping line 13668: expected 1 fields, saw 2\\nSkipping line 13670: expected 1 fields, saw 2\\nSkipping line 13757: expected 1 fields, saw 2\\nSkipping line 13764: expected 1 fields, saw 2\\nSkipping line 13767: expected 1 fields, saw 3\\nSkipping line 13788: expected 1 fields, saw 2\\nSkipping line 13860: expected 1 fields, saw 2\\nSkipping line 13874: expected 1 fields, saw 2\\nSkipping line 13914: expected 1 fields, saw 3\\nSkipping line 13929: expected 1 fields, saw 2\\nSkipping line 13934: expected 1 fields, saw 2\\nSkipping line 13973: expected 1 fields, saw 2\\nSkipping line 13989: expected 1 fields, saw 2\\nSkipping line 14110: expected 1 fields, saw 2\\nSkipping line 14125: expected 1 fields, saw 3\\nSkipping line 14164: expected 1 fields, saw 3\\nSkipping line 14361: expected 1 fields, saw 2\\nSkipping line 14367: expected 1 fields, saw 2\\nSkipping line 14550: expected 1 fields, saw 2\\nSkipping line 14568: expected 1 fields, saw 2\\nSkipping line 14738: expected 1 fields, saw 2\\nSkipping line 14749: expected 1 fields, saw 3\\nSkipping line 14760: expected 1 fields, saw 3\\nSkipping line 14775: expected 1 fields, saw 2\\nSkipping line 14854: expected 1 fields, saw 2\\nSkipping line 14983: expected 1 fields, saw 3\\nSkipping line 15002: expected 1 fields, saw 2\\nSkipping line 15017: expected 1 fields, saw 3\\nSkipping line 15035: expected 1 fields, saw 2\\nSkipping line 15049: expected 1 fields, saw 3\\nSkipping line 15077: expected 1 fields, saw 2\\nSkipping line 15095: expected 1 fields, saw 3\\nSkipping line 15193: expected 1 fields, saw 2\\nSkipping line 15251: expected 1 fields, saw 2\\nSkipping line 15375: expected 1 fields, saw 2\\nSkipping line 15377: expected 1 fields, saw 2\\nSkipping line 15494: expected 1 fields, saw 2\\nSkipping line 15649: expected 1 fields, saw 2\\nSkipping line 15707: expected 1 fields, saw 2\\nSkipping line 15772: expected 1 fields, saw 2\\nSkipping line 15799: expected 1 fields, saw 2\\nSkipping line 15846: expected 1 fields, saw 2\\nSkipping line 15883: expected 1 fields, saw 3\\nSkipping line 15893: expected 1 fields, saw 2\\nSkipping line 16038: expected 1 fields, saw 3\\nSkipping line 16244: expected 1 fields, saw 3\\nSkipping line 16249: expected 1 fields, saw 3\\nSkipping line 16407: expected 1 fields, saw 2\\nSkipping line 16455: expected 1 fields, saw 3\\nSkipping line 16565: expected 1 fields, saw 2\\nSkipping line 16603: expected 1 fields, saw 2\\nSkipping line 16635: expected 1 fields, saw 3\\nSkipping line 16663: expected 1 fields, saw 2\\nSkipping line 16686: expected 1 fields, saw 2\\nSkipping line 16764: expected 1 fields, saw 2\\nSkipping line 16831: expected 1 fields, saw 2\\nSkipping line 16945: expected 1 fields, saw 2\\nSkipping line 16946: expected 1 fields, saw 3\\nSkipping line 16996: expected 1 fields, saw 2\\nSkipping line 17038: expected 1 fields, saw 3\\nSkipping line 17081: expected 1 fields, saw 2\\nSkipping line 17215: expected 1 fields, saw 2\\nSkipping line 17232: expected 1 fields, saw 2\\nSkipping line 17238: expected 1 fields, saw 2\\nSkipping line 17244: expected 1 fields, saw 3\\nSkipping line 17310: expected 1 fields, saw 2\\nSkipping line 17325: expected 1 fields, saw 3\\nSkipping line 17345: expected 1 fields, saw 2\\nSkipping line 17366: expected 1 fields, saw 4\\nSkipping line 17381: expected 1 fields, saw 2\\nSkipping line 17403: expected 1 fields, saw 3\\nSkipping line 17413: expected 1 fields, saw 2\\nSkipping line 17491: expected 1 fields, saw 2\\nSkipping line 17492: expected 1 fields, saw 3\\nSkipping line 17538: expected 1 fields, saw 2\\nSkipping line 17556: expected 1 fields, saw 3\\nSkipping line 17578: expected 1 fields, saw 3\\nSkipping line 17597: expected 1 fields, saw 2\\nSkipping line 17614: expected 1 fields, saw 2\\nSkipping line 17643: expected 1 fields, saw 2\\nSkipping line 17657: expected 1 fields, saw 2\\nSkipping line 17701: expected 1 fields, saw 2\\nSkipping line 17703: expected 1 fields, saw 2\\nSkipping line 17767: expected 1 fields, saw 2\\nSkipping line 17808: expected 1 fields, saw 2\\nSkipping line 17849: expected 1 fields, saw 2\\nSkipping line 17864: expected 1 fields, saw 2\\nSkipping line 17867: expected 1 fields, saw 2\\nSkipping line 17983: expected 1 fields, saw 3\\nSkipping line 18015: expected 1 fields, saw 2\\nSkipping line 18032: expected 1 fields, saw 3\\nSkipping line 18051: expected 1 fields, saw 2\\nSkipping line 18113: expected 1 fields, saw 2\\nSkipping line 18120: expected 1 fields, saw 2\\nSkipping line 18173: expected 1 fields, saw 3\\nSkipping line 18187: expected 1 fields, saw 2\\nSkipping line 18192: expected 1 fields, saw 2\\nSkipping line 18196: expected 1 fields, saw 3\\nSkipping line 18279: expected 1 fields, saw 3\\nSkipping line 18311: expected 1 fields, saw 4\\nSkipping line 18352: expected 1 fields, saw 2\\nSkipping line 18368: expected 1 fields, saw 2\\nSkipping line 18400: expected 1 fields, saw 2\\nSkipping line 18413: expected 1 fields, saw 2\\nSkipping line 18416: expected 1 fields, saw 2\\nSkipping line 18433: expected 1 fields, saw 4\\nSkipping line 18463: expected 1 fields, saw 2\\nSkipping line 18539: expected 1 fields, saw 2\\nSkipping line 18559: expected 1 fields, saw 2\\nSkipping line 18563: expected 1 fields, saw 2\\nSkipping line 18612: expected 1 fields, saw 2\\nSkipping line 18624: expected 1 fields, saw 2\\nSkipping line 18635: expected 1 fields, saw 3\\nSkipping line 18642: expected 1 fields, saw 3\\nSkipping line 18649: expected 1 fields, saw 2\\nSkipping line 18651: expected 1 fields, saw 2\\nSkipping line 18654: expected 1 fields, saw 2\\nSkipping line 18655: expected 1 fields, saw 3\\nSkipping line 18670: expected 1 fields, saw 2\\nSkipping line 18672: expected 1 fields, saw 2\\nSkipping line 18710: expected 1 fields, saw 2\\nSkipping line 18728: expected 1 fields, saw 2\\nSkipping line 18826: expected 1 fields, saw 3\\nSkipping line 18854: expected 1 fields, saw 2\\nSkipping line 18884: expected 1 fields, saw 2\\nSkipping line 18893: expected 1 fields, saw 2\\nSkipping line 18901: expected 1 fields, saw 2\\nSkipping line 18965: expected 1 fields, saw 2\\nSkipping line 18974: expected 1 fields, saw 2\\nSkipping line 18976: expected 1 fields, saw 3\\nSkipping line 18983: expected 1 fields, saw 2\\nSkipping line 19005: expected 1 fields, saw 2\\nSkipping line 19009: expected 1 fields, saw 3\\nSkipping line 19052: expected 1 fields, saw 2\\nSkipping line 19071: expected 1 fields, saw 3\\nSkipping line 19108: expected 1 fields, saw 3\\nSkipping line 19136: expected 1 fields, saw 2\\nSkipping line 19257: expected 1 fields, saw 4\\nSkipping line 19292: expected 1 fields, saw 2\\nSkipping line 19344: expected 1 fields, saw 2\\nSkipping line 19366: expected 1 fields, saw 2\\nSkipping line 19416: expected 1 fields, saw 2\\nSkipping line 19439: expected 1 fields, saw 3\\nSkipping line 19444: expected 1 fields, saw 2\\nSkipping line 19478: expected 1 fields, saw 5\\nSkipping line 19511: expected 1 fields, saw 2\\nSkipping line 19523: expected 1 fields, saw 2\\nSkipping line 19539: expected 1 fields, saw 2\\nSkipping line 19546: expected 1 fields, saw 3\\nSkipping line 19604: expected 1 fields, saw 3\\nSkipping line 19622: expected 1 fields, saw 2\\nSkipping line 19626: expected 1 fields, saw 3\\nSkipping line 19627: expected 1 fields, saw 2\\nSkipping line 19715: expected 1 fields, saw 4\\nSkipping line 19743: expected 1 fields, saw 2\\nSkipping line 19747: expected 1 fields, saw 2\\nSkipping line 19765: expected 1 fields, saw 2\\nSkipping line 19768: expected 1 fields, saw 2\\nSkipping line 19820: expected 1 fields, saw 2\\nSkipping line 19824: expected 1 fields, saw 2\\nSkipping line 19847: expected 1 fields, saw 3\\nSkipping line 19855: expected 1 fields, saw 2\\nSkipping line 19933: expected 1 fields, saw 2\\nSkipping line 19940: expected 1 fields, saw 5\\nSkipping line 19961: expected 1 fields, saw 2\\nSkipping line 20010: expected 1 fields, saw 2\\nSkipping line 20086: expected 1 fields, saw 2\\nSkipping line 20142: expected 1 fields, saw 2\\nSkipping line 20145: expected 1 fields, saw 2\\nSkipping line 20218: expected 1 fields, saw 2\\nSkipping line 20280: expected 1 fields, saw 2\\nSkipping line 20288: expected 1 fields, saw 2\\nSkipping line 20291: expected 1 fields, saw 2\\nSkipping line 20303: expected 1 fields, saw 2\\nSkipping line 20350: expected 1 fields, saw 2\\nSkipping line 20375: expected 1 fields, saw 2\\nSkipping line 20380: expected 1 fields, saw 2\\nSkipping line 20389: expected 1 fields, saw 2\\nSkipping line 20390: expected 1 fields, saw 3\\nSkipping line 20450: expected 1 fields, saw 2\\nSkipping line 20477: expected 1 fields, saw 2\\nSkipping line 20500: expected 1 fields, saw 2\\nSkipping line 20560: expected 1 fields, saw 2\\nSkipping line 20565: expected 1 fields, saw 2\\nSkipping line 20602: expected 1 fields, saw 2\\nSkipping line 20623: expected 1 fields, saw 2\\nSkipping line 20662: expected 1 fields, saw 2\\nSkipping line 20706: expected 1 fields, saw 3\\nSkipping line 20740: expected 1 fields, saw 4\\nSkipping line 20774: expected 1 fields, saw 5\\nSkipping line 20784: expected 1 fields, saw 2\\nSkipping line 20790: expected 1 fields, saw 2\\nSkipping line 20819: expected 1 fields, saw 3\\nSkipping line 20823: expected 1 fields, saw 4\\nSkipping line 20864: expected 1 fields, saw 3\\nSkipping line 20872: expected 1 fields, saw 2\\nSkipping line 20886: expected 1 fields, saw 2\\nSkipping line 20897: expected 1 fields, saw 3\\nSkipping line 20910: expected 1 fields, saw 2\\nSkipping line 20911: expected 1 fields, saw 2\\nSkipping line 20912: expected 1 fields, saw 2\\nSkipping line 20926: expected 1 fields, saw 5\\nSkipping line 20999: expected 1 fields, saw 2\\nSkipping line 21063: expected 1 fields, saw 3\\nSkipping line 21065: expected 1 fields, saw 3\\nSkipping line 21066: expected 1 fields, saw 2\\nSkipping line 21115: expected 1 fields, saw 2\\nSkipping line 21131: expected 1 fields, saw 3\\nSkipping line 21261: expected 1 fields, saw 3\\nSkipping line 21265: expected 1 fields, saw 2\\nSkipping line 21280: expected 1 fields, saw 2\\nSkipping line 21319: expected 1 fields, saw 2\\nSkipping line 21346: expected 1 fields, saw 2\\nSkipping line 21384: expected 1 fields, saw 2\\nSkipping line 21390: expected 1 fields, saw 2\\nSkipping line 21398: expected 1 fields, saw 2\\nSkipping line 21410: expected 1 fields, saw 3\\nSkipping line 21431: expected 1 fields, saw 4\\nSkipping line 21439: expected 1 fields, saw 2\\nSkipping line 21462: expected 1 fields, saw 4\\nSkipping line 21488: expected 1 fields, saw 4\\nSkipping line 21493: expected 1 fields, saw 2\\nSkipping line 21516: expected 1 fields, saw 2\\nSkipping line 21535: expected 1 fields, saw 3\\nSkipping line 21548: expected 1 fields, saw 4\\nSkipping line 21609: expected 1 fields, saw 3\\nSkipping line 21695: expected 1 fields, saw 3\\nSkipping line 21708: expected 1 fields, saw 3\\nSkipping line 21739: expected 1 fields, saw 3\\nSkipping line 21783: expected 1 fields, saw 2\\nSkipping line 21813: expected 1 fields, saw 2\\nSkipping line 21821: expected 1 fields, saw 3\\nSkipping line 21825: expected 1 fields, saw 2\\nSkipping line 21847: expected 1 fields, saw 2\\nSkipping line 21915: expected 1 fields, saw 2\\nSkipping line 21920: expected 1 fields, saw 3\\nSkipping line 21933: expected 1 fields, saw 2\\nSkipping line 21950: expected 1 fields, saw 2\\nSkipping line 21959: expected 1 fields, saw 2\\nSkipping line 21976: expected 1 fields, saw 4\\nSkipping line 21978: expected 1 fields, saw 2\\nSkipping line 21983: expected 1 fields, saw 2\\nSkipping line 21989: expected 1 fields, saw 2\\nSkipping line 22002: expected 1 fields, saw 4\\nSkipping line 22040: expected 1 fields, saw 3\\nSkipping line 22041: expected 1 fields, saw 2\\nSkipping line 22061: expected 1 fields, saw 3\\nSkipping line 22068: expected 1 fields, saw 2\\nSkipping line 22094: expected 1 fields, saw 2\\nSkipping line 22125: expected 1 fields, saw 2\\nSkipping line 22176: expected 1 fields, saw 3\\nSkipping line 22185: expected 1 fields, saw 2\\nSkipping line 22203: expected 1 fields, saw 2\\nSkipping line 22221: expected 1 fields, saw 2\\nSkipping line 22274: expected 1 fields, saw 2\\nSkipping line 22290: expected 1 fields, saw 2\\nSkipping line 22327: expected 1 fields, saw 2\\nSkipping line 22349: expected 1 fields, saw 2\\nSkipping line 22352: expected 1 fields, saw 2\\nSkipping line 22354: expected 1 fields, saw 2\\nSkipping line 22392: expected 1 fields, saw 2\\nSkipping line 22443: expected 1 fields, saw 2\\nSkipping line 22446: expected 1 fields, saw 2\\nSkipping line 22469: expected 1 fields, saw 2\\nSkipping line 22507: expected 1 fields, saw 3\\nSkipping line 22672: expected 1 fields, saw 2\\nSkipping line 22783: expected 1 fields, saw 2\\nSkipping line 22785: expected 1 fields, saw 2\\nSkipping line 22828: expected 1 fields, saw 2\\nSkipping line 22925: expected 1 fields, saw 2\\nSkipping line 22972: expected 1 fields, saw 2\\nSkipping line 22986: expected 1 fields, saw 2\\nSkipping line 23011: expected 1 fields, saw 2\\nSkipping line 23068: expected 1 fields, saw 2\\nSkipping line 23079: expected 1 fields, saw 2\\nSkipping line 23084: expected 1 fields, saw 2\\nSkipping line 23108: expected 1 fields, saw 3\\nSkipping line 23140: expected 1 fields, saw 3\\nSkipping line 23330: expected 1 fields, saw 2\\nSkipping line 23334: expected 1 fields, saw 3\\nSkipping line 23364: expected 1 fields, saw 3\\nSkipping line 23457: expected 1 fields, saw 3\\nSkipping line 23471: expected 1 fields, saw 2\\nSkipping line 23551: expected 1 fields, saw 2\\nSkipping line 23576: expected 1 fields, saw 2\\nSkipping line 23743: expected 1 fields, saw 3\\nSkipping line 23782: expected 1 fields, saw 2\\nSkipping line 23787: expected 1 fields, saw 2\\nSkipping line 23821: expected 1 fields, saw 2\\nSkipping line 23837: expected 1 fields, saw 2\\nSkipping line 23845: expected 1 fields, saw 3\\nSkipping line 23905: expected 1 fields, saw 2\\nSkipping line 23951: expected 1 fields, saw 2\\nSkipping line 23983: expected 1 fields, saw 2\\nSkipping line 23997: expected 1 fields, saw 2\\nSkipping line 24003: expected 1 fields, saw 3\\nSkipping line 24031: expected 1 fields, saw 2\\nSkipping line 24034: expected 1 fields, saw 2\\nSkipping line 24041: expected 1 fields, saw 2\\nSkipping line 24052: expected 1 fields, saw 2\\nSkipping line 24092: expected 1 fields, saw 2\\nSkipping line 24181: expected 1 fields, saw 2\\nSkipping line 24214: expected 1 fields, saw 3\\nSkipping line 24249: expected 1 fields, saw 2\\nSkipping line 24283: expected 1 fields, saw 2\\nSkipping line 24284: expected 1 fields, saw 2\\nSkipping line 24324: expected 1 fields, saw 3\\nSkipping line 24326: expected 1 fields, saw 2\\nSkipping line 24339: expected 1 fields, saw 2\\nSkipping line 24377: expected 1 fields, saw 3\\nSkipping line 24462: expected 1 fields, saw 3\\nSkipping line 24470: expected 1 fields, saw 2\\nSkipping line 24581: expected 1 fields, saw 2\\nSkipping line 24595: expected 1 fields, saw 2\\nSkipping line 24626: expected 1 fields, saw 2\\nSkipping line 24790: expected 1 fields, saw 2\\nSkipping line 24839: expected 1 fields, saw 2\\nSkipping line 24906: expected 1 fields, saw 2\\nSkipping line 24924: expected 1 fields, saw 2\\nSkipping line 24985: expected 1 fields, saw 3\\nSkipping line 25045: expected 1 fields, saw 2\\nSkipping line 25085: expected 1 fields, saw 3\\nSkipping line 25143: expected 1 fields, saw 3\\nSkipping line 25157: expected 1 fields, saw 2\\nSkipping line 25228: expected 1 fields, saw 2\\nSkipping line 25289: expected 1 fields, saw 2\\nSkipping line 25294: expected 1 fields, saw 2\\nSkipping line 25313: expected 1 fields, saw 2\\nSkipping line 25566: expected 1 fields, saw 2\\nSkipping line 25616: expected 1 fields, saw 2\\nSkipping line 25625: expected 1 fields, saw 5\\nSkipping line 25647: expected 1 fields, saw 2\\nSkipping line 25718: expected 1 fields, saw 4\\nSkipping line 25789: expected 1 fields, saw 2\\nSkipping line 25816: expected 1 fields, saw 3\\nSkipping line 25861: expected 1 fields, saw 2\\nSkipping line 25873: expected 1 fields, saw 2\\nSkipping line 25915: expected 1 fields, saw 2\\nSkipping line 25920: expected 1 fields, saw 2\\nSkipping line 25926: expected 1 fields, saw 3\\nSkipping line 25936: expected 1 fields, saw 2\\nSkipping line 25939: expected 1 fields, saw 3\\nSkipping line 25981: expected 1 fields, saw 2\\nSkipping line 26008: expected 1 fields, saw 2\\nSkipping line 26052: expected 1 fields, saw 2\\nSkipping line 26087: expected 1 fields, saw 3\\nSkipping line 26102: expected 1 fields, saw 2\\nSkipping line 26182: expected 1 fields, saw 3\\nSkipping line 26189: expected 1 fields, saw 3\\nSkipping line 26211: expected 1 fields, saw 2\\nSkipping line 26227: expected 1 fields, saw 2\\nSkipping line 26233: expected 1 fields, saw 3\\nSkipping line 26294: expected 1 fields, saw 4\\nSkipping line 26347: expected 1 fields, saw 4\\nSkipping line 26350: expected 1 fields, saw 2\\nSkipping line 26368: expected 1 fields, saw 2\\nSkipping line 26376: expected 1 fields, saw 2\\nSkipping line 26403: expected 1 fields, saw 3\\nSkipping line 26471: expected 1 fields, saw 3\\nSkipping line 26502: expected 1 fields, saw 2\\nSkipping line 26573: expected 1 fields, saw 2\\nSkipping line 26646: expected 1 fields, saw 2\\nSkipping line 26695: expected 1 fields, saw 2\\nSkipping line 26711: expected 1 fields, saw 2\\nSkipping line 26720: expected 1 fields, saw 2\\nSkipping line 26758: expected 1 fields, saw 5\\nSkipping line 26781: expected 1 fields, saw 2\\nSkipping line 26869: expected 1 fields, saw 3\\nSkipping line 26928: expected 1 fields, saw 3\\nSkipping line 27019: expected 1 fields, saw 2\\nSkipping line 27073: expected 1 fields, saw 2\\nSkipping line 27197: expected 1 fields, saw 2\\nSkipping line 27199: expected 1 fields, saw 4\\nSkipping line 27201: expected 1 fields, saw 2\\nSkipping line 27214: expected 1 fields, saw 2\\nSkipping line 27215: expected 1 fields, saw 2\\nSkipping line 27228: expected 1 fields, saw 2\\nSkipping line 27238: expected 1 fields, saw 2\\nSkipping line 27263: expected 1 fields, saw 2\\nSkipping line 27335: expected 1 fields, saw 3\\nSkipping line 27445: expected 1 fields, saw 2\\nSkipping line 27491: expected 1 fields, saw 2\\nSkipping line 27518: expected 1 fields, saw 2\\nSkipping line 27529: expected 1 fields, saw 2\\nSkipping line 27533: expected 1 fields, saw 2\\nSkipping line 27556: expected 1 fields, saw 2\\nSkipping line 27585: expected 1 fields, saw 2\\nSkipping line 27602: expected 1 fields, saw 2\\nSkipping line 27611: expected 1 fields, saw 2\\nSkipping line 27650: expected 1 fields, saw 2\\nSkipping line 27660: expected 1 fields, saw 2\\nSkipping line 27671: expected 1 fields, saw 2\\nSkipping line 27732: expected 1 fields, saw 2\\nSkipping line 27748: expected 1 fields, saw 2\\nSkipping line 27761: expected 1 fields, saw 2\\nSkipping line 27776: expected 1 fields, saw 4\\nSkipping line 27787: expected 1 fields, saw 2\\nSkipping line 27791: expected 1 fields, saw 2\\nSkipping line 27871: expected 1 fields, saw 2\\nSkipping line 27919: expected 1 fields, saw 2\\nSkipping line 27961: expected 1 fields, saw 10\\nSkipping line 27963: expected 1 fields, saw 2\\nSkipping line 28013: expected 1 fields, saw 3\\nSkipping line 28015: expected 1 fields, saw 3\\nSkipping line 28022: expected 1 fields, saw 2\\nSkipping line 28043: expected 1 fields, saw 4\\nSkipping line 28114: expected 1 fields, saw 2\\nSkipping line 28130: expected 1 fields, saw 3\\nSkipping line 28206: expected 1 fields, saw 10\\nSkipping line 28242: expected 1 fields, saw 2\\nSkipping line 28403: expected 1 fields, saw 2\\nSkipping line 28440: expected 1 fields, saw 2\\nSkipping line 28508: expected 1 fields, saw 2\\nSkipping line 28519: expected 1 fields, saw 2\\nSkipping line 28525: expected 1 fields, saw 2\\nSkipping line 28698: expected 1 fields, saw 2\\nSkipping line 28735: expected 1 fields, saw 3\\nSkipping line 28818: expected 1 fields, saw 4\\nSkipping line 28832: expected 1 fields, saw 2\\nSkipping line 28845: expected 1 fields, saw 2\\nSkipping line 28854: expected 1 fields, saw 2\\nSkipping line 28857: expected 1 fields, saw 2\\nSkipping line 29039: expected 1 fields, saw 2\\nSkipping line 29101: expected 1 fields, saw 4\\nSkipping line 29164: expected 1 fields, saw 4\\nSkipping line 29180: expected 1 fields, saw 4\\nSkipping line 29282: expected 1 fields, saw 4\\nSkipping line 29420: expected 1 fields, saw 2\\nSkipping line 29439: expected 1 fields, saw 2\\nSkipping line 29535: expected 1 fields, saw 3\\nSkipping line 29623: expected 1 fields, saw 2\\nSkipping line 29779: expected 1 fields, saw 2\\nSkipping line 29797: expected 1 fields, saw 2\\nSkipping line 29805: expected 1 fields, saw 3\\nSkipping line 29812: expected 1 fields, saw 2\\nSkipping line 29944: expected 1 fields, saw 2\\nSkipping line 30028: expected 1 fields, saw 2\\nSkipping line 30062: expected 1 fields, saw 3\\nSkipping line 30096: expected 1 fields, saw 2\\nSkipping line 30226: expected 1 fields, saw 2\\nSkipping line 30286: expected 1 fields, saw 4\\nSkipping line 30357: expected 1 fields, saw 4\\nSkipping line 30647: expected 1 fields, saw 3\\nSkipping line 30689: expected 1 fields, saw 3\\nSkipping line 30706: expected 1 fields, saw 4\\nSkipping line 30770: expected 1 fields, saw 4\\nSkipping line 30778: expected 1 fields, saw 4\\nSkipping line 31135: expected 1 fields, saw 2\\nSkipping line 31171: expected 1 fields, saw 2\\nSkipping line 31236: expected 1 fields, saw 2\\nSkipping line 31344: expected 1 fields, saw 3\\nSkipping line 31463: expected 1 fields, saw 2\\nSkipping line 31507: expected 1 fields, saw 2\\nSkipping line 31545: expected 1 fields, saw 3\\nSkipping line 31858: expected 1 fields, saw 2\\nSkipping line 31995: expected 1 fields, saw 2\\nSkipping line 32081: expected 1 fields, saw 2\\nSkipping line 32101: expected 1 fields, saw 2\\nSkipping line 32113: expected 1 fields, saw 3\\nSkipping line 32251: expected 1 fields, saw 3\\nSkipping line 32317: expected 1 fields, saw 3\\nSkipping line 32333: expected 1 fields, saw 2\\nSkipping line 32353: expected 1 fields, saw 2\\nSkipping line 32394: expected 1 fields, saw 3\\nSkipping line 32446: expected 1 fields, saw 3\\nSkipping line 32521: expected 1 fields, saw 2\\nSkipping line 32576: expected 1 fields, saw 2\\nSkipping line 32706: expected 1 fields, saw 3\\nSkipping line 32708: expected 1 fields, saw 2\\nSkipping line 32711: expected 1 fields, saw 2\\nSkipping line 32770: expected 1 fields, saw 3\\nSkipping line 32779: expected 1 fields, saw 2\\nSkipping line 33038: expected 1 fields, saw 3\\nSkipping line 33115: expected 1 fields, saw 3\\nSkipping line 33125: expected 1 fields, saw 2\\nSkipping line 33136: expected 1 fields, saw 3\\nSkipping line 33157: expected 1 fields, saw 3\\nSkipping line 33224: expected 1 fields, saw 2\\nSkipping line 33238: expected 1 fields, saw 2\\nSkipping line 33244: expected 1 fields, saw 2\\nSkipping line 33272: expected 1 fields, saw 2\\nSkipping line 33322: expected 1 fields, saw 2\\nSkipping line 33349: expected 1 fields, saw 2\\nSkipping line 33381: expected 1 fields, saw 2\\nSkipping line 33479: expected 1 fields, saw 2\\nSkipping line 33539: expected 1 fields, saw 2\\nSkipping line 33573: expected 1 fields, saw 3\\nSkipping line 33597: expected 1 fields, saw 2\\nSkipping line 33623: expected 1 fields, saw 2\\nSkipping line 33701: expected 1 fields, saw 2\\nSkipping line 33800: expected 1 fields, saw 2\\nSkipping line 33814: expected 1 fields, saw 2\\nSkipping line 33920: expected 1 fields, saw 2\\nSkipping line 33962: expected 1 fields, saw 2\\nSkipping line 33963: expected 1 fields, saw 2\\nSkipping line 33979: expected 1 fields, saw 3\\nSkipping line 34066: expected 1 fields, saw 2\\nSkipping line 34114: expected 1 fields, saw 2\\nSkipping line 34133: expected 1 fields, saw 2\\nSkipping line 34136: expected 1 fields, saw 3\\nSkipping line 34200: expected 1 fields, saw 2\\nSkipping line 34213: expected 1 fields, saw 2\\nSkipping line 34245: expected 1 fields, saw 3\\nSkipping line 34369: expected 1 fields, saw 2\\nSkipping line 34401: expected 1 fields, saw 2\\nSkipping line 34501: expected 1 fields, saw 2\\nSkipping line 34510: expected 1 fields, saw 2\\nSkipping line 34514: expected 1 fields, saw 2\\nSkipping line 34582: expected 1 fields, saw 2\\nSkipping line 34600: expected 1 fields, saw 2\\nSkipping line 34618: expected 1 fields, saw 4\\nSkipping line 34703: expected 1 fields, saw 2\\nSkipping line 34727: expected 1 fields, saw 3\\nSkipping line 34824: expected 1 fields, saw 2\\nSkipping line 34849: expected 1 fields, saw 2\\nSkipping line 34861: expected 1 fields, saw 2\\nSkipping line 34946: expected 1 fields, saw 3\\nSkipping line 34996: expected 1 fields, saw 2\\nSkipping line 35001: expected 1 fields, saw 3\\nSkipping line 35037: expected 1 fields, saw 2\\nSkipping line 35069: expected 1 fields, saw 2\\nSkipping line 35112: expected 1 fields, saw 2\\nSkipping line 35186: expected 1 fields, saw 3\\nSkipping line 35197: expected 1 fields, saw 2\\nSkipping line 35205: expected 1 fields, saw 2\\nSkipping line 35210: expected 1 fields, saw 2\\nSkipping line 35257: expected 1 fields, saw 2\\nSkipping line 35297: expected 1 fields, saw 2\\nSkipping line 35299: expected 1 fields, saw 2\\nSkipping line 35317: expected 1 fields, saw 2\\nSkipping line 35321: expected 1 fields, saw 2\\nSkipping line 35342: expected 1 fields, saw 2\\nSkipping line 35399: expected 1 fields, saw 3\\nSkipping line 35400: expected 1 fields, saw 3\\nSkipping line 35433: expected 1 fields, saw 2\\nSkipping line 35494: expected 1 fields, saw 3\\nSkipping line 35521: expected 1 fields, saw 3\\nSkipping line 35537: expected 1 fields, saw 3\\nSkipping line 35627: expected 1 fields, saw 3\\nSkipping line 35662: expected 1 fields, saw 3\\nSkipping line 35707: expected 1 fields, saw 2\\nSkipping line 35721: expected 1 fields, saw 2\\nSkipping line 35824: expected 1 fields, saw 2\\nSkipping line 35905: expected 1 fields, saw 2\\nSkipping line 35932: expected 1 fields, saw 2\\nSkipping line 35945: expected 1 fields, saw 2\\nSkipping line 35950: expected 1 fields, saw 2\\nSkipping line 35968: expected 1 fields, saw 5\\nSkipping line 35984: expected 1 fields, saw 2\\nSkipping line 36060: expected 1 fields, saw 2\\nSkipping line 36066: expected 1 fields, saw 2\\nSkipping line 36101: expected 1 fields, saw 2\\nSkipping line 36138: expected 1 fields, saw 2\\nSkipping line 36141: expected 1 fields, saw 5\\nSkipping line 36142: expected 1 fields, saw 2\\nSkipping line 36188: expected 1 fields, saw 3\\nSkipping line 36240: expected 1 fields, saw 2\\nSkipping line 36251: expected 1 fields, saw 2\\nSkipping line 36252: expected 1 fields, saw 2\\nSkipping line 36262: expected 1 fields, saw 2\\nSkipping line 36323: expected 1 fields, saw 3\\nSkipping line 36353: expected 1 fields, saw 2\\nSkipping line 36376: expected 1 fields, saw 2\\nSkipping line 36419: expected 1 fields, saw 2\\nSkipping line 36421: expected 1 fields, saw 2\\nSkipping line 36435: expected 1 fields, saw 2\\nSkipping line 36440: expected 1 fields, saw 2\\nSkipping line 36452: expected 1 fields, saw 3\\nSkipping line 36462: expected 1 fields, saw 3\\nSkipping line 36486: expected 1 fields, saw 3\\nSkipping line 36489: expected 1 fields, saw 2\\nSkipping line 36501: expected 1 fields, saw 2\\nSkipping line 36514: expected 1 fields, saw 2\\nSkipping line 36566: expected 1 fields, saw 2\\nSkipping line 36568: expected 1 fields, saw 2\\nSkipping line 36632: expected 1 fields, saw 2\\nSkipping line 36664: expected 1 fields, saw 3\\nSkipping line 36700: expected 1 fields, saw 3\\nSkipping line 36731: expected 1 fields, saw 2\\nSkipping line 36768: expected 1 fields, saw 2\\nSkipping line 36813: expected 1 fields, saw 2\\nSkipping line 36816: expected 1 fields, saw 2\\nSkipping line 36906: expected 1 fields, saw 3\\nSkipping line 36913: expected 1 fields, saw 2\\nSkipping line 36946: expected 1 fields, saw 3\\nSkipping line 37311: expected 1 fields, saw 3\\nSkipping line 37491: expected 1 fields, saw 2\\nSkipping line 37684: expected 1 fields, saw 2\\nSkipping line 37691: expected 1 fields, saw 2\\nSkipping line 37845: expected 1 fields, saw 4\\nSkipping line 37990: expected 1 fields, saw 2\\nSkipping line 38018: expected 1 fields, saw 5\\nSkipping line 38055: expected 1 fields, saw 4\\nSkipping line 38064: expected 1 fields, saw 2\\nSkipping line 38158: expected 1 fields, saw 2\\nSkipping line 38267: expected 1 fields, saw 2\\nSkipping line 38271: expected 1 fields, saw 2\\nSkipping line 38286: expected 1 fields, saw 2\\nSkipping line 38356: expected 1 fields, saw 2\\nSkipping line 38367: expected 1 fields, saw 3\\nSkipping line 38380: expected 1 fields, saw 3\\nSkipping line 38414: expected 1 fields, saw 3\\nSkipping line 38431: expected 1 fields, saw 3\\nSkipping line 38441: expected 1 fields, saw 3\\nSkipping line 38492: expected 1 fields, saw 5\\nSkipping line 38499: expected 1 fields, saw 3\\nSkipping line 38549: expected 1 fields, saw 3\\nSkipping line 38673: expected 1 fields, saw 3\\nSkipping line 38687: expected 1 fields, saw 3\\nSkipping line 38694: expected 1 fields, saw 3\\nSkipping line 38776: expected 1 fields, saw 2\\nSkipping line 38780: expected 1 fields, saw 2\\nSkipping line 38805: expected 1 fields, saw 2\\nSkipping line 38837: expected 1 fields, saw 2\\nSkipping line 38872: expected 1 fields, saw 3\\nSkipping line 38921: expected 1 fields, saw 2\\nSkipping line 38926: expected 1 fields, saw 2\\nSkipping line 38997: expected 1 fields, saw 4\\nSkipping line 39014: expected 1 fields, saw 2\\nSkipping line 39072: expected 1 fields, saw 3\\nSkipping line 39121: expected 1 fields, saw 3\\nSkipping line 39126: expected 1 fields, saw 3\\nSkipping line 39180: expected 1 fields, saw 3\\nSkipping line 39189: expected 1 fields, saw 2\\nSkipping line 39224: expected 1 fields, saw 2\\nSkipping line 39226: expected 1 fields, saw 2\\nSkipping line 39233: expected 1 fields, saw 3\\nSkipping line 39276: expected 1 fields, saw 3\\nSkipping line 39347: expected 1 fields, saw 5\\nSkipping line 39391: expected 1 fields, saw 4\\nSkipping line 39482: expected 1 fields, saw 2\\nSkipping line 39495: expected 1 fields, saw 3\\nSkipping line 39537: expected 1 fields, saw 2\\nSkipping line 39548: expected 1 fields, saw 3\\nSkipping line 39597: expected 1 fields, saw 2\\nSkipping line 39662: expected 1 fields, saw 3\\nSkipping line 39702: expected 1 fields, saw 2\\nSkipping line 39730: expected 1 fields, saw 2\\nSkipping line 39806: expected 1 fields, saw 2\\nSkipping line 39830: expected 1 fields, saw 2\\nSkipping line 39859: expected 1 fields, saw 3\\nSkipping line 39876: expected 1 fields, saw 2\\nSkipping line 39906: expected 1 fields, saw 3\\nSkipping line 40036: expected 1 fields, saw 2\\nSkipping line 40082: expected 1 fields, saw 5\\nSkipping line 40088: expected 1 fields, saw 2\\nSkipping line 40138: expected 1 fields, saw 3\\nSkipping line 40150: expected 1 fields, saw 2\\nSkipping line 40154: expected 1 fields, saw 3\\nSkipping line 40195: expected 1 fields, saw 2\\nSkipping line 40201: expected 1 fields, saw 2\\nSkipping line 40214: expected 1 fields, saw 2\\nSkipping line 40229: expected 1 fields, saw 3\\nSkipping line 40257: expected 1 fields, saw 2\\nSkipping line 40258: expected 1 fields, saw 2\\nSkipping line 40277: expected 1 fields, saw 2\\nSkipping line 40279: expected 1 fields, saw 2\\nSkipping line 40285: expected 1 fields, saw 2\\nSkipping line 40321: expected 1 fields, saw 3\\nSkipping line 40345: expected 1 fields, saw 3\\nSkipping line 40399: expected 1 fields, saw 3\\nSkipping line 40428: expected 1 fields, saw 4\\nSkipping line 40435: expected 1 fields, saw 2\\nSkipping line 40439: expected 1 fields, saw 3\\nSkipping line 40481: expected 1 fields, saw 2\\nSkipping line 40501: expected 1 fields, saw 2\\nSkipping line 40520: expected 1 fields, saw 2\\nSkipping line 40539: expected 1 fields, saw 2\\nSkipping line 40584: expected 1 fields, saw 3\\nSkipping line 40593: expected 1 fields, saw 2\\nSkipping line 40597: expected 1 fields, saw 2\\nSkipping line 40634: expected 1 fields, saw 3\\nSkipping line 40635: expected 1 fields, saw 2\\nSkipping line 40676: expected 1 fields, saw 2\\nSkipping line 40679: expected 1 fields, saw 5\\nSkipping line 40786: expected 1 fields, saw 2\\nSkipping line 40794: expected 1 fields, saw 2\\nSkipping line 40811: expected 1 fields, saw 2\\nSkipping line 40820: expected 1 fields, saw 3\\nSkipping line 40839: expected 1 fields, saw 3\\nSkipping line 40869: expected 1 fields, saw 3\\nSkipping line 40876: expected 1 fields, saw 3\\nSkipping line 41002: expected 1 fields, saw 2\\nSkipping line 41009: expected 1 fields, saw 5\\nSkipping line 41078: expected 1 fields, saw 2\\nSkipping line 41081: expected 1 fields, saw 2\\nSkipping line 41104: expected 1 fields, saw 2\\nSkipping line 41122: expected 1 fields, saw 2\\nSkipping line 41164: expected 1 fields, saw 2\\nSkipping line 41206: expected 1 fields, saw 2\\nSkipping line 41220: expected 1 fields, saw 5\\nSkipping line 41231: expected 1 fields, saw 2\\nSkipping line 41248: expected 1 fields, saw 2\\nSkipping line 41286: expected 1 fields, saw 2\\nSkipping line 41382: expected 1 fields, saw 3\\nSkipping line 41459: expected 1 fields, saw 3\\nSkipping line 41635: expected 1 fields, saw 2\\nSkipping line 41711: expected 1 fields, saw 2\\nSkipping line 41866: expected 1 fields, saw 2\\nSkipping line 42053: expected 1 fields, saw 2\\nSkipping line 42124: expected 1 fields, saw 2\\nSkipping line 42125: expected 1 fields, saw 2\\nSkipping line 42188: expected 1 fields, saw 2\\nSkipping line 42261: expected 1 fields, saw 3\\nSkipping line 42305: expected 1 fields, saw 2\\nSkipping line 42348: expected 1 fields, saw 2\\nSkipping line 42402: expected 1 fields, saw 3\\nSkipping line 42508: expected 1 fields, saw 2\\nSkipping line 42512: expected 1 fields, saw 2\\nSkipping line 42535: expected 1 fields, saw 2\\nSkipping line 42626: expected 1 fields, saw 2\\nSkipping line 42692: expected 1 fields, saw 2\\nSkipping line 43063: expected 1 fields, saw 4\\nSkipping line 43066: expected 1 fields, saw 3\\nSkipping line 43068: expected 1 fields, saw 2\\nSkipping line 43081: expected 1 fields, saw 3\\nSkipping line 43100: expected 1 fields, saw 2\\nSkipping line 43187: expected 1 fields, saw 2\\nSkipping line 43188: expected 1 fields, saw 2\\nSkipping line 43321: expected 1 fields, saw 3\\nSkipping line 43334: expected 1 fields, saw 2\\nSkipping line 43376: expected 1 fields, saw 2\\nSkipping line 43401: expected 1 fields, saw 2\\nSkipping line 43448: expected 1 fields, saw 2\\nSkipping line 43454: expected 1 fields, saw 2\\nSkipping line 43568: expected 1 fields, saw 3\\nSkipping line 43579: expected 1 fields, saw 3\\nSkipping line 43584: expected 1 fields, saw 2\\nSkipping line 43618: expected 1 fields, saw 2\\nSkipping line 43652: expected 1 fields, saw 2\\nSkipping line 43657: expected 1 fields, saw 3\\nSkipping line 43686: expected 1 fields, saw 2\\nSkipping line 43736: expected 1 fields, saw 2\\nSkipping line 43751: expected 1 fields, saw 3\\nSkipping line 43806: expected 1 fields, saw 2\\nSkipping line 43807: expected 1 fields, saw 2\\nSkipping line 43907: expected 1 fields, saw 4\\nSkipping line 43943: expected 1 fields, saw 3\\nSkipping line 43961: expected 1 fields, saw 2\\nSkipping line 43980: expected 1 fields, saw 2\\nSkipping line 44009: expected 1 fields, saw 3\\nSkipping line 44031: expected 1 fields, saw 2\\nSkipping line 44048: expected 1 fields, saw 2\\nSkipping line 44159: expected 1 fields, saw 2\\nSkipping line 44186: expected 1 fields, saw 3\\nSkipping line 44192: expected 1 fields, saw 2\\nSkipping line 44263: expected 1 fields, saw 2\\nSkipping line 44332: expected 1 fields, saw 3\\nSkipping line 44414: expected 1 fields, saw 2\\nSkipping line 44435: expected 1 fields, saw 4\\nSkipping line 44541: expected 1 fields, saw 3\\nSkipping line 44584: expected 1 fields, saw 4\\nSkipping line 44586: expected 1 fields, saw 3\\nSkipping line 44616: expected 1 fields, saw 2\\nSkipping line 44655: expected 1 fields, saw 2\\nSkipping line 44662: expected 1 fields, saw 2\\nSkipping line 44669: expected 1 fields, saw 3\\nSkipping line 44834: expected 1 fields, saw 2\\nSkipping line 44879: expected 1 fields, saw 5\\nSkipping line 44891: expected 1 fields, saw 2\\nSkipping line 44914: expected 1 fields, saw 2\\nSkipping line 44944: expected 1 fields, saw 2\\nSkipping line 44970: expected 1 fields, saw 2\\nSkipping line 45017: expected 1 fields, saw 2\\nSkipping line 45058: expected 1 fields, saw 3\\nSkipping line 45084: expected 1 fields, saw 2\\nSkipping line 45090: expected 1 fields, saw 3\\nSkipping line 45092: expected 1 fields, saw 3\\nSkipping line 45178: expected 1 fields, saw 3\\nSkipping line 45185: expected 1 fields, saw 3\\nSkipping line 45374: expected 1 fields, saw 2\\nSkipping line 45417: expected 1 fields, saw 2\\nSkipping line 45438: expected 1 fields, saw 2\\nSkipping line 45453: expected 1 fields, saw 2\\nSkipping line 45608: expected 1 fields, saw 2\\nSkipping line 46047: expected 1 fields, saw 4\\nSkipping line 46060: expected 1 fields, saw 3\\nSkipping line 46083: expected 1 fields, saw 3\\nSkipping line 46098: expected 1 fields, saw 2\\nSkipping line 46253: expected 1 fields, saw 3\\nSkipping line 46335: expected 1 fields, saw 2\\nSkipping line 46348: expected 1 fields, saw 2\\nSkipping line 46379: expected 1 fields, saw 2\\nSkipping line 46466: expected 1 fields, saw 2\\nSkipping line 46500: expected 1 fields, saw 2\\nSkipping line 46507: expected 1 fields, saw 2\\nSkipping line 46545: expected 1 fields, saw 2\\nSkipping line 46554: expected 1 fields, saw 3\\nSkipping line 46566: expected 1 fields, saw 2\\nSkipping line 46586: expected 1 fields, saw 2\\nSkipping line 46618: expected 1 fields, saw 3\\nSkipping line 46631: expected 1 fields, saw 2\\nSkipping line 46644: expected 1 fields, saw 2\\nSkipping line 46697: expected 1 fields, saw 3\\nSkipping line 46701: expected 1 fields, saw 2\\nSkipping line 46715: expected 1 fields, saw 2\\nSkipping line 46732: expected 1 fields, saw 2\\nSkipping line 46747: expected 1 fields, saw 2\\nSkipping line 46766: expected 1 fields, saw 3\\nSkipping line 46811: expected 1 fields, saw 2\\nSkipping line 46827: expected 1 fields, saw 2\\nSkipping line 46839: expected 1 fields, saw 2\\nSkipping line 46905: expected 1 fields, saw 2\\nSkipping line 46987: expected 1 fields, saw 2\\nSkipping line 46989: expected 1 fields, saw 2\\nSkipping line 47016: expected 1 fields, saw 2\\nSkipping line 47038: expected 1 fields, saw 2\\nSkipping line 47074: expected 1 fields, saw 2\\nSkipping line 47189: expected 1 fields, saw 2\\nSkipping line 47206: expected 1 fields, saw 5\\nSkipping line 47208: expected 1 fields, saw 2\\nSkipping line 47235: expected 1 fields, saw 3\\nSkipping line 47271: expected 1 fields, saw 5\\nSkipping line 47323: expected 1 fields, saw 2\\nSkipping line 47358: expected 1 fields, saw 2\\nSkipping line 47379: expected 1 fields, saw 2\\nSkipping line 47404: expected 1 fields, saw 2\\nSkipping line 47460: expected 1 fields, saw 3\\nSkipping line 47477: expected 1 fields, saw 2\\nSkipping line 47513: expected 1 fields, saw 3\\nSkipping line 47632: expected 1 fields, saw 3\\nSkipping line 47636: expected 1 fields, saw 2\\nSkipping line 47664: expected 1 fields, saw 2\\nSkipping line 47683: expected 1 fields, saw 2\\nSkipping line 47691: expected 1 fields, saw 2\\nSkipping line 47696: expected 1 fields, saw 2\\nSkipping line 47721: expected 1 fields, saw 2\\nSkipping line 47724: expected 1 fields, saw 2\\nSkipping line 47806: expected 1 fields, saw 2\\nSkipping line 47821: expected 1 fields, saw 3\\nSkipping line 47829: expected 1 fields, saw 2\\nSkipping line 47849: expected 1 fields, saw 2\\nSkipping line 47873: expected 1 fields, saw 3\\nSkipping line 47892: expected 1 fields, saw 2\\nSkipping line 47928: expected 1 fields, saw 2\\nSkipping line 48027: expected 1 fields, saw 2\\nSkipping line 48038: expected 1 fields, saw 2\\nSkipping line 48057: expected 1 fields, saw 2\\nSkipping line 48135: expected 1 fields, saw 3\\nSkipping line 48137: expected 1 fields, saw 2\\nSkipping line 48158: expected 1 fields, saw 2\\nSkipping line 48211: expected 1 fields, saw 2\\nSkipping line 48241: expected 1 fields, saw 3\\nSkipping line 48373: expected 1 fields, saw 2\\nSkipping line 48448: expected 1 fields, saw 2\\nSkipping line 48573: expected 1 fields, saw 2\\nSkipping line 48688: expected 1 fields, saw 2\\nSkipping line 48846: expected 1 fields, saw 2\\nSkipping line 48910: expected 1 fields, saw 2\\nSkipping line 48962: expected 1 fields, saw 4\\nSkipping line 49090: expected 1 fields, saw 4\\nSkipping line 49135: expected 1 fields, saw 2\\nSkipping line 49141: expected 1 fields, saw 2\\nSkipping line 49186: expected 1 fields, saw 2\\nSkipping line 49449: expected 1 fields, saw 2\\nSkipping line 49450: expected 1 fields, saw 3\\nSkipping line 49462: expected 1 fields, saw 3\\nSkipping line 49487: expected 1 fields, saw 2\\nSkipping line 49532: expected 1 fields, saw 2\\nSkipping line 49533: expected 1 fields, saw 2\\nSkipping line 49556: expected 1 fields, saw 2\\nSkipping line 49705: expected 1 fields, saw 3\\nSkipping line 49869: expected 1 fields, saw 4\\nSkipping line 49940: expected 1 fields, saw 2\\nSkipping line 50057: expected 1 fields, saw 4\\nSkipping line 50067: expected 1 fields, saw 2\\nSkipping line 50115: expected 1 fields, saw 2\\nSkipping line 50154: expected 1 fields, saw 2\\nSkipping line 50215: expected 1 fields, saw 3\\nSkipping line 50287: expected 1 fields, saw 3\\nSkipping line 50526: expected 1 fields, saw 2\\nSkipping line 50706: expected 1 fields, saw 2\\nSkipping line 50806: expected 1 fields, saw 2\\nSkipping line 50821: expected 1 fields, saw 2\\nSkipping line 50973: expected 1 fields, saw 2\\nSkipping line 51498: expected 1 fields, saw 2\\nSkipping line 51623: expected 1 fields, saw 2\\nSkipping line 51629: expected 1 fields, saw 3\\nSkipping line 51758: expected 1 fields, saw 3\\nSkipping line 51797: expected 1 fields, saw 3\\nSkipping line 51827: expected 1 fields, saw 2\\nSkipping line 52207: expected 1 fields, saw 2\\nSkipping line 52213: expected 1 fields, saw 2\\nSkipping line 52347: expected 1 fields, saw 3\\nSkipping line 52354: expected 1 fields, saw 2\\nSkipping line 52408: expected 1 fields, saw 2\\nSkipping line 52469: expected 1 fields, saw 2\\nSkipping line 52502: expected 1 fields, saw 2\\nSkipping line 52578: expected 1 fields, saw 2\\nSkipping line 52640: expected 1 fields, saw 2\\nSkipping line 52682: expected 1 fields, saw 2\\nSkipping line 52683: expected 1 fields, saw 2\\nSkipping line 52689: expected 1 fields, saw 2\\nSkipping line 52741: expected 1 fields, saw 2\\nSkipping line 52796: expected 1 fields, saw 2\\nSkipping line 52799: expected 1 fields, saw 2\\nSkipping line 52824: expected 1 fields, saw 2\\nSkipping line 52825: expected 1 fields, saw 2\\nSkipping line 52839: expected 1 fields, saw 2\\nSkipping line 52880: expected 1 fields, saw 2\\nSkipping line 52892: expected 1 fields, saw 3\\nSkipping line 52944: expected 1 fields, saw 2\\nSkipping line 52988: expected 1 fields, saw 2\\nSkipping line 53025: expected 1 fields, saw 2\\nSkipping line 53055: expected 1 fields, saw 3\\nSkipping line 53079: expected 1 fields, saw 2\\nSkipping line 53142: expected 1 fields, saw 2\\nSkipping line 53215: expected 1 fields, saw 2\\nSkipping line 53265: expected 1 fields, saw 3\\nSkipping line 53294: expected 1 fields, saw 2\\nSkipping line 53397: expected 1 fields, saw 3\\nSkipping line 53447: expected 1 fields, saw 3\\nSkipping line 53493: expected 1 fields, saw 2\\nSkipping line 53506: expected 1 fields, saw 2\\nSkipping line 53536: expected 1 fields, saw 2\\nSkipping line 53612: expected 1 fields, saw 2\\nSkipping line 53652: expected 1 fields, saw 4\\nSkipping line 53714: expected 1 fields, saw 2\\nSkipping line 53739: expected 1 fields, saw 3\\nSkipping line 53747: expected 1 fields, saw 3\\nSkipping line 53749: expected 1 fields, saw 2\\nSkipping line 53766: expected 1 fields, saw 2\\nSkipping line 53775: expected 1 fields, saw 2\\nSkipping line 53854: expected 1 fields, saw 3\\nSkipping line 53873: expected 1 fields, saw 6\\nSkipping line 53883: expected 1 fields, saw 3\\nSkipping line 53910: expected 1 fields, saw 3\\nSkipping line 53916: expected 1 fields, saw 2\\nSkipping line 53919: expected 1 fields, saw 2\\nSkipping line 53970: expected 1 fields, saw 2\\nSkipping line 54084: expected 1 fields, saw 2\\nSkipping line 54109: expected 1 fields, saw 6\\nSkipping line 54111: expected 1 fields, saw 2\\nSkipping line 54181: expected 1 fields, saw 3\\nSkipping line 54211: expected 1 fields, saw 3\\nSkipping line 54274: expected 1 fields, saw 8\\nSkipping line 54303: expected 1 fields, saw 2\\nSkipping line 54305: expected 1 fields, saw 2\\nSkipping line 54488: expected 1 fields, saw 3\\nSkipping line 54530: expected 1 fields, saw 2\\nSkipping line 54642: expected 1 fields, saw 2\\nSkipping line 54739: expected 1 fields, saw 2\\nSkipping line 54814: expected 1 fields, saw 2\\nSkipping line 54885: expected 1 fields, saw 2\\nSkipping line 54977: expected 1 fields, saw 2\\nSkipping line 55097: expected 1 fields, saw 3\\nSkipping line 55184: expected 1 fields, saw 3\\nSkipping line 55186: expected 1 fields, saw 3\\nSkipping line 55224: expected 1 fields, saw 2\\nSkipping line 55277: expected 1 fields, saw 2\\nSkipping line 55281: expected 1 fields, saw 2\\nSkipping line 55372: expected 1 fields, saw 2\\nSkipping line 55428: expected 1 fields, saw 2\\nSkipping line 55437: expected 1 fields, saw 4\\nSkipping line 55489: expected 1 fields, saw 3\\nSkipping line 55493: expected 1 fields, saw 2\\nSkipping line 55599: expected 1 fields, saw 2\\nSkipping line 55655: expected 1 fields, saw 2\\nSkipping line 55706: expected 1 fields, saw 2\\nSkipping line 55744: expected 1 fields, saw 3\\nSkipping line 55864: expected 1 fields, saw 2\\nSkipping line 56016: expected 1 fields, saw 2\\nSkipping line 56026: expected 1 fields, saw 3\\nSkipping line 56067: expected 1 fields, saw 2\\nSkipping line 56220: expected 1 fields, saw 3\\nSkipping line 56286: expected 1 fields, saw 3\\nSkipping line 56408: expected 1 fields, saw 3\\nSkipping line 56415: expected 1 fields, saw 3\\nSkipping line 56488: expected 1 fields, saw 4\\nSkipping line 56554: expected 1 fields, saw 2\\nSkipping line 56649: expected 1 fields, saw 2\\nSkipping line 56743: expected 1 fields, saw 2\\nSkipping line 56750: expected 1 fields, saw 2\\nSkipping line 56808: expected 1 fields, saw 2\\nSkipping line 56893: expected 1 fields, saw 2\\nSkipping line 56919: expected 1 fields, saw 4\\nSkipping line 56926: expected 1 fields, saw 2\\nSkipping line 56937: expected 1 fields, saw 4\\nSkipping line 56950: expected 1 fields, saw 2\\nSkipping line 56963: expected 1 fields, saw 3\\nSkipping line 57022: expected 1 fields, saw 3\\nSkipping line 57077: expected 1 fields, saw 2\\nSkipping line 57089: expected 1 fields, saw 2\\nSkipping line 57111: expected 1 fields, saw 2\\nSkipping line 57135: expected 1 fields, saw 3\\nSkipping line 57181: expected 1 fields, saw 3\\nSkipping line 57205: expected 1 fields, saw 2\\nSkipping line 57222: expected 1 fields, saw 2\\nSkipping line 57388: expected 1 fields, saw 4\\nSkipping line 57531: expected 1 fields, saw 4\\nSkipping line 57600: expected 1 fields, saw 3\\nSkipping line 57678: expected 1 fields, saw 3\\nSkipping line 57710: expected 1 fields, saw 3\\nSkipping line 57753: expected 1 fields, saw 3\\nSkipping line 57916: expected 1 fields, saw 2\\nSkipping line 57917: expected 1 fields, saw 2\\nSkipping line 58048: expected 1 fields, saw 3\\nSkipping line 58059: expected 1 fields, saw 3\\nSkipping line 58064: expected 1 fields, saw 2\\nSkipping line 58069: expected 1 fields, saw 3\\nSkipping line 58148: expected 1 fields, saw 3\\nSkipping line 58169: expected 1 fields, saw 2\\nSkipping line 58277: expected 1 fields, saw 2\\nSkipping line 58478: expected 1 fields, saw 3\\nSkipping line 58660: expected 1 fields, saw 3\\nSkipping line 58713: expected 1 fields, saw 2\\nSkipping line 58804: expected 1 fields, saw 3\\nSkipping line 58881: expected 1 fields, saw 2\\nSkipping line 58916: expected 1 fields, saw 8\\nSkipping line 59116: expected 1 fields, saw 7\\nSkipping line 59264: expected 1 fields, saw 8\\nSkipping line 59290: expected 1 fields, saw 2\\nSkipping line 59311: expected 1 fields, saw 3\\nSkipping line 59326: expected 1 fields, saw 3\\nSkipping line 59371: expected 1 fields, saw 2\\nSkipping line 59383: expected 1 fields, saw 3\\nSkipping line 59486: expected 1 fields, saw 2\\nSkipping line 59549: expected 1 fields, saw 2\\nSkipping line 59558: expected 1 fields, saw 8\\nSkipping line 59559: expected 1 fields, saw 8\\nSkipping line 59568: expected 1 fields, saw 2\\nSkipping line 59728: expected 1 fields, saw 7\\nSkipping line 59882: expected 1 fields, saw 2\\nSkipping line 59892: expected 1 fields, saw 2\\nSkipping line 59933: expected 1 fields, saw 2\\nSkipping line 59954: expected 1 fields, saw 3\\nSkipping line 59958: expected 1 fields, saw 2\\nSkipping line 59996: expected 1 fields, saw 2\\nSkipping line 60147: expected 1 fields, saw 3\\nSkipping line 60170: expected 1 fields, saw 2\\nSkipping line 60179: expected 1 fields, saw 2\\nSkipping line 60187: expected 1 fields, saw 2\\nSkipping line 60255: expected 1 fields, saw 2\\nSkipping line 60315: expected 1 fields, saw 2\\nSkipping line 60487: expected 1 fields, saw 3\\nSkipping line 60673: expected 1 fields, saw 3\\nSkipping line 60697: expected 1 fields, saw 3\\nSkipping line 60771: expected 1 fields, saw 3\\nSkipping line 60773: expected 1 fields, saw 3\\nSkipping line 60821: expected 1 fields, saw 3\\nSkipping line 61070: expected 1 fields, saw 2\\nSkipping line 61137: expected 1 fields, saw 2\\nSkipping line 61147: expected 1 fields, saw 2\\nSkipping line 61483: expected 1 fields, saw 2\\nSkipping line 61561: expected 1 fields, saw 2\\nSkipping line 61575: expected 1 fields, saw 2\\nSkipping line 61614: expected 1 fields, saw 2\\nSkipping line 61666: expected 1 fields, saw 3\\nSkipping line 61693: expected 1 fields, saw 2\\nSkipping line 61719: expected 1 fields, saw 2\\nSkipping line 61793: expected 1 fields, saw 2\\nSkipping line 61797: expected 1 fields, saw 2\\nSkipping line 61836: expected 1 fields, saw 3\\nSkipping line 61852: expected 1 fields, saw 2\\nSkipping line 61863: expected 1 fields, saw 2\\nSkipping line 61916: expected 1 fields, saw 2\\nSkipping line 61931: expected 1 fields, saw 3\\nSkipping line 61949: expected 1 fields, saw 2\\nSkipping line 61960: expected 1 fields, saw 3\\nSkipping line 61968: expected 1 fields, saw 3\\nSkipping line 62011: expected 1 fields, saw 3\\nSkipping line 62060: expected 1 fields, saw 2\\nSkipping line 62065: expected 1 fields, saw 3\\nSkipping line 62066: expected 1 fields, saw 3\\nSkipping line 62214: expected 1 fields, saw 4\\nSkipping line 62258: expected 1 fields, saw 2\\nSkipping line 62399: expected 1 fields, saw 2\\nSkipping line 62410: expected 1 fields, saw 3\\nSkipping line 62501: expected 1 fields, saw 4\\nSkipping line 62538: expected 1 fields, saw 3\\nSkipping line 62604: expected 1 fields, saw 2\\nSkipping line 62646: expected 1 fields, saw 4\\nSkipping line 62673: expected 1 fields, saw 2\\nSkipping line 62718: expected 1 fields, saw 2\\nSkipping line 62740: expected 1 fields, saw 3\\nSkipping line 62759: expected 1 fields, saw 2\\nSkipping line 62761: expected 1 fields, saw 2\\nSkipping line 62763: expected 1 fields, saw 2\\nSkipping line 62777: expected 1 fields, saw 3\\nSkipping line 62868: expected 1 fields, saw 2\\nSkipping line 62869: expected 1 fields, saw 2\\nSkipping line 62892: expected 1 fields, saw 2\\nSkipping line 62931: expected 1 fields, saw 3\\nSkipping line 62936: expected 1 fields, saw 2\\nSkipping line 62960: expected 1 fields, saw 2\\nSkipping line 62966: expected 1 fields, saw 4\\nSkipping line 62976: expected 1 fields, saw 3\\nSkipping line 63030: expected 1 fields, saw 2\\nSkipping line 63040: expected 1 fields, saw 2\\nSkipping line 63107: expected 1 fields, saw 2\\nSkipping line 63125: expected 1 fields, saw 2\\nSkipping line 63186: expected 1 fields, saw 2\\nSkipping line 63356: expected 1 fields, saw 3\\nSkipping line 63380: expected 1 fields, saw 3\\nSkipping line 63401: expected 1 fields, saw 2\\nSkipping line 63446: expected 1 fields, saw 2\\nSkipping line 63574: expected 1 fields, saw 2\\nSkipping line 63600: expected 1 fields, saw 3\\nSkipping line 63622: expected 1 fields, saw 2\\nSkipping line 63695: expected 1 fields, saw 2\\nSkipping line 63747: expected 1 fields, saw 5\\nSkipping line 63776: expected 1 fields, saw 3\\nSkipping line 63791: expected 1 fields, saw 2\\nSkipping line 63826: expected 1 fields, saw 3\\nSkipping line 63832: expected 1 fields, saw 3\\nSkipping line 63870: expected 1 fields, saw 2\\nSkipping line 63984: expected 1 fields, saw 2\\nSkipping line 64008: expected 1 fields, saw 2\\nSkipping line 64018: expected 1 fields, saw 2\\nSkipping line 64036: expected 1 fields, saw 2\\nSkipping line 64103: expected 1 fields, saw 2\\nSkipping line 64116: expected 1 fields, saw 3\\nSkipping line 64180: expected 1 fields, saw 3\\nSkipping line 64247: expected 1 fields, saw 3\\nSkipping line 64289: expected 1 fields, saw 2\\nSkipping line 64319: expected 1 fields, saw 2\\nSkipping line 64323: expected 1 fields, saw 2\\nSkipping line 64328: expected 1 fields, saw 3\\nSkipping line 64359: expected 1 fields, saw 2\\nSkipping line 64383: expected 1 fields, saw 3\\nSkipping line 64398: expected 1 fields, saw 4\\nSkipping line 64482: expected 1 fields, saw 3\\nSkipping line 64562: expected 1 fields, saw 2\\nSkipping line 64593: expected 1 fields, saw 2\\nSkipping line 64595: expected 1 fields, saw 2\\nSkipping line 64639: expected 1 fields, saw 5\\nSkipping line 64640: expected 1 fields, saw 2\\nSkipping line 64684: expected 1 fields, saw 3\\nSkipping line 64705: expected 1 fields, saw 3\\nSkipping line 64718: expected 1 fields, saw 3\\nSkipping line 64747: expected 1 fields, saw 4\\nSkipping line 64757: expected 1 fields, saw 3\\nSkipping line 64810: expected 1 fields, saw 2\\nSkipping line 64994: expected 1 fields, saw 3\\nSkipping line 65040: expected 1 fields, saw 3\\nSkipping line 65098: expected 1 fields, saw 2\\nSkipping line 65135: expected 1 fields, saw 3\\nSkipping line 65149: expected 1 fields, saw 3\\nSkipping line 65152: expected 1 fields, saw 2\\nSkipping line 65186: expected 1 fields, saw 2\\nSkipping line 65266: expected 1 fields, saw 4\\nSkipping line 65280: expected 1 fields, saw 2\\nSkipping line 65300: expected 1 fields, saw 2\\nSkipping line 65311: expected 1 fields, saw 2\\nSkipping line 65383: expected 1 fields, saw 2\\nSkipping line 65384: expected 1 fields, saw 5\\nSkipping line 65417: expected 1 fields, saw 2\\nSkipping line 65472: expected 1 fields, saw 4\\nSkipping line 65559: expected 1 fields, saw 2\\nSkipping line 65587: expected 1 fields, saw 3\\nSkipping line 65599: expected 1 fields, saw 2\\nSkipping line 65638: expected 1 fields, saw 2\\nSkipping line 65681: expected 1 fields, saw 3\\nSkipping line 65689: expected 1 fields, saw 3\\nSkipping line 65721: expected 1 fields, saw 5\\nSkipping line 65722: expected 1 fields, saw 2\\nSkipping line 65740: expected 1 fields, saw 2\\nSkipping line 65744: expected 1 fields, saw 3\\nSkipping line 65761: expected 1 fields, saw 2\\nSkipping line 65780: expected 1 fields, saw 2\\nSkipping line 65784: expected 1 fields, saw 5\\nSkipping line 65787: expected 1 fields, saw 2\\nSkipping line 65789: expected 1 fields, saw 3\\nSkipping line 65814: expected 1 fields, saw 2\\nSkipping line 65816: expected 1 fields, saw 2\\nSkipping line 65889: expected 1 fields, saw 2\\nSkipping line 65929: expected 1 fields, saw 2\\nSkipping line 65946: expected 1 fields, saw 2\\nSkipping line 65958: expected 1 fields, saw 3\\nSkipping line 65959: expected 1 fields, saw 3\\nSkipping line 65969: expected 1 fields, saw 2\\nSkipping line 66006: expected 1 fields, saw 3\\nSkipping line 66048: expected 1 fields, saw 2\\nSkipping line 66103: expected 1 fields, saw 2\\nSkipping line 66120: expected 1 fields, saw 2\\nSkipping line 66157: expected 1 fields, saw 2\\nSkipping line 66184: expected 1 fields, saw 2\\nSkipping line 66474: expected 1 fields, saw 3\\nSkipping line 66475: expected 1 fields, saw 2\\nSkipping line 66480: expected 1 fields, saw 2\\nSkipping line 66489: expected 1 fields, saw 2\\nSkipping line 66510: expected 1 fields, saw 2\\nSkipping line 66587: expected 1 fields, saw 2\\nSkipping line 66718: expected 1 fields, saw 3\\nSkipping line 66735: expected 1 fields, saw 2\\nSkipping line 66777: expected 1 fields, saw 3\\nSkipping line 66876: expected 1 fields, saw 3\\nSkipping line 66918: expected 1 fields, saw 3\\nSkipping line 66978: expected 1 fields, saw 2\\nSkipping line 67024: expected 1 fields, saw 2\\nSkipping line 67038: expected 1 fields, saw 2\\nSkipping line 67045: expected 1 fields, saw 2\\nSkipping line 67120: expected 1 fields, saw 2\\nSkipping line 67172: expected 1 fields, saw 2\\nSkipping line 67225: expected 1 fields, saw 3\\nSkipping line 67245: expected 1 fields, saw 2\\nSkipping line 67295: expected 1 fields, saw 2\\nSkipping line 67307: expected 1 fields, saw 2\\nSkipping line 67327: expected 1 fields, saw 2\\nSkipping line 67356: expected 1 fields, saw 3\\nSkipping line 67439: expected 1 fields, saw 3\\nSkipping line 67583: expected 1 fields, saw 3\\nSkipping line 67700: expected 1 fields, saw 5\\nSkipping line 67721: expected 1 fields, saw 3\\nSkipping line 67723: expected 1 fields, saw 3\\nSkipping line 67822: expected 1 fields, saw 2\\nSkipping line 67911: expected 1 fields, saw 3\\nSkipping line 67972: expected 1 fields, saw 2\\nSkipping line 67989: expected 1 fields, saw 2\\nSkipping line 67992: expected 1 fields, saw 3\\nSkipping line 68170: expected 1 fields, saw 2\\nSkipping line 68263: expected 1 fields, saw 3\\nSkipping line 68389: expected 1 fields, saw 3\\nSkipping line 68403: expected 1 fields, saw 5\\nSkipping line 68444: expected 1 fields, saw 3\\nSkipping line 68485: expected 1 fields, saw 2\\nSkipping line 68489: expected 1 fields, saw 3\\nSkipping line 68571: expected 1 fields, saw 2\\nSkipping line 68593: expected 1 fields, saw 2\\nSkipping line 68703: expected 1 fields, saw 2\\nSkipping line 68716: expected 1 fields, saw 2\\nSkipping line 68801: expected 1 fields, saw 2\\nSkipping line 68874: expected 1 fields, saw 2\\nSkipping line 68910: expected 1 fields, saw 2\\nSkipping line 69039: expected 1 fields, saw 3\\nSkipping line 69051: expected 1 fields, saw 2\\nSkipping line 69061: expected 1 fields, saw 2\\nSkipping line 69062: expected 1 fields, saw 5\\nSkipping line 69067: expected 1 fields, saw 2\\nSkipping line 69068: expected 1 fields, saw 2\\nSkipping line 69173: expected 1 fields, saw 5\\nSkipping line 69220: expected 1 fields, saw 3\\nSkipping line 69222: expected 1 fields, saw 2\\nSkipping line 69288: expected 1 fields, saw 3\\nSkipping line 69293: expected 1 fields, saw 3\\nSkipping line 69295: expected 1 fields, saw 2\\nSkipping line 69448: expected 1 fields, saw 2\\nSkipping line 69456: expected 1 fields, saw 2\\nSkipping line 69614: expected 1 fields, saw 2\\nSkipping line 69793: expected 1 fields, saw 2\\nSkipping line 69888: expected 1 fields, saw 2\\nSkipping line 69917: expected 1 fields, saw 2\\nSkipping line 70078: expected 1 fields, saw 2\\nSkipping line 70111: expected 1 fields, saw 2\\nSkipping line 70159: expected 1 fields, saw 3\\nSkipping line 70213: expected 1 fields, saw 2\\nSkipping line 70416: expected 1 fields, saw 2\\nSkipping line 70436: expected 1 fields, saw 2\\nSkipping line 70515: expected 1 fields, saw 2\\nSkipping line 70588: expected 1 fields, saw 3\\nSkipping line 70599: expected 1 fields, saw 2\\nSkipping line 70689: expected 1 fields, saw 2\\nSkipping line 70743: expected 1 fields, saw 2\\nSkipping line 70870: expected 1 fields, saw 3\\nSkipping line 70875: expected 1 fields, saw 2\\nSkipping line 71193: expected 1 fields, saw 2\\nSkipping line 71278: expected 1 fields, saw 2\\nSkipping line 71334: expected 1 fields, saw 3\\nSkipping line 71379: expected 1 fields, saw 2\\nSkipping line 71425: expected 1 fields, saw 2\\nSkipping line 71456: expected 1 fields, saw 2\\nSkipping line 71614: expected 1 fields, saw 3\\nSkipping line 71682: expected 1 fields, saw 2\\nSkipping line 71702: expected 1 fields, saw 2\\nSkipping line 71816: expected 1 fields, saw 3\\nSkipping line 71907: expected 1 fields, saw 2\\nSkipping line 71997: expected 1 fields, saw 2\\nSkipping line 72025: expected 1 fields, saw 3\\nSkipping line 72032: expected 1 fields, saw 2\\nSkipping line 72043: expected 1 fields, saw 2\\nSkipping line 72056: expected 1 fields, saw 3\\nSkipping line 72099: expected 1 fields, saw 2\\nSkipping line 72167: expected 1 fields, saw 2\\nSkipping line 72216: expected 1 fields, saw 4\\nSkipping line 72262: expected 1 fields, saw 2\\nSkipping line 72297: expected 1 fields, saw 2\\nSkipping line 72298: expected 1 fields, saw 2\\nSkipping line 72312: expected 1 fields, saw 3\\nSkipping line 72324: expected 1 fields, saw 2\\nSkipping line 72338: expected 1 fields, saw 2\\nSkipping line 72341: expected 1 fields, saw 2\\nSkipping line 72344: expected 1 fields, saw 2\\nSkipping line 72373: expected 1 fields, saw 2\\nSkipping line 72396: expected 1 fields, saw 2\\nSkipping line 72417: expected 1 fields, saw 2\\nSkipping line 72456: expected 1 fields, saw 2\\nSkipping line 72461: expected 1 fields, saw 2\\nSkipping line 72471: expected 1 fields, saw 2\\nSkipping line 72508: expected 1 fields, saw 2\\nSkipping line 72551: expected 1 fields, saw 2\\nSkipping line 72554: expected 1 fields, saw 2\\nSkipping line 72608: expected 1 fields, saw 2\\nSkipping line 72618: expected 1 fields, saw 2\\nSkipping line 72626: expected 1 fields, saw 2\\nSkipping line 72634: expected 1 fields, saw 2\\nSkipping line 72692: expected 1 fields, saw 2\\nSkipping line 72708: expected 1 fields, saw 2\\nSkipping line 72795: expected 1 fields, saw 2\\nSkipping line 72818: expected 1 fields, saw 2\\nSkipping line 72839: expected 1 fields, saw 2\\nSkipping line 72877: expected 1 fields, saw 2\\nSkipping line 72899: expected 1 fields, saw 3\\nSkipping line 72906: expected 1 fields, saw 2\\nSkipping line 72932: expected 1 fields, saw 2\\nSkipping line 73049: expected 1 fields, saw 2\\nSkipping line 73058: expected 1 fields, saw 2\\nSkipping line 73072: expected 1 fields, saw 2\\nSkipping line 73082: expected 1 fields, saw 2\\nSkipping line 73107: expected 1 fields, saw 2\\nSkipping line 73109: expected 1 fields, saw 3\\nSkipping line 73114: expected 1 fields, saw 2\\nSkipping line 73124: expected 1 fields, saw 2\\nSkipping line 73135: expected 1 fields, saw 2\\nSkipping line 73138: expected 1 fields, saw 2\\nSkipping line 73157: expected 1 fields, saw 2\\nSkipping line 73175: expected 1 fields, saw 2\\nSkipping line 73188: expected 1 fields, saw 2\\nSkipping line 73205: expected 1 fields, saw 5\\nSkipping line 73216: expected 1 fields, saw 2\\nSkipping line 73227: expected 1 fields, saw 2\\nSkipping line 73233: expected 1 fields, saw 2\\nSkipping line 73249: expected 1 fields, saw 2\\nSkipping line 73285: expected 1 fields, saw 2\\nSkipping line 73320: expected 1 fields, saw 3\\nSkipping line 73345: expected 1 fields, saw 2\\nSkipping line 73404: expected 1 fields, saw 2\\nSkipping line 73423: expected 1 fields, saw 2\\nSkipping line 73430: expected 1 fields, saw 2\\nSkipping line 73434: expected 1 fields, saw 3\\nSkipping line 73437: expected 1 fields, saw 2\\nSkipping line 73442: expected 1 fields, saw 2\\nSkipping line 73447: expected 1 fields, saw 3\\nSkipping line 73450: expected 1 fields, saw 2\\nSkipping line 73456: expected 1 fields, saw 2\\nSkipping line 73487: expected 1 fields, saw 2\\nSkipping line 73497: expected 1 fields, saw 2\\nSkipping line 73560: expected 1 fields, saw 2\\nSkipping line 73580: expected 1 fields, saw 3\\nSkipping line 73593: expected 1 fields, saw 2\\nSkipping line 73598: expected 1 fields, saw 2\\nSkipping line 73600: expected 1 fields, saw 2\\nSkipping line 73609: expected 1 fields, saw 2\\nSkipping line 73738: expected 1 fields, saw 2\\nSkipping line 73762: expected 1 fields, saw 2\\nSkipping line 73795: expected 1 fields, saw 4\\nSkipping line 73838: expected 1 fields, saw 2\\nSkipping line 73839: expected 1 fields, saw 3\\nSkipping line 73890: expected 1 fields, saw 3\\nSkipping line 73998: expected 1 fields, saw 4\\nSkipping line 74019: expected 1 fields, saw 2\\nSkipping line 74031: expected 1 fields, saw 2\\nSkipping line 74079: expected 1 fields, saw 3\\nSkipping line 74081: expected 1 fields, saw 2\\nSkipping line 74105: expected 1 fields, saw 2\\nSkipping line 74119: expected 1 fields, saw 2\\nSkipping line 74133: expected 1 fields, saw 3\\nSkipping line 74141: expected 1 fields, saw 5\\nSkipping line 74173: expected 1 fields, saw 2\\nSkipping line 74195: expected 1 fields, saw 2\\nSkipping line 74211: expected 1 fields, saw 2\\nSkipping line 74229: expected 1 fields, saw 3\\nSkipping line 74279: expected 1 fields, saw 2\\nSkipping line 74292: expected 1 fields, saw 2\\nSkipping line 74302: expected 1 fields, saw 2\\nSkipping line 74347: expected 1 fields, saw 2\\nSkipping line 74422: expected 1 fields, saw 4\\nSkipping line 74440: expected 1 fields, saw 2\\nSkipping line 74459: expected 1 fields, saw 3\\nSkipping line 74494: expected 1 fields, saw 5\\nSkipping line 74504: expected 1 fields, saw 2\\nSkipping line 74511: expected 1 fields, saw 3\\nSkipping line 74536: expected 1 fields, saw 2\\nSkipping line 74661: expected 1 fields, saw 4\\nSkipping line 74729: expected 1 fields, saw 2\\nSkipping line 74783: expected 1 fields, saw 2\\nSkipping line 74792: expected 1 fields, saw 3\\nSkipping line 74828: expected 1 fields, saw 3\\nSkipping line 74832: expected 1 fields, saw 2\\nSkipping line 74973: expected 1 fields, saw 2\\nSkipping line 75118: expected 1 fields, saw 2\\nSkipping line 75419: expected 1 fields, saw 3\\nSkipping line 75473: expected 1 fields, saw 2\\nSkipping line 75510: expected 1 fields, saw 3\\nSkipping line 75511: expected 1 fields, saw 2\\nSkipping line 75534: expected 1 fields, saw 2\\nSkipping line 75856: expected 1 fields, saw 2\\nSkipping line 76238: expected 1 fields, saw 2\\nSkipping line 76260: expected 1 fields, saw 2\\nSkipping line 76306: expected 1 fields, saw 2\\nSkipping line 76338: expected 1 fields, saw 3\\nSkipping line 76382: expected 1 fields, saw 3\\nSkipping line 76409: expected 1 fields, saw 2\\nSkipping line 76656: expected 1 fields, saw 2\\nSkipping line 76691: expected 1 fields, saw 2\\nSkipping line 76792: expected 1 fields, saw 2\\nSkipping line 76827: expected 1 fields, saw 2\\nSkipping line 76845: expected 1 fields, saw 3\\nSkipping line 76909: expected 1 fields, saw 4\\nSkipping line 76987: expected 1 fields, saw 2\\nSkipping line 77013: expected 1 fields, saw 2\\nSkipping line 77019: expected 1 fields, saw 4\\nSkipping line 77066: expected 1 fields, saw 2\\nSkipping line 77091: expected 1 fields, saw 2\\nSkipping line 77095: expected 1 fields, saw 3\\nSkipping line 77223: expected 1 fields, saw 2\\nSkipping line 77265: expected 1 fields, saw 2\\nSkipping line 77319: expected 1 fields, saw 3\\nSkipping line 77355: expected 1 fields, saw 2\\nSkipping line 77357: expected 1 fields, saw 2\\nSkipping line 77360: expected 1 fields, saw 4\\nSkipping line 77400: expected 1 fields, saw 2\\nSkipping line 77407: expected 1 fields, saw 3\\nSkipping line 77469: expected 1 fields, saw 3\\nSkipping line 77471: expected 1 fields, saw 2\\nSkipping line 77486: expected 1 fields, saw 2\\nSkipping line 77499: expected 1 fields, saw 3\\nSkipping line 77579: expected 1 fields, saw 2\\nSkipping line 77585: expected 1 fields, saw 3\\nSkipping line 77642: expected 1 fields, saw 2\\nSkipping line 77644: expected 1 fields, saw 2\\nSkipping line 77674: expected 1 fields, saw 2\\nSkipping line 77678: expected 1 fields, saw 2\\nSkipping line 77703: expected 1 fields, saw 4\\nSkipping line 77713: expected 1 fields, saw 3\\nSkipping line 77717: expected 1 fields, saw 2\\nSkipping line 77719: expected 1 fields, saw 2\\nSkipping line 77745: expected 1 fields, saw 3\\nSkipping line 77837: expected 1 fields, saw 3\\nSkipping line 77869: expected 1 fields, saw 2\\nSkipping line 77874: expected 1 fields, saw 2\\nSkipping line 77920: expected 1 fields, saw 3\\nSkipping line 78030: expected 1 fields, saw 2\\nSkipping line 78141: expected 1 fields, saw 2\\nSkipping line 78183: expected 1 fields, saw 2\\nSkipping line 78238: expected 1 fields, saw 2\\nSkipping line 78368: expected 1 fields, saw 2\\nSkipping line 78374: expected 1 fields, saw 2\\nSkipping line 78396: expected 1 fields, saw 2\\nSkipping line 78511: expected 1 fields, saw 2\\nSkipping line 78592: expected 1 fields, saw 2\\nSkipping line 78608: expected 1 fields, saw 2\\nSkipping line 78669: expected 1 fields, saw 4\\nSkipping line 78755: expected 1 fields, saw 6\\nSkipping line 78757: expected 1 fields, saw 3\\nSkipping line 78766: expected 1 fields, saw 2\\nSkipping line 78819: expected 1 fields, saw 3\\nSkipping line 78855: expected 1 fields, saw 3\\nSkipping line 78891: expected 1 fields, saw 3\\nSkipping line 78938: expected 1 fields, saw 2\\nSkipping line 79112: expected 1 fields, saw 3\\nSkipping line 86909: expected 1 fields, saw 3\\nSkipping line 86918: expected 1 fields, saw 2\\nSkipping line 86927: expected 1 fields, saw 3\\nSkipping line 86929: expected 1 fields, saw 7\\nSkipping line 87011: expected 1 fields, saw 2\\nSkipping line 87055: expected 1 fields, saw 2\\nSkipping line 87077: expected 1 fields, saw 2\\nSkipping line 87115: expected 1 fields, saw 2\\nSkipping line 87331: expected 1 fields, saw 2\\nSkipping line 87337: expected 1 fields, saw 2\\nSkipping line 87339: expected 1 fields, saw 4\\nSkipping line 87467: expected 1 fields, saw 2\\nSkipping line 87486: expected 1 fields, saw 3\\nSkipping line 87494: expected 1 fields, saw 2\\nSkipping line 87541: expected 1 fields, saw 2\\nSkipping line 87629: expected 1 fields, saw 3\\nSkipping line 87642: expected 1 fields, saw 3\\nSkipping line 87643: expected 1 fields, saw 4\\nSkipping line 87649: expected 1 fields, saw 4\\nSkipping line 87657: expected 1 fields, saw 3\\nSkipping line 87737: expected 1 fields, saw 4\\nSkipping line 87743: expected 1 fields, saw 3\\nSkipping line 87816: expected 1 fields, saw 2\\nSkipping line 87829: expected 1 fields, saw 2\\nSkipping line 87900: expected 1 fields, saw 3\\nSkipping line 87905: expected 1 fields, saw 3\\nSkipping line 87910: expected 1 fields, saw 3\\nSkipping line 87918: expected 1 fields, saw 2\\nSkipping line 87945: expected 1 fields, saw 2\\nSkipping line 87948: expected 1 fields, saw 2\\nSkipping line 88013: expected 1 fields, saw 3\\nSkipping line 88028: expected 1 fields, saw 2\\nSkipping line 88142: expected 1 fields, saw 2\\nSkipping line 88154: expected 1 fields, saw 2\\nSkipping line 88187: expected 1 fields, saw 2\\nSkipping line 88217: expected 1 fields, saw 2\\nSkipping line 88222: expected 1 fields, saw 2\\nSkipping line 88238: expected 1 fields, saw 5\\nSkipping line 88289: expected 1 fields, saw 3\\nSkipping line 88343: expected 1 fields, saw 2\\nSkipping line 88442: expected 1 fields, saw 3\\nSkipping line 88465: expected 1 fields, saw 2\\nSkipping line 88505: expected 1 fields, saw 2\\nSkipping line 88534: expected 1 fields, saw 3\\nSkipping line 88547: expected 1 fields, saw 2\\nSkipping line 88548: expected 1 fields, saw 3\\nSkipping line 88558: expected 1 fields, saw 2\\nSkipping line 88665: expected 1 fields, saw 2\\nSkipping line 88669: expected 1 fields, saw 3\\nSkipping line 88749: expected 1 fields, saw 3\\nSkipping line 88767: expected 1 fields, saw 2\\nSkipping line 88778: expected 1 fields, saw 3\\nSkipping line 88793: expected 1 fields, saw 2\\nSkipping line 88800: expected 1 fields, saw 2\\nSkipping line 88804: expected 1 fields, saw 2\\nSkipping line 88806: expected 1 fields, saw 3\\nSkipping line 88808: expected 1 fields, saw 3\\nSkipping line 88821: expected 1 fields, saw 2\\nSkipping line 88832: expected 1 fields, saw 2\\nSkipping line 88849: expected 1 fields, saw 2\\nSkipping line 88860: expected 1 fields, saw 3\\nSkipping line 88869: expected 1 fields, saw 2\\nSkipping line 88883: expected 1 fields, saw 5\\nSkipping line 88885: expected 1 fields, saw 2\\nSkipping line 88929: expected 1 fields, saw 5\\nSkipping line 89048: expected 1 fields, saw 2\\nSkipping line 89064: expected 1 fields, saw 2\\nSkipping line 89104: expected 1 fields, saw 2\\nSkipping line 89108: expected 1 fields, saw 2\\nSkipping line 89157: expected 1 fields, saw 2\\nSkipping line 89170: expected 1 fields, saw 2\\nSkipping line 89305: expected 1 fields, saw 2\\nSkipping line 89315: expected 1 fields, saw 3\\nSkipping line 89319: expected 1 fields, saw 3\\nSkipping line 89404: expected 1 fields, saw 2\\nSkipping line 89405: expected 1 fields, saw 2\\nSkipping line 89452: expected 1 fields, saw 2\\nSkipping line 89453: expected 1 fields, saw 2\\nSkipping line 89488: expected 1 fields, saw 4\\nSkipping line 89489: expected 1 fields, saw 4\\nSkipping line 89495: expected 1 fields, saw 2\\nSkipping line 89496: expected 1 fields, saw 2\\nSkipping line 89516: expected 1 fields, saw 2\\nSkipping line 89594: expected 1 fields, saw 4\\nSkipping line 90062: expected 1 fields, saw 2\\nSkipping line 90131: expected 1 fields, saw 2\\nSkipping line 90400: expected 1 fields, saw 2\\nSkipping line 90466: expected 1 fields, saw 2\\nSkipping line 90631: expected 1 fields, saw 2\\nSkipping line 90699: expected 1 fields, saw 2\\nSkipping line 90725: expected 1 fields, saw 2\\nSkipping line 90756: expected 1 fields, saw 2\\nSkipping line 91005: expected 1 fields, saw 2\\nSkipping line 91044: expected 1 fields, saw 2\\nSkipping line 91045: expected 1 fields, saw 2\\nSkipping line 91052: expected 1 fields, saw 2\\nSkipping line 91053: expected 1 fields, saw 2\\nSkipping line 91057: expected 1 fields, saw 2\\nSkipping line 91058: expected 1 fields, saw 2\\nSkipping line 91060: expected 1 fields, saw 2\\nSkipping line 91061: expected 1 fields, saw 2\\nSkipping line 91069: expected 1 fields, saw 2\\nSkipping line 91070: expected 1 fields, saw 3\\nSkipping line 91074: expected 1 fields, saw 2\\nSkipping line 91081: expected 1 fields, saw 2\\nSkipping line 91084: expected 1 fields, saw 2\\nSkipping line 91089: expected 1 fields, saw 3\\nSkipping line 91093: expected 1 fields, saw 2\\nSkipping line 91095: expected 1 fields, saw 2\\nSkipping line 91098: expected 1 fields, saw 2\\nSkipping line 91101: expected 1 fields, saw 3\\nSkipping line 91106: expected 1 fields, saw 2\\nSkipping line 91111: expected 1 fields, saw 2\\nSkipping line 91114: expected 1 fields, saw 2\\nSkipping line 91120: expected 1 fields, saw 2\\nSkipping line 91123: expected 1 fields, saw 2\\nSkipping line 91124: expected 1 fields, saw 2\\nSkipping line 91128: expected 1 fields, saw 2\\nSkipping line 91129: expected 1 fields, saw 2\\nSkipping line 91132: expected 1 fields, saw 2\\nSkipping line 91137: expected 1 fields, saw 2\\nSkipping line 91143: expected 1 fields, saw 3\\nSkipping line 91144: expected 1 fields, saw 2\\nSkipping line 91145: expected 1 fields, saw 2\\nSkipping line 91149: expected 1 fields, saw 2\\nSkipping line 91152: expected 1 fields, saw 2\\nSkipping line 91155: expected 1 fields, saw 2\\nSkipping line 91157: expected 1 fields, saw 2\\nSkipping line 91158: expected 1 fields, saw 2\\nSkipping line 91165: expected 1 fields, saw 2\\nSkipping line 91173: expected 1 fields, saw 2\\nSkipping line 91174: expected 1 fields, saw 2\\nSkipping line 91184: expected 1 fields, saw 2\\nSkipping line 91185: expected 1 fields, saw 2\\nSkipping line 91187: expected 1 fields, saw 2\\nSkipping line 91209: expected 1 fields, saw 2\\nSkipping line 91214: expected 1 fields, saw 2\\nSkipping line 91221: expected 1 fields, saw 2\\nSkipping line 91227: expected 1 fields, saw 2\\nSkipping line 91246: expected 1 fields, saw 2\\nSkipping line 91261: expected 1 fields, saw 2\\nSkipping line 91269: expected 1 fields, saw 2\\nSkipping line 91271: expected 1 fields, saw 2\\nSkipping line 91272: expected 1 fields, saw 2\\nSkipping line 91275: expected 1 fields, saw 2\\nSkipping line 91279: expected 1 fields, saw 2\\nSkipping line 91282: expected 1 fields, saw 3\\nSkipping line 91283: expected 1 fields, saw 2\\nSkipping line 91285: expected 1 fields, saw 2\\nSkipping line 91286: expected 1 fields, saw 3\\nSkipping line 91287: expected 1 fields, saw 2\\nSkipping line 91290: expected 1 fields, saw 2\\nSkipping line 91295: expected 1 fields, saw 2\\nSkipping line 91296: expected 1 fields, saw 2\\nSkipping line 91304: expected 1 fields, saw 3\\nSkipping line 91306: expected 1 fields, saw 3\\nSkipping line 91307: expected 1 fields, saw 3\\nSkipping line 91308: expected 1 fields, saw 4\\nSkipping line 91318: expected 1 fields, saw 2\\nSkipping line 91322: expected 1 fields, saw 2\\nSkipping line 91323: expected 1 fields, saw 2\\nSkipping line 91324: expected 1 fields, saw 2\\nSkipping line 91329: expected 1 fields, saw 3\\nSkipping line 91338: expected 1 fields, saw 2\\nSkipping line 91341: expected 1 fields, saw 2\\nSkipping line 91342: expected 1 fields, saw 3\\nSkipping line 91351: expected 1 fields, saw 2\\nSkipping line 91367: expected 1 fields, saw 2\\nSkipping line 91372: expected 1 fields, saw 2\\nSkipping line 91379: expected 1 fields, saw 2\\nSkipping line 91395: expected 1 fields, saw 2\\nSkipping line 91398: expected 1 fields, saw 2\\nSkipping line 91411: expected 1 fields, saw 2\\nSkipping line 91434: expected 1 fields, saw 2\\nSkipping line 91442: expected 1 fields, saw 2\\nSkipping line 91446: expected 1 fields, saw 2\\nSkipping line 91452: expected 1 fields, saw 3\\nSkipping line 91453: expected 1 fields, saw 3\\nSkipping line 91458: expected 1 fields, saw 2\\nSkipping line 91460: expected 1 fields, saw 2\\nSkipping line 91471: expected 1 fields, saw 2\\nSkipping line 91486: expected 1 fields, saw 2\\nSkipping line 91575: expected 1 fields, saw 2\\nSkipping line 91917: expected 1 fields, saw 2\\nSkipping line 91937: expected 1 fields, saw 4\\nSkipping line 92543: expected 1 fields, saw 2\\nSkipping line 92611: expected 1 fields, saw 2\\nSkipping line 92641: expected 1 fields, saw 2\\nSkipping line 92650: expected 1 fields, saw 2\\nSkipping line 92652: expected 1 fields, saw 2\\nSkipping line 92680: expected 1 fields, saw 2\\nSkipping line 92685: expected 1 fields, saw 2\\nSkipping line 92716: expected 1 fields, saw 2\\nSkipping line 92753: expected 1 fields, saw 2\\nSkipping line 92793: expected 1 fields, saw 2\\nSkipping line 92838: expected 1 fields, saw 2\\nSkipping line 92855: expected 1 fields, saw 2\\nSkipping line 92859: expected 1 fields, saw 2\\nSkipping line 92886: expected 1 fields, saw 2\\nSkipping line 92938: expected 1 fields, saw 2\\nSkipping line 92943: expected 1 fields, saw 2\\nSkipping line 92946: expected 1 fields, saw 2\\nSkipping line 92947: expected 1 fields, saw 2\\nSkipping line 92948: expected 1 fields, saw 2\\nSkipping line 92950: expected 1 fields, saw 2\\nSkipping line 92954: expected 1 fields, saw 2\\nSkipping line 92988: expected 1 fields, saw 2\\nSkipping line 93027: expected 1 fields, saw 2\\nSkipping line 93033: expected 1 fields, saw 2\\nSkipping line 93185: expected 1 fields, saw 2\\nSkipping line 93193: expected 1 fields, saw 2\\nSkipping line 93198: expected 1 fields, saw 2\\nSkipping line 93231: expected 1 fields, saw 2\\nSkipping line 93306: expected 1 fields, saw 2\\n'\n"
          ],
          "name": "stderr"
        },
        {
          "output_type": "execute_result",
          "data": {
            "text/html": [
              "<div>\n",
              "<style scoped>\n",
              "    .dataframe tbody tr th:only-of-type {\n",
              "        vertical-align: middle;\n",
              "    }\n",
              "\n",
              "    .dataframe tbody tr th {\n",
              "        vertical-align: top;\n",
              "    }\n",
              "\n",
              "    .dataframe thead th {\n",
              "        text-align: right;\n",
              "    }\n",
              "</style>\n",
              "<table border=\"1\" class=\"dataframe\">\n",
              "  <thead>\n",
              "    <tr style=\"text-align: right;\">\n",
              "      <th></th>\n",
              "      <th>1;ACRIMONY;মেজাজের রুক্ষতা;Mējājēra rukṣatā;[\"HARMONY\"]</th>\n",
              "    </tr>\n",
              "  </thead>\n",
              "  <tbody>\n",
              "    <tr>\n",
              "      <th>0</th>\n",
              "      <td>2;ACRYLICS;এক্রাইলিক;Ēkrā'ilika;null</td>\n",
              "    </tr>\n",
              "    <tr>\n",
              "      <th>1</th>\n",
              "      <td>3;AGENDAS;বিষয়সূচি;Biṣaẏasūci;null</td>\n",
              "    </tr>\n",
              "    <tr>\n",
              "      <th>2</th>\n",
              "      <td>4;ABHORRENT;জঘন্য;Jaghan'ya;[\"DESIRABLE\"]</td>\n",
              "    </tr>\n",
              "    <tr>\n",
              "      <th>3</th>\n",
              "      <td>5;ABORIGINALS;প্রাসঙ্গিক;Prāsaṅgika;[\"NONNATIVE\"]</td>\n",
              "    </tr>\n",
              "    <tr>\n",
              "      <th>4</th>\n",
              "      <td>6;ABERRATED;বিপথগামী হত্তয়া;Bipathagāmī hattaẏ...</td>\n",
              "    </tr>\n",
              "  </tbody>\n",
              "</table>\n",
              "</div>"
            ],
            "text/plain": [
              "  1;ACRIMONY;মেজাজের রুক্ষতা;Mējājēra rukṣatā;[\"HARMONY\"]\n",
              "0               2;ACRYLICS;এক্রাইলিক;Ēkrā'ilika;null     \n",
              "1                 3;AGENDAS;বিষয়সূচি;Biṣaẏasūci;null     \n",
              "2          4;ABHORRENT;জঘন্য;Jaghan'ya;[\"DESIRABLE\"]     \n",
              "3  5;ABORIGINALS;প্রাসঙ্গিক;Prāsaṅgika;[\"NONNATIVE\"]     \n",
              "4  6;ABERRATED;বিপথগামী হত্তয়া;Bipathagāmī hattaẏ...     "
            ]
          },
          "metadata": {
            "tags": []
          },
          "execution_count": 11
        }
      ]
    },
    {
      "cell_type": "code",
      "metadata": {
        "id": "FvAJ8SQGsTL_",
        "colab_type": "code",
        "colab": {
          "base_uri": "https://localhost:8080/",
          "height": 197
        },
        "outputId": "09f6944b-4289-4ee2-ba9f-77bcb89f00fb"
      },
      "source": [
        "Restaurant_Reviews =  pd.read_csv('/content/drive/My Drive/datasets/Restaurant_Reviews.tsv', delimiter='\\t', quoting=3)\n",
        "Restaurant_Reviews.head()"
      ],
      "execution_count": 13,
      "outputs": [
        {
          "output_type": "execute_result",
          "data": {
            "text/html": [
              "<div>\n",
              "<style scoped>\n",
              "    .dataframe tbody tr th:only-of-type {\n",
              "        vertical-align: middle;\n",
              "    }\n",
              "\n",
              "    .dataframe tbody tr th {\n",
              "        vertical-align: top;\n",
              "    }\n",
              "\n",
              "    .dataframe thead th {\n",
              "        text-align: right;\n",
              "    }\n",
              "</style>\n",
              "<table border=\"1\" class=\"dataframe\">\n",
              "  <thead>\n",
              "    <tr style=\"text-align: right;\">\n",
              "      <th></th>\n",
              "      <th>Review</th>\n",
              "      <th>Liked</th>\n",
              "    </tr>\n",
              "  </thead>\n",
              "  <tbody>\n",
              "    <tr>\n",
              "      <th>0</th>\n",
              "      <td>Wow... Loved this place.</td>\n",
              "      <td>1</td>\n",
              "    </tr>\n",
              "    <tr>\n",
              "      <th>1</th>\n",
              "      <td>Crust is not good.</td>\n",
              "      <td>0</td>\n",
              "    </tr>\n",
              "    <tr>\n",
              "      <th>2</th>\n",
              "      <td>Not tasty and the texture was just nasty.</td>\n",
              "      <td>0</td>\n",
              "    </tr>\n",
              "    <tr>\n",
              "      <th>3</th>\n",
              "      <td>Stopped by during the late May bank holiday of...</td>\n",
              "      <td>1</td>\n",
              "    </tr>\n",
              "    <tr>\n",
              "      <th>4</th>\n",
              "      <td>The selection on the menu was great and so wer...</td>\n",
              "      <td>1</td>\n",
              "    </tr>\n",
              "  </tbody>\n",
              "</table>\n",
              "</div>"
            ],
            "text/plain": [
              "                                              Review  Liked\n",
              "0                           Wow... Loved this place.      1\n",
              "1                                 Crust is not good.      0\n",
              "2          Not tasty and the texture was just nasty.      0\n",
              "3  Stopped by during the late May bank holiday of...      1\n",
              "4  The selection on the menu was great and so wer...      1"
            ]
          },
          "metadata": {
            "tags": []
          },
          "execution_count": 13
        }
      ]
    },
    {
      "cell_type": "code",
      "metadata": {
        "id": "Jzou7g1ztAAK",
        "colab_type": "code",
        "colab": {
          "base_uri": "https://localhost:8080/",
          "height": 217
        },
        "outputId": "321b71ee-2e32-49af-d57a-e329b792f2cc"
      },
      "source": [
        "Restaurant_Reviews"
      ],
      "execution_count": 16,
      "outputs": [
        {
          "output_type": "execute_result",
          "data": {
            "text/plain": [
              "0      1\n",
              "1      0\n",
              "2      0\n",
              "3      1\n",
              "4      1\n",
              "      ..\n",
              "995    0\n",
              "996    0\n",
              "997    0\n",
              "998    0\n",
              "999    0\n",
              "Name: Liked, Length: 1000, dtype: int64"
            ]
          },
          "metadata": {
            "tags": []
          },
          "execution_count": 16
        }
      ]
    },
    {
      "cell_type": "code",
      "metadata": {
        "id": "xYBUXc4ztd0j",
        "colab_type": "code",
        "colab": {}
      },
      "source": [
        "df = Restaurant_Reviews.copy()\n"
      ],
      "execution_count": 20,
      "outputs": []
    },
    {
      "cell_type": "code",
      "metadata": {
        "id": "pbKTFHd6tkoZ",
        "colab_type": "code",
        "colab": {
          "base_uri": "https://localhost:8080/",
          "height": 281
        },
        "outputId": "14e1e1d4-4048-48e8-826b-510d7f8c07a4"
      },
      "source": [
        "for i  in range(len(Restaurant_Reviews)):\n",
        "  result = unidecode(translator.translate(Restaurant_Reviews.Review[i], dest='bn').pronunciation)\n",
        "  df.Review[i] = result\n",
        "df.head()"
      ],
      "execution_count": 21,
      "outputs": [
        {
          "output_type": "stream",
          "text": [
            "/usr/local/lib/python3.6/dist-packages/ipykernel_launcher.py:3: SettingWithCopyWarning: \n",
            "A value is trying to be set on a copy of a slice from a DataFrame\n",
            "\n",
            "See the caveats in the documentation: https://pandas.pydata.org/pandas-docs/stable/user_guide/indexing.html#returning-a-view-versus-a-copy\n",
            "  This is separate from the ipykernel package so we can avoid doing imports until\n"
          ],
          "name": "stderr"
        },
        {
          "output_type": "execute_result",
          "data": {
            "text/html": [
              "<div>\n",
              "<style scoped>\n",
              "    .dataframe tbody tr th:only-of-type {\n",
              "        vertical-align: middle;\n",
              "    }\n",
              "\n",
              "    .dataframe tbody tr th {\n",
              "        vertical-align: top;\n",
              "    }\n",
              "\n",
              "    .dataframe thead th {\n",
              "        text-align: right;\n",
              "    }\n",
              "</style>\n",
              "<table border=\"1\" class=\"dataframe\">\n",
              "  <thead>\n",
              "    <tr style=\"text-align: right;\">\n",
              "      <th></th>\n",
              "      <th>Review</th>\n",
              "      <th>Liked</th>\n",
              "    </tr>\n",
              "  </thead>\n",
              "  <tbody>\n",
              "    <tr>\n",
              "      <th>0</th>\n",
              "      <td>Baha... E'i jayaga pachanda.</td>\n",
              "      <td>1</td>\n",
              "    </tr>\n",
              "    <tr>\n",
              "      <th>1</th>\n",
              "      <td>Bhutbaka bhala na.</td>\n",
              "      <td>0</td>\n",
              "    </tr>\n",
              "    <tr>\n",
              "      <th>2</th>\n",
              "      <td>Susbadu naya ebam teksacarati kebala adbhuta c...</td>\n",
              "      <td>0</td>\n",
              "    </tr>\n",
              "    <tr>\n",
              "      <th>3</th>\n",
              "      <td>Rika stibhera suparisa bandha kare me masera s...</td>\n",
              "      <td>1</td>\n",
              "    </tr>\n",
              "    <tr>\n",
              "      <th>4</th>\n",
              "      <td>Menute nirbacana durdanta chila ebam damaguli'...</td>\n",
              "      <td>1</td>\n",
              "    </tr>\n",
              "  </tbody>\n",
              "</table>\n",
              "</div>"
            ],
            "text/plain": [
              "                                              Review  Liked\n",
              "0                       Baha... E'i jayaga pachanda.      1\n",
              "1                                 Bhutbaka bhala na.      0\n",
              "2  Susbadu naya ebam teksacarati kebala adbhuta c...      0\n",
              "3  Rika stibhera suparisa bandha kare me masera s...      1\n",
              "4  Menute nirbacana durdanta chila ebam damaguli'...      1"
            ]
          },
          "metadata": {
            "tags": []
          },
          "execution_count": 21
        }
      ]
    },
    {
      "cell_type": "code",
      "metadata": {
        "id": "QlmA3zfZyChK",
        "colab_type": "code",
        "colab": {}
      },
      "source": [
        "df.to_csv('banglish_Restaurant_Review.csv')"
      ],
      "execution_count": 22,
      "outputs": []
    },
    {
      "cell_type": "code",
      "metadata": {
        "id": "1mh7YAd8zMSP",
        "colab_type": "code",
        "colab": {}
      },
      "source": [
        ""
      ],
      "execution_count": null,
      "outputs": []
    }
  ]
}